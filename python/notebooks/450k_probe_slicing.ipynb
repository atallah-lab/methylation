{
 "cells": [
  {
   "cell_type": "markdown",
   "metadata": {},
   "source": [
    "### Routines to slice and dice a set of 450k probes... \n",
    "#### NOTE: Go to the last cell in this notebook *first* and import that. "
   ]
  },
  {
   "cell_type": "code",
   "execution_count": 1,
   "metadata": {},
   "outputs": [
    {
     "data": {
      "text/plain": [
       "'BH-A1F5-BRCA'"
      ]
     },
     "execution_count": 1,
     "metadata": {},
     "output_type": "execute_result"
    }
   ],
   "source": [
    "pickle_base = '../../data/pickle/'\n",
    "tissue      = 'BRCA'\n",
    "directory   = tissue + '-PAIRED/'\n",
    "minor       = 'BH'\n",
    "major       = 'A1F5'\n",
    "\n",
    "TCGA   = {\"LUSC\": ['43-6771', '18-5595', '22-5471', '39-5031', '33-4589', '33-4586'],\n",
    "          \"LUAD\": ['50-5931', '15-5420', '38-4631', '49-4488', '50-5932', '50-5935'],\n",
    "          \"COAD\": ['AA-3697', 'AA-3713', 'AA-3506', 'AZ-6599', 'A6-2686', 'A6-2682'],\n",
    "          \"BRCA\": ['BH-A0BZ', 'BH-A1EN', 'BH-A1F5', 'E2-A1IO'],          \n",
    "          \"GBM\":  ['74-6573', '06-0152']}\n",
    "    \n",
    "anno_str       = 'Illumina-450k-Anno.{rev}.{ext}'.format(rev='hg19',ext='pkl')\n",
    "file_str_picl  = 'TCGA-{minor}-{major}-{tissue}.{ext}'.format(minor=minor,\n",
    "                                                                major=major,\n",
    "                                                                tissue=tissue,\n",
    "                                                                ext='pkl')\n",
    "file_str_picl[5:-4]\n",
    "#file_str_picl.title()[5:-9]"
   ]
  },
  {
   "cell_type": "code",
   "execution_count": 17,
   "metadata": {},
   "outputs": [
    {
     "name": "stdout",
     "output_type": "stream",
     "text": [
      "loading Illumina-450k-Anno.hg19 ...\n",
      "482421\n"
     ]
    }
   ],
   "source": [
    "annotation  = load_obj(anno_str[:-4]) # load the saved annotation file\n",
    "print (len(annotation.probe))"
   ]
  },
  {
   "cell_type": "code",
   "execution_count": 7,
   "metadata": {},
   "outputs": [],
   "source": [
    "class Probe:\n",
    "    \"\"\"\n",
    "    Holds probe data for a single CpG site.\n",
    "    \"\"\"\n",
    "    def __init__(self):\n",
    "        self.id = None\n",
    "        self.seq = None\n",
    "        self.name = None\n",
    "        self.chr = None\n",
    "        self.gene = None\n",
    "        self.strand = None\n",
    "        self.refseq = None\n",
    "        self.feature = None\n",
    "        self.tour = None\n",
    "        self.hg19_cord = None\n",
    "        self.hg38_cord = None\n",
    "        self.GDC_gene = None\n",
    "        self.GDC_cgi_cord = None\n",
    "        self.GDC_beta_normal =  None \n",
    "        self.GDC_beta_tumor = None \n",
    "        self.GDC_gene_type = None"
   ]
  },
  {
   "cell_type": "code",
   "execution_count": 8,
   "metadata": {},
   "outputs": [],
   "source": [
    "import _pickle as pickle\n",
    "\n",
    "def load_obj(name):\n",
    "    print('loading ' + name + ' ...')\n",
    "    with open('../../data/pickle/' + name + '.pkl', 'rb') as f:\n",
    "        return pickle.load(f)"
   ]
  },
  {
   "cell_type": "code",
   "execution_count": 13,
   "metadata": {},
   "outputs": [
    {
     "name": "stdout",
     "output_type": "stream",
     "text": [
      "loading TCGA-BH-A1F5-BRCA ...\n",
      "['__class__', '__contains__', '__delattr__', '__delitem__', '__dir__', '__doc__', '__eq__', '__format__', '__ge__', '__getattribute__', '__getitem__', '__gt__', '__hash__', '__init__', '__init_subclass__', '__iter__', '__le__', '__len__', '__lt__', '__ne__', '__new__', '__reduce__', '__reduce_ex__', '__repr__', '__setattr__', '__setitem__', '__sizeof__', '__str__', '__subclasshook__', 'clear', 'copy', 'fromkeys', 'get', 'items', 'keys', 'pop', 'popitem', 'setdefault', 'update', 'values']\n"
     ]
    }
   ],
   "source": [
    "methyl  = load_obj(file_str_picl[:-4])\n",
    "print (dir(methyl))"
   ]
  },
  {
   "cell_type": "code",
   "execution_count": 12,
   "metadata": {},
   "outputs": [
    {
     "data": {
      "text/plain": [
       "0.108354889450899"
      ]
     },
     "execution_count": 12,
     "metadata": {},
     "output_type": "execute_result"
    }
   ],
   "source": [
    "methyl['cg00000029'].Beta_Normal"
   ]
  },
  {
   "cell_type": "code",
   "execution_count": 172,
   "metadata": {},
   "outputs": [],
   "source": [
    "import pandas as pd\n",
    "\n",
    "# Convert methyl dictionary to Pandas dataframe\n",
    "methyl_df = pd.DataFrame(list(methyl.items()), \n",
    "                         columns=['Ref_Id', 'Probe'])\n",
    "methyl_df.shape\n",
    "methyl_df.index.name = file_str_picl[5:-4]"
   ]
  },
  {
   "cell_type": "code",
   "execution_count": 5,
   "metadata": {},
   "outputs": [],
   "source": [
    "import pandas as pd\n",
    "\n",
    "def _range(probes, start, end):\n",
    "    '''\n",
    "    Return an unsorted range of probes. \n",
    "    Equivalent to df.head() at any starting location. \n",
    "    '''\n",
    "    if type(probes) is pd.core.frame.DataFrame:\n",
    "        return probes.iloc[start:end]\n",
    "    else:\n",
    "        return dict(list(probes.items())[start:end])\n",
    "\n",
    "def sort_range_by_refid(probes):\n",
    "    '''\n",
    "    Return dict of range of probes, sorted by refid.\n",
    "    Call _range function first to limit scope.\n",
    "    '''\n",
    "    if type(probes) is pd.core.frame.DataFrame:\n",
    "        pass # handle df instance\n",
    "    else:\n",
    "        return dict(sorted(list(probes.items())))\n",
    "\n",
    "def sort_range_by_coordinate(probes):\n",
    "    '''\n",
    "    Return dict of range of probes, sorted by coordinate.\n",
    "    Call _range function first to limit scope.\n",
    "    '''\n",
    "    if type(probes) is pd.core.frame.DataFrame:\n",
    "        pass # handle df instance\n",
    "    else:\n",
    "        return dict(sorted(list(probes.items()), \n",
    "                       key=lambda item: item[1].cord))\n",
    "\n",
    "def get_probes_by_chr(probes, chrom):\n",
    "    \"\"\"\n",
    "    Return a dict of probes by chromosome.\n",
    "    Call _range function first to limit scope.\n",
    "    \"\"\" \n",
    "    if type(probes) is pd.core.frame.DataFrame:\n",
    "        pass # handle df instance\n",
    "    else:\n",
    "        return {p: probes[p] for p in probes \n",
    "                if probes[p].chr == chrom}\n",
    "\n",
    "def get_probes_by_location(probes, interval):\n",
    "    \"\"\"\n",
    "    Return a dict of probes by location.\n",
    "    Call _range function first to limit scope.\n",
    "    \"\"\"\n",
    "    chrom = interval.chr\n",
    "    \n",
    "    if type(probes) is pd.core.frame.DataFrame:\n",
    "        pass # handle df instance\n",
    "    else:\n",
    "        probe_dict = {k: probes[k] for k in probes if\n",
    "                     probes[k].chr == chrom and start < probes[k].cord < end}\n",
    "        return probe_dict"
   ]
  },
  {
   "cell_type": "markdown",
   "metadata": {},
   "source": [
    "The following methods work when passed either a dictionary or a dataframe."
   ]
  },
  {
   "cell_type": "code",
   "execution_count": 14,
   "metadata": {},
   "outputs": [],
   "source": [
    "start = 0\n",
    "end = 10\n",
    "\n",
    "probe_slice_dict = _range(annotation.probe, start, end) # dict of the first 10 entries.\n",
    "#probe_slice_df = _range(methyl_df, start, end) # df of the first 10 entries."
   ]
  },
  {
   "cell_type": "code",
   "execution_count": 16,
   "metadata": {},
   "outputs": [
    {
     "ename": "AttributeError",
     "evalue": "'Probe' object has no attribute 'hg38_cord'",
     "output_type": "error",
     "traceback": [
      "\u001b[0;31m---------------------------------------------------------------------------\u001b[0m",
      "\u001b[0;31mAttributeError\u001b[0m                            Traceback (most recent call last)",
      "\u001b[0;32m<ipython-input-16-33d626dd7078>\u001b[0m in \u001b[0;36m<module>\u001b[0;34m\u001b[0m\n\u001b[1;32m      1\u001b[0m \u001b[0;32mfor\u001b[0m \u001b[0mkey\u001b[0m \u001b[0;32min\u001b[0m \u001b[0mlist\u001b[0m\u001b[0;34m(\u001b[0m\u001b[0mprobe_slice_dict\u001b[0m\u001b[0;34m.\u001b[0m\u001b[0mkeys\u001b[0m\u001b[0;34m(\u001b[0m\u001b[0;34m)\u001b[0m\u001b[0;34m)\u001b[0m\u001b[0;34m:\u001b[0m\u001b[0;34m\u001b[0m\u001b[0;34m\u001b[0m\u001b[0m\n\u001b[0;32m----> 2\u001b[0;31m     \u001b[0mprint\u001b[0m \u001b[0;34m(\u001b[0m\u001b[0mprobe_slice_dict\u001b[0m\u001b[0;34m[\u001b[0m\u001b[0mkey\u001b[0m\u001b[0;34m]\u001b[0m\u001b[0;34m.\u001b[0m\u001b[0mhg38_cord\u001b[0m\u001b[0;34m)\u001b[0m\u001b[0;34m\u001b[0m\u001b[0;34m\u001b[0m\u001b[0m\n\u001b[0m",
      "\u001b[0;31mAttributeError\u001b[0m: 'Probe' object has no attribute 'hg38_cord'"
     ]
    }
   ],
   "source": [
    "for key in list(probe_slice_dict.keys()):\n",
    "    print (probe_slice_dict[key])"
   ]
  },
  {
   "cell_type": "code",
   "execution_count": 182,
   "metadata": {},
   "outputs": [
    {
     "data": {
      "text/html": [
       "<div>\n",
       "<style scoped>\n",
       "    .dataframe tbody tr th:only-of-type {\n",
       "        vertical-align: middle;\n",
       "    }\n",
       "\n",
       "    .dataframe tbody tr th {\n",
       "        vertical-align: top;\n",
       "    }\n",
       "\n",
       "    .dataframe thead th {\n",
       "        text-align: right;\n",
       "    }\n",
       "</style>\n",
       "<table border=\"1\" class=\"dataframe\">\n",
       "  <thead>\n",
       "    <tr style=\"text-align: right;\">\n",
       "      <th></th>\n",
       "      <th>Ref_Id</th>\n",
       "      <th>Probe</th>\n",
       "    </tr>\n",
       "    <tr>\n",
       "      <th>BH-A1F5-BRCA</th>\n",
       "      <th></th>\n",
       "      <th></th>\n",
       "    </tr>\n",
       "  </thead>\n",
       "  <tbody>\n",
       "    <tr>\n",
       "      <th>0</th>\n",
       "      <td>cg00000029</td>\n",
       "      <td>&lt;__main__.Probe object at 0x1948d98d0&gt;</td>\n",
       "    </tr>\n",
       "    <tr>\n",
       "      <th>1</th>\n",
       "      <td>cg00000165</td>\n",
       "      <td>&lt;__main__.Probe object at 0x1948d9518&gt;</td>\n",
       "    </tr>\n",
       "    <tr>\n",
       "      <th>2</th>\n",
       "      <td>cg00000289</td>\n",
       "      <td>&lt;__main__.Probe object at 0x1948d94a8&gt;</td>\n",
       "    </tr>\n",
       "    <tr>\n",
       "      <th>3</th>\n",
       "      <td>cg00000363</td>\n",
       "      <td>&lt;__main__.Probe object at 0x1948d92e8&gt;</td>\n",
       "    </tr>\n",
       "    <tr>\n",
       "      <th>4</th>\n",
       "      <td>cg00000658</td>\n",
       "      <td>&lt;__main__.Probe object at 0x1948d9240&gt;</td>\n",
       "    </tr>\n",
       "  </tbody>\n",
       "</table>\n",
       "</div>"
      ],
      "text/plain": [
       "                  Ref_Id                                   Probe\n",
       "BH-A1F5-BRCA                                                    \n",
       "0             cg00000029  <__main__.Probe object at 0x1948d98d0>\n",
       "1             cg00000165  <__main__.Probe object at 0x1948d9518>\n",
       "2             cg00000289  <__main__.Probe object at 0x1948d94a8>\n",
       "3             cg00000363  <__main__.Probe object at 0x1948d92e8>\n",
       "4             cg00000658  <__main__.Probe object at 0x1948d9240>"
      ]
     },
     "execution_count": 182,
     "metadata": {},
     "output_type": "execute_result"
    }
   ],
   "source": [
    "probe_slice_df"
   ]
  },
  {
   "cell_type": "code",
   "execution_count": 1,
   "metadata": {},
   "outputs": [],
   "source": [
    "# %load '../methylator/annotation/annotate_450k.py'\n",
    "import os\n",
    "\n",
    "class Probe:\n",
    "    \"\"\"\n",
    "    Holds Illumina 450k probe info for a single CpG site.\n",
    "    \"\"\"\n",
    "    def __init__(self):\n",
    "        self.id = None\n",
    "        self.seq = None\n",
    "        self.name = None\n",
    "        self.chr = None\n",
    "        self.hg19_cord = None\n",
    "        self.strand = None\n",
    "        self.gene = None\n",
    "        self.refseq = None\n",
    "        self.tour = None\n",
    "        self.feature = None\n",
    "        \n",
    "class Interval:\n",
    "    \"\"\"\n",
    "    Define a genomic interval by chromsome and strand orientation.\n",
    "    \"\"\"\n",
    "    def __init__(self, chromosome, start, end, strand):\n",
    "        self.chr = chromosome\n",
    "        self.start = start\n",
    "        self.end = end\n",
    "        self.strand = strand\n",
    "\n",
    "class Feature:\n",
    "    \"\"\"\n",
    "    Define a Probe feature.\n",
    "    \"\"\"\n",
    "    BODY = \"Body\"\n",
    "    TSS200 = \"TSS200\"\n",
    "    TSS1500 = \"TSS1500\"\n",
    "    UTR5 = \"5'UTR\"\n",
    "    UTR3 = \"3'UTR\"\n",
    "    EXON = \"Exon\"\n",
    "\n",
    "class CpG_location:\n",
    "    \"\"\"\n",
    "    Defines a CpG location.\n",
    "    \"\"\"\n",
    "    ISLAND = \"Island\"\n",
    "    NSHORE = \"N_Shore\"\n",
    "    SSHORE = \"S_Shore\"\n",
    "    NSHELF = \"N_Shelf\"\n",
    "    SSHELF = \"S_Shelf\"\n",
    "    \n",
    "class SNP:\n",
    "    \"\"\"\n",
    "    Defines the SNPs in probes. Used to filter probes.\n",
    "    \"\"\"\n",
    "\n",
    "    def __init__(self):\n",
    "        self.probeid = None\n",
    "        self.snpid = None\n",
    "    \n",
    "class Annotate_450k:\n",
    "    \"\"\"\n",
    "    Parse and hold information about Illumina probes.\n",
    "    \"\"\"\n",
    "\n",
    "    def __init__(self):        \n",
    "        for i in open(anno_file, mode=\"r\"):\n",
    "            self.ann = os.path.join(\"../../data/\", i.strip(\"\\n\").strip(\"\\r\"))\n",
    "\n",
    "        self.probe = {}\n",
    "        self.__run__()\n",
    "\n",
    "    def __run__(self):\n",
    "        \"\"\"\n",
    "        A static function to setup the Probe classes.\n",
    "        \"\"\"\n",
    "        for i in open(self.ann, mode=\"r\"):\n",
    "            if i.startswith(\"cg\"):\n",
    "                data = i.split(\",\")\n",
    "                # Assign probe information.\n",
    "                new_probe = Probe()\n",
    "                new_probe.id = data[0]                 # ID\n",
    "                new_probe.name = data[1]               # name\n",
    "                new_probe.seq = data[13]               # sequence prior to bi-sulfite conv.\n",
    "                new_probe.chr = str(data[11])          # chromosome\n",
    "                new_probe.hg19_cord = int(data[12])    # chromosomal coordinates of the CpG.\n",
    "                new_probe.strand = data[16]            # strand\n",
    "                new_probe.gene = data[21].split(\";\")   # UCSC_RefGene_Name\n",
    "                new_probe.refseq = data[22]            # UCSC_RefGene_Accession\n",
    "                features = data[23].split(\";\")         # UCSC_RefGene_Group\n",
    "                list_features = []\n",
    "                for i in features:\n",
    "                    if i not in list_features:\n",
    "                        list_features.append(i)\n",
    "\n",
    "                new_probe.feature = list_features\n",
    "\n",
    "                new_probe.tour = data[25]              # Relation_to_UCSC_CpG_Island\n",
    "                newcpg = {new_probe.id: new_probe}\n",
    "                self.probe.update(newcpg)\n",
    "\n",
    "    def get_number(self):\n",
    "        \"\"\"\n",
    "        Return total number of probes.\n",
    "        \"\"\"\n",
    "        number = 0\n",
    "        for probe_id in self.probe.keys():\n",
    "            number += 1\n",
    "\n",
    "        return number\n",
    "\n",
    "    def get_probe(self, probe_id): #WORKS\n",
    "        \"\"\"\n",
    "        Return probe info associated with an reference.\n",
    "        \"\"\"\n",
    "        try:\n",
    "            probe = self.probe[probe_id]\n",
    "        except Exception as ex:\n",
    "            probe = None\n",
    "            print(\"WARNING: No probe with ref-id of %s found.\" % probe_id)\n",
    "        return probe\n",
    "\n",
    "    def remove_snp_probes(self):\n",
    "        \"\"\"\n",
    "        Removes all SNPs associated with probes.\n",
    "        \"\"\"\n",
    "        snp_list = []\n",
    "        snp_file = open(\"../../data/humanmethylation450_dbsnp137.snpupdate.table.v2.sorted.txt\", \"r\")\n",
    "        for line in snp_file:\n",
    "            if line.startswith(\"cg\"):\n",
    "                line = line.strip(\"\\n\").strip(\"\\r\").split(\"\\t\")\n",
    "                new_snp = SNP()\n",
    "                new_snp.probeid = line[0]\n",
    "                new_snp.snpid = line[1]\n",
    "                snp_list.append(new_snp)\n",
    "\n",
    "        for snp in snp_list:\n",
    "            self.probe.pop(snp.probeid)\n",
    "\n",
    "anno_file = os.path.abspath(\"../../data/config.ini\") # Illumina probe manifest. Note: This (large) file is not \n",
    "                                                     # in the repository.\n",
    "# Functions to save/load dictionary objects. \n",
    "\n",
    "import _pickle as pickle\n",
    "\n",
    "def save_obj(obj, name):\n",
    "    print('saving ' + name + ' ...')\n",
    "    with open('../../data/pickle/'+ name + '.pkl', 'wb+') as f:\n",
    "        pickle.dump(obj, f)\n",
    "        \n",
    "def load_obj(name):\n",
    "    print('loading ' + name + ' ...')\n",
    "    with open('../../data/pickle/' + name + '.pkl', 'rb') as f:\n",
    "        return pickle.load(f)"
   ]
  },
  {
   "cell_type": "code",
   "execution_count": null,
   "metadata": {},
   "outputs": [],
   "source": []
  }
 ],
 "metadata": {
  "kernelspec": {
   "display_name": "Python 3",
   "language": "python",
   "name": "python3"
  },
  "language_info": {
   "codemirror_mode": {
    "name": "ipython",
    "version": 3
   },
   "file_extension": ".py",
   "mimetype": "text/x-python",
   "name": "python",
   "nbconvert_exporter": "python",
   "pygments_lexer": "ipython3",
   "version": "3.6.8"
  }
 },
 "nbformat": 4,
 "nbformat_minor": 2
}
