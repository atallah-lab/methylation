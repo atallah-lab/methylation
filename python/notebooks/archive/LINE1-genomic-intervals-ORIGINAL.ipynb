{
 "cells": [
  {
   "cell_type": "markdown",
   "metadata": {},
   "source": [
    "NOTE: Before running, __go to the last cell__ and run that first."
   ]
  },
  {
   "cell_type": "markdown",
   "metadata": {},
   "source": [
    "The Excel file loaded in the next line is from L1Base (v2), a database containing active LINE-1 (L1) insertions residing in human genomes. (http://l1base.charite.de ). The 'hot' L1s here are referenced to hg38. "
   ]
  },
  {
   "cell_type": "code",
   "execution_count": 1,
   "metadata": {},
   "outputs": [],
   "source": [
    "import pandas as pd\n",
    "import seaborn\n",
    "plot_dict = {} # for the histogram plot at the end of this notebook. initialized once."
   ]
  },
  {
   "cell_type": "code",
   "execution_count": 2,
   "metadata": {},
   "outputs": [],
   "source": [
    "l1base_df = pd.read_excel('../../data/l1base/l1base_hsfli_8438.xlsx')\n",
    "\n",
    "l1base_list = []\n",
    "for index, row in l1base_df.iterrows():\n",
    "    l1base_list.append([row[0], row[1], row[2], row[5], row[6], row[7], row[8], row[9]])\n",
    "\n",
    "headers = ['Chr','Start','End','Strand','ORF1 Start','ORF1 End','ORF2 Start','ORF2 End']\n",
    "l1base_df = pd.DataFrame(l1base_list, columns=headers)"
   ]
  },
  {
   "cell_type": "markdown",
   "metadata": {},
   "source": [
    "The function below slices the contents of the Excel file, by chromosome. "
   ]
  },
  {
   "cell_type": "code",
   "execution_count": 3,
   "metadata": {},
   "outputs": [],
   "source": [
    "def slice_df_by_chrom(df, fields):\n",
    "    '''\n",
    "    Slice a dataframe by chromosome.\n",
    "\n",
    "    :param probe: A dataframe object loaded from l1base_hsfli_8438.xlsx file.\n",
    "    :return: A dictionary of L1 locations keyed by chromosome. \n",
    "    '''\n",
    "    chr_positions = {}\n",
    "    for chr in [1,2,3,4,5,6,7,8,9,10,11,12,13,14,15,16,17,18,20,22,'X','Y']: # chr number\n",
    "        chr_positions[chr] = df.loc[df['Chr']==chr][fields] # slice df\n",
    "    return chr_positions"
   ]
  },
  {
   "cell_type": "code",
   "execution_count": 4,
   "metadata": {},
   "outputs": [
    {
     "name": "stdout",
     "output_type": "stream",
     "text": [
      "Active L1s in chromosome X: \n"
     ]
    },
    {
     "data": {
      "text/html": [
       "<div>\n",
       "<style scoped>\n",
       "    .dataframe tbody tr th:only-of-type {\n",
       "        vertical-align: middle;\n",
       "    }\n",
       "\n",
       "    .dataframe tbody tr th {\n",
       "        vertical-align: top;\n",
       "    }\n",
       "\n",
       "    .dataframe thead th {\n",
       "        text-align: right;\n",
       "    }\n",
       "</style>\n",
       "<table border=\"1\" class=\"dataframe\">\n",
       "  <thead>\n",
       "    <tr style=\"text-align: right;\">\n",
       "      <th></th>\n",
       "      <th>Start</th>\n",
       "      <th>End</th>\n",
       "      <th>ORF1 Start</th>\n",
       "      <th>ORF1 End</th>\n",
       "      <th>ORF2 Start</th>\n",
       "      <th>ORF2 End</th>\n",
       "    </tr>\n",
       "  </thead>\n",
       "  <tbody>\n",
       "    <tr>\n",
       "      <th>132</th>\n",
       "      <td>11706247</td>\n",
       "      <td>11714295</td>\n",
       "      <td>1908</td>\n",
       "      <td>2921</td>\n",
       "      <td>2988</td>\n",
       "      <td>6812</td>\n",
       "    </tr>\n",
       "    <tr>\n",
       "      <th>133</th>\n",
       "      <td>23237515</td>\n",
       "      <td>23245560</td>\n",
       "      <td>1907</td>\n",
       "      <td>2920</td>\n",
       "      <td>2987</td>\n",
       "      <td>6811</td>\n",
       "    </tr>\n",
       "    <tr>\n",
       "      <th>134</th>\n",
       "      <td>142476843</td>\n",
       "      <td>142484883</td>\n",
       "      <td>1909</td>\n",
       "      <td>2919</td>\n",
       "      <td>2986</td>\n",
       "      <td>6810</td>\n",
       "    </tr>\n",
       "    <tr>\n",
       "      <th>135</th>\n",
       "      <td>155523050</td>\n",
       "      <td>155515003</td>\n",
       "      <td>1909</td>\n",
       "      <td>2922</td>\n",
       "      <td>2989</td>\n",
       "      <td>6813</td>\n",
       "    </tr>\n",
       "    <tr>\n",
       "      <th>136</th>\n",
       "      <td>141428248</td>\n",
       "      <td>141420202</td>\n",
       "      <td>1908</td>\n",
       "      <td>2921</td>\n",
       "      <td>2988</td>\n",
       "      <td>6812</td>\n",
       "    </tr>\n",
       "    <tr>\n",
       "      <th>137</th>\n",
       "      <td>96064845</td>\n",
       "      <td>96056798</td>\n",
       "      <td>1909</td>\n",
       "      <td>2922</td>\n",
       "      <td>2989</td>\n",
       "      <td>6813</td>\n",
       "    </tr>\n",
       "    <tr>\n",
       "      <th>138</th>\n",
       "      <td>83066639</td>\n",
       "      <td>83058591</td>\n",
       "      <td>1909</td>\n",
       "      <td>2922</td>\n",
       "      <td>2989</td>\n",
       "      <td>6813</td>\n",
       "    </tr>\n",
       "    <tr>\n",
       "      <th>139</th>\n",
       "      <td>64020288</td>\n",
       "      <td>64012236</td>\n",
       "      <td>1909</td>\n",
       "      <td>2922</td>\n",
       "      <td>2989</td>\n",
       "      <td>6813</td>\n",
       "    </tr>\n",
       "    <tr>\n",
       "      <th>140</th>\n",
       "      <td>54125747</td>\n",
       "      <td>54117700</td>\n",
       "      <td>1909</td>\n",
       "      <td>2922</td>\n",
       "      <td>2989</td>\n",
       "      <td>6813</td>\n",
       "    </tr>\n",
       "    <tr>\n",
       "      <th>141</th>\n",
       "      <td>47790701</td>\n",
       "      <td>47782657</td>\n",
       "      <td>1909</td>\n",
       "      <td>2922</td>\n",
       "      <td>2989</td>\n",
       "      <td>6810</td>\n",
       "    </tr>\n",
       "    <tr>\n",
       "      <th>142</th>\n",
       "      <td>36472219</td>\n",
       "      <td>36464177</td>\n",
       "      <td>1910</td>\n",
       "      <td>2923</td>\n",
       "      <td>2990</td>\n",
       "      <td>6805</td>\n",
       "    </tr>\n",
       "    <tr>\n",
       "      <th>143</th>\n",
       "      <td>34254915</td>\n",
       "      <td>34247263</td>\n",
       "      <td>1910</td>\n",
       "      <td>2923</td>\n",
       "      <td>2990</td>\n",
       "      <td>6418</td>\n",
       "    </tr>\n",
       "    <tr>\n",
       "      <th>144</th>\n",
       "      <td>11942317</td>\n",
       "      <td>11934270</td>\n",
       "      <td>1909</td>\n",
       "      <td>2922</td>\n",
       "      <td>2989</td>\n",
       "      <td>6813</td>\n",
       "    </tr>\n",
       "  </tbody>\n",
       "</table>\n",
       "</div>"
      ],
      "text/plain": [
       "         Start        End  ORF1 Start  ORF1 End  ORF2 Start  ORF2 End\n",
       "132   11706247   11714295        1908      2921        2988      6812\n",
       "133   23237515   23245560        1907      2920        2987      6811\n",
       "134  142476843  142484883        1909      2919        2986      6810\n",
       "135  155523050  155515003        1909      2922        2989      6813\n",
       "136  141428248  141420202        1908      2921        2988      6812\n",
       "137   96064845   96056798        1909      2922        2989      6813\n",
       "138   83066639   83058591        1909      2922        2989      6813\n",
       "139   64020288   64012236        1909      2922        2989      6813\n",
       "140   54125747   54117700        1909      2922        2989      6813\n",
       "141   47790701   47782657        1909      2922        2989      6810\n",
       "142   36472219   36464177        1910      2923        2990      6805\n",
       "143   34254915   34247263        1910      2923        2990      6418\n",
       "144   11942317   11934270        1909      2922        2989      6813"
      ]
     },
     "execution_count": 4,
     "metadata": {},
     "output_type": "execute_result"
    }
   ],
   "source": [
    "# include the following headings in the sliced object\n",
    "headings = ['Start', 'End', 'ORF1 Start', 'ORF1 End', 'ORF2 Start', 'ORF2 End']\n",
    "\n",
    "chr_dict = slice_df_by_chrom(l1base_df, headings)\n",
    "\n",
    "ch='X' # which chromosome? ----- Note: this sets 'ch' for the entire noteboook. \n",
    "\n",
    "print ('Active L1s in chromosome {n}: '.format(n=ch))\n",
    "L1chr = chr_dict[ch]\n",
    "L1chr"
   ]
  },
  {
   "cell_type": "markdown",
   "metadata": {},
   "source": [
    "Load the methyl object for TCGA-33-4586. "
   ]
  },
  {
   "cell_type": "code",
   "execution_count": 7,
   "metadata": {},
   "outputs": [
    {
     "name": "stdout",
     "output_type": "stream",
     "text": [
      "loading TCGA-50-5931-LUAD ...\n"
     ]
    }
   ],
   "source": [
    "obj = 'TCGA-50-5931-LUAD'\n",
    "TCGA_object = load_obj(obj)"
   ]
  },
  {
   "cell_type": "code",
   "execution_count": 8,
   "metadata": {},
   "outputs": [
    {
     "data": {
      "text/plain": [
       "6250"
      ]
     },
     "execution_count": 8,
     "metadata": {},
     "output_type": "execute_result"
    }
   ],
   "source": [
    "probe_keys = sorted(TCGA_object.keys()) # probe keys are 'cg00000029', etc.\n",
    "\n",
    "chr_probes = [] # stores a list of probe keys by chromosome. \n",
    "\n",
    "for probe in probe_keys:\n",
    "    if TCGA_object[probe].chr == str(ch):\n",
    "        chr_probes.append(probe)\n",
    "len(chr_probes) # number of probes belonging to this chromosome."
   ]
  },
  {
   "cell_type": "code",
   "execution_count": 9,
   "metadata": {},
   "outputs": [],
   "source": [
    "def minmax(val_list):\n",
    "    min_val = min(val_list)\n",
    "    max_val = max(val_list)\n",
    "\n",
    "    return (min_val, max_val)"
   ]
  },
  {
   "cell_type": "code",
   "execution_count": 10,
   "metadata": {},
   "outputs": [],
   "source": [
    "L1 = sorted([TCGA_object[probe].hg38_cord for probe in chr_probes]) # loci of TCGA methyl object\n",
    "L2 = sorted(L1chr['End']) # end loci of each LINE-1 (or mid point between start and end?) \n",
    "\n",
    "L1 = list(filter((-1).__ne__, L1)) # remove -1's, WTF?\n",
    "\n",
    "L1_minmax = minmax(L1) # a tuple containing the min and max of the TCGA methyl object.\n",
    "L2_minmax = minmax(L2) # a tuple containing the min and max of the LINE-1 object."
   ]
  },
  {
   "cell_type": "code",
   "execution_count": 11,
   "metadata": {},
   "outputs": [
    {
     "name": "stdout",
     "output_type": "stream",
     "text": [
      "L1: (2796977, 155616255), L2: (11714295, 155515003)\n"
     ]
    }
   ],
   "source": [
    "print ( 'L1: {_L1}, L2: {_L2}'.format(_L1=L1_minmax, \n",
    "                                      _L2=L2_minmax) ) "
   ]
  },
  {
   "cell_type": "markdown",
   "metadata": {},
   "source": [
    "Get the index of the next number between minmax of L1 that is greater than or equal to min of L2."
   ]
  },
  {
   "cell_type": "code",
   "execution_count": 12,
   "metadata": {},
   "outputs": [
    {
     "name": "stdout",
     "output_type": "stream",
     "text": [
      "Index: 217, Locus: 11755348.\n"
     ]
    }
   ],
   "source": [
    "# <expression1> if <condition> else <expression2>\n",
    "\n",
    "for number in L1:\n",
    "    if number < L2[0]:\n",
    "        continue\n",
    "    if number == L2[0]:\n",
    "        print (L1.index(number))\n",
    "        break\n",
    "    else:\n",
    "        if number > L2[0]:\n",
    "            print ('Index: {i}, Locus: {n}.'.format(i=L1.index(number), \n",
    "                                             n=L1[L1.index(number)]))\n",
    "            break"
   ]
  },
  {
   "cell_type": "markdown",
   "metadata": {},
   "source": [
    "Starting from the L1 index above, find all probes that are __within range of L2__. First, remove all elements in L1 that are to the left of index 8599 (that are less than the starting index in L2).  "
   ]
  },
  {
   "cell_type": "code",
   "execution_count": 13,
   "metadata": {},
   "outputs": [
    {
     "data": {
      "text/plain": [
       "(217, 6201)"
      ]
     },
     "execution_count": 13,
     "metadata": {},
     "output_type": "execute_result"
    }
   ],
   "source": [
    "L1.index(number), L1.index(L1[-1]) # elements in l1 that are in range. "
   ]
  },
  {
   "cell_type": "code",
   "execution_count": 14,
   "metadata": {},
   "outputs": [],
   "source": [
    "indexes = range(L1.index(number), L1.index(L1[-1])) # a range of sorted probes in L1\n",
    "\n",
    "new_indexes = []\n",
    "for idx in indexes:\n",
    "    if L1[idx] >= minmax(L2)[1]: # probe index value is greater than greatest of L1's?\n",
    "        break\n",
    "    new_indexes.append(L1[idx])  # if not, add it to the new list. "
   ]
  },
  {
   "cell_type": "code",
   "execution_count": 15,
   "metadata": {},
   "outputs": [
    {
     "name": "stdout",
     "output_type": "stream",
     "text": [
      "5976 methylated probes (95.62%) overlap active LINE-1 loci in ChrX for TCGA-50-5931-LUAD.\n"
     ]
    }
   ],
   "source": [
    "\n",
    "try:\n",
    "    \n",
    "    assert (new_indexes[0] > minmax(L2)[0] and new_indexes[-1] < minmax(L2)[1])\n",
    "    \n",
    "    ratio = ((len(new_indexes) / len(chr_probes)) * 100)\n",
    "    ratio = round(ratio, 2)\n",
    "    plot_dict[ch] = ratio\n",
    "    print ('{nl} methylated probes ({r}%) overlap active LINE-1 loci in Chr{c} for {o}.'.format(\n",
    "                                            nl=len(new_indexes),\n",
    "                                            r=ratio,\n",
    "                                            c=ch,\n",
    "                                            o=obj) )\n",
    "except IndexError:\n",
    "    print ('0 probes (0%) overlap active LINE-1s in Chr{c} for {o}.'.format(\n",
    "                                            c=ch,\n",
    "                                            o=obj) )\n",
    "\n",
    "\n"
   ]
  },
  {
   "cell_type": "code",
   "execution_count": 16,
   "metadata": {},
   "outputs": [],
   "source": [
    "plot = {'1': 51.6, '2': 65.6, '3': 79.5, '4': 60.9, '5': 73.1, '6': 87.0,\n",
    " '7': 56.8, '8': 29.4, '9': 30.1, '10': 65.0, '11': 55.7, '12': 49.0,\n",
    " '13': 13.0, '14': 34.7, '15': 54.0, '16': 56.7, '17': 0.0, '18': 47.4,\n",
    " '20': 2.5, '22': 59.4, 'X': 95.6, 'Y': 0.0}"
   ]
  },
  {
   "cell_type": "markdown",
   "metadata": {},
   "source": [
    "The values plotted below are for one cancer type (LUAD) and represent one paired experiment. However the pattern is similar for other types and experiments."
   ]
  },
  {
   "cell_type": "code",
   "execution_count": 18,
   "metadata": {},
   "outputs": [
    {
     "data": {
      "image/png": "[encoded data removed]",
      "text/plain": [
       "<Figure size 432x288 with 1 Axes>"
      ]
     },
     "metadata": {
      "needs_background": "light"
     },
     "output_type": "display_data"
    }
   ],
   "source": [
    "import matplotlib.pyplot as plt \n",
    "\n",
    "plt.bar(range(len(plot)), list(plot.values()), color='#0504aa', alpha=0.4, align='center')\n",
    "plt.grid(axis='y', alpha=0.75)\n",
    "plt.xticks(range(len(plot)), list(plot.keys()))\n",
    "plt.xlabel('Chromosome')\n",
    "plt.ylabel('% Coverage with LINE-1 Loci')\n",
    "plt.show()"
   ]
  },
  {
   "cell_type": "markdown",
   "metadata": {},
   "source": [
    "The plot shows relative coverage of 'methylated' Illumina 450k probes with LINE-1 L1Base data (by chromosome). ~50% of 450k probes for chromosome 1 overlap with loci found in the L1Base data for LINE-1, ~95% overlap for Chr X.   "
   ]
  },
  {
   "cell_type": "code",
   "execution_count": 19,
   "metadata": {},
   "outputs": [],
   "source": [
    "content = []\n",
    "eul1db_srip_list = []\n",
    "headers = ['Chr','Start','End', 'Strand']\n",
    "\n",
    "with open(\"../../data/eul1db-data/eul1db_srip.bed\")as f:\n",
    "    for line in f:\n",
    "        content.append(line.strip().split())\n",
    "for i, line in enumerate(content):\n",
    "    if i < 3:\n",
    "        continue\n",
    "    eul1db_srip_list.append([line[0][3:], line[1], line[2], line[5]])\n",
    "eul1db_srip_df = pd.DataFrame(eul1db_srip_list, columns=headers)"
   ]
  },
  {
   "cell_type": "code",
   "execution_count": 20,
   "metadata": {},
   "outputs": [
    {
     "data": {
      "text/html": [
       "<div>\n",
       "<style scoped>\n",
       "    .dataframe tbody tr th:only-of-type {\n",
       "        vertical-align: middle;\n",
       "    }\n",
       "\n",
       "    .dataframe tbody tr th {\n",
       "        vertical-align: top;\n",
       "    }\n",
       "\n",
       "    .dataframe thead th {\n",
       "        text-align: right;\n",
       "    }\n",
       "</style>\n",
       "<table border=\"1\" class=\"dataframe\">\n",
       "  <thead>\n",
       "    <tr style=\"text-align: right;\">\n",
       "      <th></th>\n",
       "      <th>Chr</th>\n",
       "      <th>Start</th>\n",
       "      <th>End</th>\n",
       "      <th>Strand</th>\n",
       "    </tr>\n",
       "  </thead>\n",
       "  <tbody>\n",
       "    <tr>\n",
       "      <th>0</th>\n",
       "      <td>1</td>\n",
       "      <td>815511</td>\n",
       "      <td>815511</td>\n",
       "      <td>-</td>\n",
       "    </tr>\n",
       "    <tr>\n",
       "      <th>1</th>\n",
       "      <td>1</td>\n",
       "      <td>980069</td>\n",
       "      <td>980069</td>\n",
       "      <td>+</td>\n",
       "    </tr>\n",
       "    <tr>\n",
       "      <th>2</th>\n",
       "      <td>1</td>\n",
       "      <td>1149273</td>\n",
       "      <td>1149273</td>\n",
       "      <td>-</td>\n",
       "    </tr>\n",
       "    <tr>\n",
       "      <th>3</th>\n",
       "      <td>1</td>\n",
       "      <td>1687509</td>\n",
       "      <td>1687509</td>\n",
       "      <td>-</td>\n",
       "    </tr>\n",
       "    <tr>\n",
       "      <th>4</th>\n",
       "      <td>1</td>\n",
       "      <td>3053277</td>\n",
       "      <td>3053277</td>\n",
       "      <td>-</td>\n",
       "    </tr>\n",
       "  </tbody>\n",
       "</table>\n",
       "</div>"
      ],
      "text/plain": [
       "  Chr    Start      End Strand\n",
       "0   1   815511   815511      -\n",
       "1   1   980069   980069      +\n",
       "2   1  1149273  1149273      -\n",
       "3   1  1687509  1687509      -\n",
       "4   1  3053277  3053277      -"
      ]
     },
     "execution_count": 20,
     "metadata": {},
     "output_type": "execute_result"
    }
   ],
   "source": [
    "eul1db_srip_df.head(5)"
   ]
  },
  {
   "cell_type": "code",
   "execution_count": 6,
   "metadata": {},
   "outputs": [],
   "source": [
    "# %load '../methylator/annotation/annotate_450k.py'\n",
    "import os\n",
    "\n",
    "class Probe:\n",
    "    \"\"\"\n",
    "    Holds Illumina 450k probe info for a single CpG site.\n",
    "    \"\"\"\n",
    "    def __init__(self):\n",
    "        self.id = None\n",
    "        self.seq = None\n",
    "        self.name = None\n",
    "        self.chr = None\n",
    "        self.hg19_cord = None\n",
    "        self.strand = None\n",
    "        self.gene = None\n",
    "        self.refseq = None\n",
    "        self.tour = None\n",
    "        self.feature = None\n",
    "        \n",
    "class Interval:\n",
    "    \"\"\"\n",
    "    Define a genomic interval by chromsome and strand orientation.\n",
    "    \"\"\"\n",
    "    def __init__(self, chromosome, start, end, strand):\n",
    "        self.chr = chromosome\n",
    "        self.start = start\n",
    "        self.end = end\n",
    "        self.strand = strand\n",
    "\n",
    "class Feature:\n",
    "    \"\"\"\n",
    "    Define a Probe feature.\n",
    "    \"\"\"\n",
    "    BODY = \"Body\"\n",
    "    TSS200 = \"TSS200\"\n",
    "    TSS1500 = \"TSS1500\"\n",
    "    UTR5 = \"5'UTR\"\n",
    "    UTR3 = \"3'UTR\"\n",
    "    EXON = \"Exon\"\n",
    "\n",
    "class CpG_location:\n",
    "    \"\"\"\n",
    "    Defines a CpG location.\n",
    "    \"\"\"\n",
    "    ISLAND = \"Island\"\n",
    "    NSHORE = \"N_Shore\"\n",
    "    SSHORE = \"S_Shore\"\n",
    "    NSHELF = \"N_Shelf\"\n",
    "    SSHELF = \"S_Shelf\"\n",
    "    \n",
    "class SNP:\n",
    "    \"\"\"\n",
    "    Defines the SNPs in probes. Used to filter probes.\n",
    "    \"\"\"\n",
    "\n",
    "    def __init__(self):\n",
    "        self.probeid = None\n",
    "        self.snpid = None\n",
    "    \n",
    "class Annotate_450k:\n",
    "    \"\"\"\n",
    "    Parse and hold information about Illumina probes.\n",
    "    \"\"\"\n",
    "\n",
    "    def __init__(self):        \n",
    "        for i in open(anno_file, mode=\"r\"):\n",
    "            self.ann = os.path.join(\"../../data/\", i.strip(\"\\n\").strip(\"\\r\"))\n",
    "\n",
    "        self.probe = {}\n",
    "        self.__run__()\n",
    "\n",
    "    def __run__(self):\n",
    "        \"\"\"\n",
    "        A static function to setup the Probe classes.\n",
    "        \"\"\"\n",
    "        for i in open(self.ann, mode=\"r\"):\n",
    "            if i.startswith(\"cg\"):\n",
    "                data = i.split(\",\")\n",
    "                # Assign probe information.\n",
    "                new_probe = Probe()\n",
    "                new_probe.id = data[0]                 # ID\n",
    "                new_probe.name = data[1]               # name\n",
    "                new_probe.seq = data[13]               # sequence prior to bi-sulfite conv.\n",
    "                new_probe.chr = str(data[11])          # chromosome\n",
    "                new_probe.hg19_cord = int(data[12])    # chromosomal coordinates of the CpG.\n",
    "                new_probe.strand = data[16]            # strand\n",
    "                new_probe.gene = data[21].split(\";\")   # UCSC_RefGene_Name\n",
    "                new_probe.refseq = data[22]            # UCSC_RefGene_Accession\n",
    "                features = data[23].split(\";\")         # UCSC_RefGene_Group\n",
    "                list_features = []\n",
    "                for i in features:\n",
    "                    if i not in list_features:\n",
    "                        list_features.append(i)\n",
    "\n",
    "                new_probe.feature = list_features\n",
    "\n",
    "                new_probe.tour = data[25]              # Relation_to_UCSC_CpG_Island\n",
    "                newcpg = {new_probe.id: new_probe}\n",
    "                self.probe.update(newcpg)\n",
    "\n",
    "    def get_number(self):\n",
    "        \"\"\"\n",
    "        Return total number of probes.\n",
    "        \"\"\"\n",
    "        number = 0\n",
    "        for probe_id in self.probe.keys():\n",
    "            number += 1\n",
    "\n",
    "        return number\n",
    "\n",
    "    def get_probe(self, probe_id): #WORKS\n",
    "        \"\"\"\n",
    "        Return probe info associated with an reference.\n",
    "        \"\"\"\n",
    "        try:\n",
    "            probe = self.probe[probe_id]\n",
    "        except Exception as ex:\n",
    "            probe = None\n",
    "            print(\"WARNING: No probe with ref-id of %s found.\" % probe_id)\n",
    "        return probe\n",
    "\n",
    "    def remove_snp_probes(self):\n",
    "        \"\"\"\n",
    "        Removes all SNPs associated with probes.\n",
    "        \"\"\"\n",
    "        snp_list = []\n",
    "        snp_file = open(\"../../data/humanmethylation450_dbsnp137.snpupdate.table.v2.sorted.txt\", \"r\")\n",
    "        for line in snp_file:\n",
    "            if line.startswith(\"cg\"):\n",
    "                line = line.strip(\"\\n\").strip(\"\\r\").split(\"\\t\")\n",
    "                new_snp = SNP()\n",
    "                new_snp.probeid = line[0]\n",
    "                new_snp.snpid = line[1]\n",
    "                snp_list.append(new_snp)\n",
    "\n",
    "        for snp in snp_list:\n",
    "            self.probe.pop(snp.probeid)\n",
    "\n",
    "anno_file = os.path.abspath(\"../../data/config.ini\") # Illumina probe manifest. Note: This (large) file is not \n",
    "                                                     # in the repository.\n",
    "# Functions to save/load dictionary objects. \n",
    "\n",
    "import _pickle as pickle\n",
    "\n",
    "def save_obj(obj, name):\n",
    "    print('saving ' + name + ' ...')\n",
    "    with open('../../data/pickle/'+ name + '.pkl', 'wb+') as f:\n",
    "        pickle.dump(obj, f)\n",
    "        \n",
    "def load_obj(name):\n",
    "    print('loading ' + name + ' ...')\n",
    "    with open('../../data/pickle/' + name + '.pkl', 'rb') as f:\n",
    "        return pickle.load(f)"
   ]
  },
  {
   "cell_type": "code",
   "execution_count": null,
   "metadata": {},
   "outputs": [],
   "source": []
  }
 ],
 "metadata": {
  "kernelspec": {
   "display_name": "Python 3",
   "language": "python",
   "name": "python3"
  },
  "language_info": {
   "codemirror_mode": {
    "name": "ipython",
    "version": 3
   },
   "file_extension": ".py",
   "mimetype": "text/x-python",
   "name": "python",
   "nbconvert_exporter": "python",
   "pygments_lexer": "ipython3",
   "version": "3.6.8"
  }
 },
 "nbformat": 4,
 "nbformat_minor": 2
}
