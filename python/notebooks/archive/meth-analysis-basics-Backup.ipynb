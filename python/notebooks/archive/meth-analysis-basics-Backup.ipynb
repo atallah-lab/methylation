{
 "cells": [
  {
   "cell_type": "markdown",
   "metadata": {},
   "source": [
    "## Early Explorations"
   ]
  },
  {
   "cell_type": "code",
   "execution_count": 2,
   "metadata": {},
   "outputs": [
    {
     "data": {
      "text/html": [
       "<div>\n",
       "<style scoped>\n",
       "    .dataframe tbody tr th:only-of-type {\n",
       "        vertical-align: middle;\n",
       "    }\n",
       "\n",
       "    .dataframe tbody tr th {\n",
       "        vertical-align: top;\n",
       "    }\n",
       "\n",
       "    .dataframe thead th {\n",
       "        text-align: right;\n",
       "    }\n",
       "</style>\n",
       "<table border=\"1\" class=\"dataframe\">\n",
       "  <thead>\n",
       "    <tr style=\"text-align: right;\">\n",
       "      <th></th>\n",
       "      <th>ID_REF</th>\n",
       "      <th>LUSC_tumor</th>\n",
       "      <th>LUSC_normal</th>\n",
       "      <th>COAD_tumor</th>\n",
       "      <th>COAD_normal</th>\n",
       "      <th>GBM_tumor</th>\n",
       "      <th>GBM_normal</th>\n",
       "    </tr>\n",
       "  </thead>\n",
       "  <tbody>\n",
       "    <tr>\n",
       "      <th>0</th>\n",
       "      <td>cg00000029</td>\n",
       "      <td>0.312090</td>\n",
       "      <td>0.277189</td>\n",
       "      <td>0.491594</td>\n",
       "      <td>0.201456</td>\n",
       "      <td>0.862540</td>\n",
       "      <td>0.625655</td>\n",
       "    </tr>\n",
       "    <tr>\n",
       "      <th>1</th>\n",
       "      <td>cg00000165</td>\n",
       "      <td>0.356855</td>\n",
       "      <td>0.152366</td>\n",
       "      <td>0.867351</td>\n",
       "      <td>0.236720</td>\n",
       "      <td>0.890708</td>\n",
       "      <td>0.223732</td>\n",
       "    </tr>\n",
       "    <tr>\n",
       "      <th>2</th>\n",
       "      <td>cg00000236</td>\n",
       "      <td>0.914564</td>\n",
       "      <td>0.874785</td>\n",
       "      <td>0.930446</td>\n",
       "      <td>0.877313</td>\n",
       "      <td>0.908234</td>\n",
       "      <td>0.924708</td>\n",
       "    </tr>\n",
       "    <tr>\n",
       "      <th>3</th>\n",
       "      <td>cg00000289</td>\n",
       "      <td>0.783759</td>\n",
       "      <td>0.788907</td>\n",
       "      <td>0.765557</td>\n",
       "      <td>0.765379</td>\n",
       "      <td>0.768677</td>\n",
       "      <td>0.716382</td>\n",
       "    </tr>\n",
       "    <tr>\n",
       "      <th>4</th>\n",
       "      <td>cg00000292</td>\n",
       "      <td>0.854914</td>\n",
       "      <td>0.754082</td>\n",
       "      <td>0.667273</td>\n",
       "      <td>0.599161</td>\n",
       "      <td>0.565240</td>\n",
       "      <td>0.567836</td>\n",
       "    </tr>\n",
       "  </tbody>\n",
       "</table>\n",
       "</div>"
      ],
      "text/plain": [
       "       ID_REF  LUSC_tumor  LUSC_normal  COAD_tumor  COAD_normal  GBM_tumor  \\\n",
       "0  cg00000029    0.312090     0.277189    0.491594     0.201456   0.862540   \n",
       "1  cg00000165    0.356855     0.152366    0.867351     0.236720   0.890708   \n",
       "2  cg00000236    0.914564     0.874785    0.930446     0.877313   0.908234   \n",
       "3  cg00000289    0.783759     0.788907    0.765557     0.765379   0.768677   \n",
       "4  cg00000292    0.854914     0.754082    0.667273     0.599161   0.565240   \n",
       "\n",
       "   GBM_normal  \n",
       "0    0.625655  \n",
       "1    0.223732  \n",
       "2    0.924708  \n",
       "3    0.716382  \n",
       "4    0.567836  "
      ]
     },
     "execution_count": 2,
     "metadata": {},
     "output_type": "execute_result"
    }
   ],
   "source": [
    "import os\n",
    "import pandas as pd\n",
    "\n",
    "meth_df = pd.read_excel('../../data/sample-TCGA-spreadsheets/TCGA-DATA-COMBINED.xlsx')\n",
    "meth_df.head()"
   ]
  },
  {
   "cell_type": "code",
   "execution_count": 2,
   "metadata": {},
   "outputs": [
    {
     "data": {
      "text/html": [
       "<div>\n",
       "<style scoped>\n",
       "    .dataframe tbody tr th:only-of-type {\n",
       "        vertical-align: middle;\n",
       "    }\n",
       "\n",
       "    .dataframe tbody tr th {\n",
       "        vertical-align: top;\n",
       "    }\n",
       "\n",
       "    .dataframe thead th {\n",
       "        text-align: right;\n",
       "    }\n",
       "</style>\n",
       "<table border=\"1\" class=\"dataframe\">\n",
       "  <thead>\n",
       "    <tr style=\"text-align: right;\">\n",
       "      <th></th>\n",
       "      <th>Chr</th>\n",
       "      <th>Start</th>\n",
       "      <th>End</th>\n",
       "      <th>Strand</th>\n",
       "    </tr>\n",
       "  </thead>\n",
       "  <tbody>\n",
       "    <tr>\n",
       "      <th>0</th>\n",
       "      <td>1</td>\n",
       "      <td>815511</td>\n",
       "      <td>815511</td>\n",
       "      <td>-</td>\n",
       "    </tr>\n",
       "    <tr>\n",
       "      <th>1</th>\n",
       "      <td>1</td>\n",
       "      <td>980069</td>\n",
       "      <td>980069</td>\n",
       "      <td>+</td>\n",
       "    </tr>\n",
       "    <tr>\n",
       "      <th>2</th>\n",
       "      <td>1</td>\n",
       "      <td>1149273</td>\n",
       "      <td>1149273</td>\n",
       "      <td>-</td>\n",
       "    </tr>\n",
       "    <tr>\n",
       "      <th>3</th>\n",
       "      <td>1</td>\n",
       "      <td>1687509</td>\n",
       "      <td>1687509</td>\n",
       "      <td>-</td>\n",
       "    </tr>\n",
       "    <tr>\n",
       "      <th>4</th>\n",
       "      <td>1</td>\n",
       "      <td>3053277</td>\n",
       "      <td>3053277</td>\n",
       "      <td>-</td>\n",
       "    </tr>\n",
       "  </tbody>\n",
       "</table>\n",
       "</div>"
      ],
      "text/plain": [
       "  Chr    Start      End Strand\n",
       "0   1   815511   815511      -\n",
       "1   1   980069   980069      +\n",
       "2   1  1149273  1149273      -\n",
       "3   1  1687509  1687509      -\n",
       "4   1  3053277  3053277      -"
      ]
     },
     "execution_count": 2,
     "metadata": {},
     "output_type": "execute_result"
    }
   ],
   "source": [
    "content = []\n",
    "eul1db_srip_list = []\n",
    "with open(\"../../data/eul1db-data/eul1db_srip.bed\")as f:\n",
    "    for line in f:\n",
    "        content.append(line.strip().split())\n",
    "for i, line in enumerate(content):\n",
    "    if i < 3:\n",
    "        continue\n",
    "    eul1db_srip_list.append([line[0][3:], line[1], line[2], line[5]])\n",
    "headers = ['Chr','Start','End','Strand']\n",
    "eul1db_srip_df = pd.DataFrame(eul1db_srip_list, columns=headers)\n",
    "eul1db_srip_df.head(n=5)"
   ]
  },
  {
   "cell_type": "code",
   "execution_count": 3,
   "metadata": {},
   "outputs": [
    {
     "data": {
      "text/html": [
       "<div>\n",
       "<style scoped>\n",
       "    .dataframe tbody tr th:only-of-type {\n",
       "        vertical-align: middle;\n",
       "    }\n",
       "\n",
       "    .dataframe tbody tr th {\n",
       "        vertical-align: top;\n",
       "    }\n",
       "\n",
       "    .dataframe thead th {\n",
       "        text-align: right;\n",
       "    }\n",
       "</style>\n",
       "<table border=\"1\" class=\"dataframe\">\n",
       "  <thead>\n",
       "    <tr style=\"text-align: right;\">\n",
       "      <th></th>\n",
       "      <th>Chr</th>\n",
       "      <th>Start</th>\n",
       "      <th>End</th>\n",
       "      <th>Strand</th>\n",
       "    </tr>\n",
       "  </thead>\n",
       "  <tbody>\n",
       "    <tr>\n",
       "      <th>0</th>\n",
       "      <td>8</td>\n",
       "      <td>134077776</td>\n",
       "      <td>134069730</td>\n",
       "      <td>-1</td>\n",
       "    </tr>\n",
       "    <tr>\n",
       "      <th>1</th>\n",
       "      <td>8</td>\n",
       "      <td>128460023</td>\n",
       "      <td>128451975</td>\n",
       "      <td>-1</td>\n",
       "    </tr>\n",
       "    <tr>\n",
       "      <th>2</th>\n",
       "      <td>8</td>\n",
       "      <td>72882593</td>\n",
       "      <td>72874543</td>\n",
       "      <td>-1</td>\n",
       "    </tr>\n",
       "    <tr>\n",
       "      <th>3</th>\n",
       "      <td>8</td>\n",
       "      <td>72154468</td>\n",
       "      <td>72146429</td>\n",
       "      <td>-1</td>\n",
       "    </tr>\n",
       "    <tr>\n",
       "      <th>4</th>\n",
       "      <td>8</td>\n",
       "      <td>91557655</td>\n",
       "      <td>91565704</td>\n",
       "      <td>1</td>\n",
       "    </tr>\n",
       "  </tbody>\n",
       "</table>\n",
       "</div>"
      ],
      "text/plain": [
       "  Chr      Start        End  Strand\n",
       "0   8  134077776  134069730      -1\n",
       "1   8  128460023  128451975      -1\n",
       "2   8   72882593   72874543      -1\n",
       "3   8   72154468   72146429      -1\n",
       "4   8   91557655   91565704       1"
      ]
     },
     "execution_count": 3,
     "metadata": {},
     "output_type": "execute_result"
    }
   ],
   "source": [
    "l1base_df = pd.read_excel('../../data/l1base/l1base.xlsx')\n",
    "l1base_list = []\n",
    "\n",
    "for index, row in l1base_df.iterrows():\n",
    "    l1base_list.append([row[0], row[1], row[2], row[5]])\n",
    "\n",
    "l1base_df = pd.DataFrame(l1base_list, columns=headers)\n",
    "l1base_df.head(5)"
   ]
  },
  {
   "cell_type": "code",
   "execution_count": 3,
   "metadata": {},
   "outputs": [],
   "source": [
    "# %load '../methylator/annotation/annotate_450k.py'"
   ]
  },
  {
   "cell_type": "code",
   "execution_count": 4,
   "metadata": {},
   "outputs": [
    {
     "data": {
      "text/plain": [
       "482421"
      ]
     },
     "execution_count": 4,
     "metadata": {},
     "output_type": "execute_result"
    }
   ],
   "source": [
    "#annotate = load_obj('Annotate_450k') # load annotation object containing all 450k probes\n",
    "annotate = Annotate_450k() # create annotation object containing probes \n",
    "save_obj(annotate, 'Annotate_450k') # save the 'annotate' dictionary to ./data/pickle\n",
    "annotate.get_number()"
   ]
  },
  {
   "cell_type": "code",
   "execution_count": 8,
   "metadata": {},
   "outputs": [
    {
     "data": {
      "text/plain": [
       "9363356"
      ]
     },
     "execution_count": 8,
     "metadata": {},
     "output_type": "execute_result"
    }
   ],
   "source": [
    "cg00050873 = annotate.probe['cg00050873']\n",
    "cg00050873.cord"
   ]
  },
  {
   "cell_type": "code",
   "execution_count": 9,
   "metadata": {},
   "outputs": [
    {
     "data": {
      "text/plain": [
       "('cg00000029', 'cg11149743')"
      ]
     },
     "execution_count": 9,
     "metadata": {},
     "output_type": "execute_result"
    }
   ],
   "source": [
    "sorted_keys = annotate.get_sorted_probes_by_id()\n",
    "sorted_keys[0], sorted_keys[210293]"
   ]
  },
  {
   "cell_type": "code",
   "execution_count": 10,
   "metadata": {},
   "outputs": [],
   "source": [
    "cg00000029 = annotate.get_probe(sorted_keys[0])\n",
    "cg27666046 = annotate.get_probe(sorted_keys[210293])"
   ]
  },
  {
   "cell_type": "code",
   "execution_count": 11,
   "metadata": {},
   "outputs": [
    {
     "data": {
      "text/plain": [
       "(53468112, 46688419, 'N_Shore')"
      ]
     },
     "execution_count": 11,
     "metadata": {},
     "output_type": "execute_result"
    }
   ],
   "source": [
    "cg00000029.cord, cg27666046.cord, cg00000029.tour"
   ]
  },
  {
   "cell_type": "code",
   "execution_count": 12,
   "metadata": {},
   "outputs": [
    {
     "name": "stdout",
     "output_type": "stream",
     "text": [
      "ID: cg00000029, Chr: 16\n",
      "ID: cg00000108, Chr: 3\n",
      "ID: cg00000109, Chr: 3\n",
      "ID: cg00000165, Chr: 1\n",
      "ID: cg00000236, Chr: 8\n"
     ]
    }
   ],
   "source": [
    "probe_list = annotate.get_probes_by_list(sorted_keys[0:5]) # get first 5 probes\n",
    "for probe in probe_list: # sorting on probe id does not follow by chr in an expected way. \n",
    "    print ('ID: {p}, Chr: {c}'.format(p=probe.id, c=probe.chr)) "
   ]
  },
  {
   "cell_type": "code",
   "execution_count": 13,
   "metadata": {},
   "outputs": [
    {
     "data": {
      "text/plain": [
       "(91194674, 220863462)"
      ]
     },
     "execution_count": 13,
     "metadata": {},
     "output_type": "execute_result"
    }
   ],
   "source": [
    "sorted_by_chr = annotate.get_sorted_probes_by_chr()\n",
    "chromosome1 = sorted_by_chr[0:46566] # huh?\n",
    "chromosome1[0].cord, chromosome1[46565].cord"
   ]
  },
  {
   "cell_type": "code",
   "execution_count": 14,
   "metadata": {},
   "outputs": [
    {
     "data": {
      "text/plain": [
       "'cg00087417'"
      ]
     },
     "execution_count": 14,
     "metadata": {},
     "output_type": "execute_result"
    }
   ],
   "source": [
    "# Return probes in the vicinity of a gene\n",
    "probe_refs = annotate.get_probe_refs_by_gene('SRPK1')\n",
    "probe_refs[0]"
   ]
  },
  {
   "cell_type": "code",
   "execution_count": 15,
   "metadata": {},
   "outputs": [
    {
     "name": "stdout",
     "output_type": "stream",
     "text": [
      "SRPK1 probe found on Chr 6.\n"
     ]
    }
   ],
   "source": [
    "# Return probes in vicinity of a gene (i.e. SRPK1)\n",
    "probes_from_gene = annotate.get_probes_by_gene('SRPK1')\n",
    "print ('SRPK1 probe found on Chr {p}.'.format(p=probes_from_gene[0].chr))"
   ]
  },
  {
   "cell_type": "code",
   "execution_count": 16,
   "metadata": {},
   "outputs": [],
   "source": [
    "# Return probes in vicinity of a feature (i.e. BODY, TSS200, TSS1500, UTR5, UTR3)\n",
    "BODY_probes = annotate.get_probes_by_location(Location.BODY) # \n",
    "TSS200_probes = annotate.get_probes_by_location(Location.TSS200) #\n",
    "TSS1500_probes = annotate.get_probes_by_location(Location.TSS1500) #\n",
    "UTR3_probes = annotate.get_probes_by_location(Location.UTR3) #\n",
    "UTR5_probes = annotate.get_probes_by_location(Location.UTR5) #"
   ]
  },
  {
   "cell_type": "code",
   "execution_count": 17,
   "metadata": {},
   "outputs": [
    {
     "name": "stdout",
     "output_type": "stream",
     "text": [
      "174438 84335 65476 62625 19694\n"
     ]
    }
   ],
   "source": [
    "print (len(BODY_probes), len(TSS1500_probes), len(UTR5_probes), len(TSS200_probes), len(UTR3_probes))"
   ]
  },
  {
   "cell_type": "code",
   "execution_count": 18,
   "metadata": {},
   "outputs": [
    {
     "name": "stdout",
     "output_type": "stream",
     "text": [
      "0 cg00000029\n",
      "1 cg00000165\n",
      "2 cg00000236\n",
      "3 cg00000289\n",
      "4 cg00000292\n"
     ]
    }
   ],
   "source": [
    "meth_df.head()\n",
    "for index, row in meth_df.head().iterrows():\n",
    "    print (index, row[0])"
   ]
  },
  {
   "cell_type": "code",
   "execution_count": 6,
   "metadata": {},
   "outputs": [],
   "source": [
    "methyl_probe_dict = {}\n",
    "\n",
    "for index, row in meth_df.head(5).iterrows():\n",
    "    methyl_probe_dict[row[0]] = annotate.probe.get(row[0]) # row[0] == 'cg00000029' i.e. key value\n",
    "    setattr(methyl_probe_dict[row[0]], 'LUSC_tumor',  row[1]) # add spreadsheet attributes \n",
    "    setattr(methyl_probe_dict[row[0]], 'LUSC_normal', row[2]) # from TCGA-DATA-COMBINED.xlsx...\n",
    "    setattr(methyl_probe_dict[row[0]], 'COAD_tumor',  row[3])\n",
    "    setattr(methyl_probe_dict[row[0]], 'COAD_normal', row[4])\n",
    "    setattr(methyl_probe_dict[row[0]], 'GBM_tumor',   row[5])\n",
    "    setattr(methyl_probe_dict[row[0]], 'GBM_normal',  row[6])"
   ]
  },
  {
   "cell_type": "code",
   "execution_count": 7,
   "metadata": {},
   "outputs": [],
   "source": [
    "cg00000292 = methyl_probe_dict['cg00000292'] # get a 'methyl' probe by name"
   ]
  },
  {
   "cell_type": "code",
   "execution_count": 22,
   "metadata": {},
   "outputs": [
    {
     "data": {
      "text/plain": [
       "(28890100, 'NM_004320;NM_173201', 0.667273112085446, 0.599161178855325)"
      ]
     },
     "execution_count": 22,
     "metadata": {},
     "output_type": "execute_result"
    }
   ],
   "source": [
    "cg00000292.cord, cg00000292.refseq, cg00000292.COAD_tumor, cg00000292.COAD_normal"
   ]
  },
  {
   "cell_type": "markdown",
   "metadata": {},
   "source": [
    "In colorectal cancers 600-800 genes are transcriptionally-silenced by CpG island methylation compared to normal tissue. Transcriptional silencing may be more important than mutation in causing gene silencing in progression to cancer.\n",
    "\n",
    "About 70% of human promoters located near the transcription start site of a gene contain a CpG island."
   ]
  },
  {
   "cell_type": "code",
   "execution_count": 27,
   "metadata": {},
   "outputs": [
    {
     "data": {
      "text/plain": [
       "482421"
      ]
     },
     "execution_count": 27,
     "metadata": {},
     "output_type": "execute_result"
    }
   ],
   "source": [
    "# Remove SNPs.. (do this after the cells above)\n",
    "#annotate.remove_snp_probes()\n",
    "all_probes = annotate.get_all_probes()\n",
    "annotate.get_number()"
   ]
  },
  {
   "cell_type": "code",
   "execution_count": null,
   "metadata": {},
   "outputs": [],
   "source": []
  }
 ],
 "metadata": {
  "kernelspec": {
   "display_name": "Python 3",
   "language": "python",
   "name": "python3"
  },
  "language_info": {
   "codemirror_mode": {
    "name": "ipython",
    "version": 3
   },
   "file_extension": ".py",
   "mimetype": "text/x-python",
   "name": "python",
   "nbconvert_exporter": "python",
   "pygments_lexer": "ipython3",
   "version": "3.6.8"
  }
 },
 "nbformat": 4,
 "nbformat_minor": 2
}
