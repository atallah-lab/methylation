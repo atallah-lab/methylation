{
 "cells": [
  {
   "cell_type": "markdown",
   "metadata": {},
   "source": [
    "Retrieve sequence data from __UCSC__. This method fetches a sequence from the UCSC genome browser using their API."
   ]
  },
  {
   "cell_type": "code",
   "execution_count": 1,
   "metadata": {},
   "outputs": [],
   "source": [
    "# Equivalent to the following browser request:\n",
    "# http://genome.ucsc.edu/cgi-bin/das/hg19/dna?segment=chr1:100000,100010\n",
    "\n",
    "import urllib.request\n",
    "\n",
    "def _seq_from_xml(xml):\n",
    "    start = xml.find(\">\", xml.find(\"<DNA\")) + 1\n",
    "    end = xml.rfind(\"</DNA>\")\n",
    "    return xml[start:end].replace(' ', '').replace('\\n', '').strip()\n",
    "\n",
    "def sequence(db, chrom, start, end):\n",
    "    \"\"\"\n",
    "    Call the UCSC DAS server and return the sequence for a region.\n",
    "    >>> sequence('hg19', 'chr1', 100000, 100010)\n",
    "    'cactaagcaca'\n",
    "    \"\"\"\n",
    "    url = \"http://genome.ucsc.edu/cgi-bin/das/%s\" % db\n",
    "    url += \"/dna?segment=%s:%i,%i\"\n",
    "    xml = urllib.request.urlopen(url % (chrom, start, end)).read().decode(\"utf-8\")\n",
    "    return _seq_from_xml(xml)"
   ]
  },
  {
   "cell_type": "code",
   "execution_count": 2,
   "metadata": {},
   "outputs": [
    {
     "data": {
      "text/plain": [
       "'cactaagcaca'"
      ]
     },
     "execution_count": 2,
     "metadata": {},
     "output_type": "execute_result"
    }
   ],
   "source": [
    "sequence('hg19', 'chr1', 100000, 100010)"
   ]
  },
  {
   "cell_type": "code",
   "execution_count": null,
   "metadata": {},
   "outputs": [],
   "source": []
  }
 ],
 "metadata": {
  "kernelspec": {
   "display_name": "Python 3",
   "language": "python",
   "name": "python3"
  },
  "language_info": {
   "codemirror_mode": {
    "name": "ipython",
    "version": 3
   },
   "file_extension": ".py",
   "mimetype": "text/x-python",
   "name": "python",
   "nbconvert_exporter": "python",
   "pygments_lexer": "ipython3",
   "version": "3.6.8"
  }
 },
 "nbformat": 4,
 "nbformat_minor": 2
}
