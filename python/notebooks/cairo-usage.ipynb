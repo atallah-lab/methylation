{
 "cells": [
  {
   "cell_type": "markdown",
   "metadata": {},
   "source": [
    "Consider using Cairo for plotting..."
   ]
  },
  {
   "cell_type": "code",
   "execution_count": 57,
   "metadata": {},
   "outputs": [],
   "source": [
    "import math\n",
    "import cairo # see https://www.cairographics.org/samples/\n",
    "from IPython.display import Image"
   ]
  },
  {
   "cell_type": "code",
   "execution_count": 58,
   "metadata": {},
   "outputs": [
    {
     "name": "stdout",
     "output_type": "stream",
     "text": [
      "Cairo: 1.14.12\n"
     ]
    }
   ],
   "source": [
    "if (cairo.HAS_SVG_SURFACE and cairo.HAS_PNG_FUNCTIONS):\n",
    "    print ('Cairo: {c}'.format(c=cairo.CAIRO_VERSION_STRING))"
   ]
  },
  {
   "cell_type": "code",
   "execution_count": 59,
   "metadata": {},
   "outputs": [],
   "source": [
    "with cairo.SVGSurface(\"./img/example.svg\", 100, 100) as surface:\n",
    "    context = cairo.Context(surface)\n",
    "    x, y, x1, y1 = 0.1, 0.5, 0.4, 0.9\n",
    "    x2, y2, x3, y3 = 0.6, 0.1, 0.9, 0.5\n",
    "    context.scale(100, 100)\n",
    "    context.set_line_width(0.04)\n",
    "    context.move_to(x, y)\n",
    "    context.curve_to(x1, y1, x2, y2, x3, y3)\n",
    "    context.stroke()\n",
    "    context.set_source_rgba(1, 0.2, 0.2, 0.6)\n",
    "    context.set_line_width(0.02)\n",
    "    context.move_to(x, y)\n",
    "    context.line_to(x1, y1)\n",
    "    context.move_to(x2, y2)\n",
    "    context.line_to(x3, y3)\n",
    "    context.stroke()"
   ]
  },
  {
   "cell_type": "markdown",
   "metadata": {},
   "source": [
    "![a plot of the above code](./img/example.svg)"
   ]
  },
  {
   "cell_type": "code",
   "execution_count": 42,
   "metadata": {},
   "outputs": [
    {
     "name": "stdout",
     "output_type": "stream",
     "text": [
      "482421\n"
     ]
    }
   ],
   "source": [
    "anno_str       = 'Illumina-450k-Anno.{rev}.{ext}'.format(rev='hg19',ext='pkl')\n",
    "annotation     = load_obj(anno_str[:-4]) # load the saved annotation file\n",
    "\n",
    "print (len(annotation.probe))"
   ]
  },
  {
   "cell_type": "code",
   "execution_count": 44,
   "metadata": {},
   "outputs": [],
   "source": [
    "def _range(probes, interval):\n",
    "    '''\n",
    "    Return an unsorted range of probes. \n",
    "    Equivalent to df.head() at any starting location. \n",
    "    '''\n",
    "    return dict(list(probes.items())\n",
    "                [interval.start:interval.end])\n",
    "\n",
    "def sort_range_by_refid(probes):\n",
    "    '''\n",
    "    Return dict of range of probes, sorted by refid.\n",
    "    Call _range function first to limit scope.\n",
    "    '''\n",
    "    return dict(sorted(list(probes.items())))\n",
    "\n",
    "def sort_range_by_coordinate(probes):\n",
    "    '''\n",
    "    Return dict of range of probes, sorted by coordinate.\n",
    "    Call _range function first to limit scope.\n",
    "    '''\n",
    "    return dict(sorted(list(probes.items()), \n",
    "                       key=lambda item: item[1].cord))\n",
    "\n",
    "def get_probes_by_chr(probes, interval):\n",
    "    \"\"\"\n",
    "    Return a dict of probes by chromosome.\n",
    "    Call _range function first to limit scope.\n",
    "    \"\"\" \n",
    "    return {p: probes[p] for p in probes \n",
    "            if probes[p].chr == interval.chr}\n",
    "\n",
    "def get_probes_by_location(probes, interval):\n",
    "    \"\"\"\n",
    "    Return a dict of probes by location.\n",
    "    Call _range function first to limit scope.\n",
    "    \"\"\"\n",
    "    chrom = interval.chr\n",
    "    \n",
    "    probe_dict = {k: probes[k] for k in probes if\n",
    "                 probes[k].chr == chrom and start < probes[k].cord < end}\n",
    "    return probe_dict"
   ]
  },
  {
   "cell_type": "code",
   "execution_count": 45,
   "metadata": {},
   "outputs": [],
   "source": [
    "chrom = 'Y'\n",
    "start = 0\n",
    "end  = 5\n",
    "_slice = Interval(chrom, start, end, '+')"
   ]
  },
  {
   "cell_type": "code",
   "execution_count": 46,
   "metadata": {},
   "outputs": [],
   "source": [
    "probe_slice = _range(annotation.probe, _slice) # dict of the first 10 annotation entries.\n",
    "# Cord    Chr   ID* \n",
    "# 8553009   Y   cg00035864\n",
    "# 9363356   Y   cg00050873\n",
    "# 25314171  Y   cg00061679\n",
    "# 22741795  Y   cg00063477\n",
    "# 21664296  Y   cg00121626"
   ]
  },
  {
   "cell_type": "code",
   "execution_count": 47,
   "metadata": {},
   "outputs": [
    {
     "data": {
      "text/plain": [
       "{'cg00035864': <__main__.Probe at 0x141df3b70>,\n",
       " 'cg00050873': <__main__.Probe at 0x141df3b38>,\n",
       " 'cg00061679': <__main__.Probe at 0x141df39e8>,\n",
       " 'cg00063477': <__main__.Probe at 0x141df3828>,\n",
       " 'cg00121626': <__main__.Probe at 0x141df3470>}"
      ]
     },
     "execution_count": 47,
     "metadata": {},
     "output_type": "execute_result"
    }
   ],
   "source": [
    "sort_range_by_refid(probe_slice)\n",
    "# 'cg00035864'  8553009\n",
    "# 'cg00050873'  9363356\n",
    "# 'cg00061679' 25314171\n",
    "# 'cg00063477' 22741795\n",
    "# 'cg00121626' 21664296"
   ]
  },
  {
   "cell_type": "code",
   "execution_count": 48,
   "metadata": {},
   "outputs": [
    {
     "data": {
      "text/plain": [
       "{'cg00035864': <__main__.Probe at 0x141df3b70>,\n",
       " 'cg00050873': <__main__.Probe at 0x141df3b38>,\n",
       " 'cg00121626': <__main__.Probe at 0x141df3470>,\n",
       " 'cg00063477': <__main__.Probe at 0x141df3828>,\n",
       " 'cg00061679': <__main__.Probe at 0x141df39e8>}"
      ]
     },
     "execution_count": 48,
     "metadata": {},
     "output_type": "execute_result"
    }
   ],
   "source": [
    "sort_range_by_coordinate(probe_slice)\n",
    "# 'cg00035864'  8553009\n",
    "# 'cg00050873'  9363356\n",
    "# 'cg00121626' 21664296\n",
    "# 'cg00063477' 22741795\n",
    "# 'cg00061679' 25314171"
   ]
  },
  {
   "cell_type": "code",
   "execution_count": 37,
   "metadata": {},
   "outputs": [
    {
     "data": {
      "text/plain": [
       "{'cg00035864': <__main__.Probe at 0x106bda710>,\n",
       " 'cg00050873': <__main__.Probe at 0x108c2aeb8>,\n",
       " 'cg00061679': <__main__.Probe at 0x108c2acc0>,\n",
       " 'cg00063477': <__main__.Probe at 0x108cbe748>,\n",
       " 'cg00121626': <__main__.Probe at 0x108cbe898>}"
      ]
     },
     "execution_count": 37,
     "metadata": {},
     "output_type": "execute_result"
    }
   ],
   "source": [
    "get_probes_by_chr(probe_slice, _slice)"
   ]
  },
  {
   "cell_type": "code",
   "execution_count": null,
   "metadata": {},
   "outputs": [],
   "source": []
  },
  {
   "cell_type": "code",
   "execution_count": null,
   "metadata": {},
   "outputs": [],
   "source": []
  },
  {
   "cell_type": "code",
   "execution_count": 124,
   "metadata": {},
   "outputs": [],
   "source": [
    "sorted_locations = sorted([probes[k].cord for k in probes])"
   ]
  },
  {
   "cell_type": "code",
   "execution_count": 90,
   "metadata": {},
   "outputs": [],
   "source": [
    "sorted_locations = sorted([probes[k].cord for k in probes])\n",
    "\n",
    "midway = int((interval.start + interval.end)/2)\n",
    "\n",
    "if midway in range(sorted_locations[0], sorted_locations[-1]):\n",
    "    print ('found')\n",
    "\n",
    "\n",
    "\n",
    "\n",
    "#    \n",
    "#probes_by_key = sorted([probe for probe in probes]) # sorts on REF_ID by default\n",
    "#probes_by_key\n"
   ]
  },
  {
   "cell_type": "code",
   "execution_count": 69,
   "metadata": {},
   "outputs": [
    {
     "name": "stdout",
     "output_type": "stream",
     "text": [
      "67905522 X\n",
      "73754570 X\n",
      "70400600 X\n",
      "30265202 X\n",
      "118370171 X\n",
      "21901558 X\n",
      "147062909 X\n",
      "2847549 X\n",
      "152912242 X\n",
      "40015196 X\n",
      "118892768 X\n"
     ]
    }
   ],
   "source": [
    "\n",
    "\n"
   ]
  },
  {
   "cell_type": "code",
   "execution_count": 117,
   "metadata": {},
   "outputs": [
    {
     "name": "stdout",
     "output_type": "stream",
     "text": [
      "found\n"
     ]
    }
   ],
   "source": [
    "sorted_locations = sorted([probes[k].cord for k in probes])\n",
    "\n",
    "midway = int((interval.start + interval.end)/2)\n",
    "\n",
    "if midway in range(sorted_locations[0], sorted_locations[-1]):\n",
    "    print ('found')"
   ]
  },
  {
   "cell_type": "code",
   "execution_count": 108,
   "metadata": {},
   "outputs": [
    {
     "data": {
      "text/plain": [
       "23444"
      ]
     },
     "execution_count": 108,
     "metadata": {},
     "output_type": "execute_result"
    }
   ],
   "source": [
    "mid in range(sorted_locations[0],sorted_locations[-1])\n",
    "mid"
   ]
  },
  {
   "cell_type": "code",
   "execution_count": 101,
   "metadata": {},
   "outputs": [
    {
     "data": {
      "text/plain": [
       "23444"
      ]
     },
     "execution_count": 101,
     "metadata": {},
     "output_type": "execute_result"
    }
   ],
   "source": [
    "len(range(range_tup[0], range_tup[1]))\n",
    "\n",
    "int((range_tup[0] + range_tup[1])/2)"
   ]
  },
  {
   "cell_type": "code",
   "execution_count": null,
   "metadata": {},
   "outputs": [],
   "source": [
    "def get_probes_in_range(start, stop):\n",
    "    return dict(sorted(list(annotate.probe.items())[start:stop]))\n",
    "\n",
    "probes = get_probes_in_range(0,5) # dict of the first 5 entries in annotate.probe\n",
    "\n",
    "chrom = 'Y'\n",
    "start = 8443000\n",
    "stop  = 8572220\n",
    "\n",
    "# key:  cg00035864 cg00050873 cg00061679 cg00063477 cg00121626\n",
    "# cord: 8553009    9363356    25314171   22741795   21664296\n",
    "# chr:  Y          Y          Y          Y          Y    \n",
    "\n",
    "[probes[k] for k in probes if probes[k].chr == chrom and start < probes[k].cord < stop]\n"
   ]
  },
  {
   "cell_type": "code",
   "execution_count": null,
   "metadata": {},
   "outputs": [],
   "source": []
  },
  {
   "cell_type": "code",
   "execution_count": null,
   "metadata": {},
   "outputs": [],
   "source": []
  },
  {
   "cell_type": "code",
   "execution_count": 6,
   "metadata": {},
   "outputs": [],
   "source": [
    "# %load '../methylator/annotation/annotate_450k.py'\n",
    "\n",
    "import os\n",
    "\n",
    "class Probe:\n",
    "    \"\"\"\n",
    "    Holds Illumina 450k probe info for a single CpG site.\n",
    "    \"\"\"\n",
    "    def __init__(self):\n",
    "        self.id = None\n",
    "        self. seq = None\n",
    "        self.name = None\n",
    "        self.chr = None\n",
    "        self.cord = None\n",
    "        self.strand = None\n",
    "        self.gene = None\n",
    "        self.refseq = None\n",
    "        self.tour = None\n",
    "        self.loc = None\n",
    "        \n",
    "class Interval:\n",
    "    \"\"\"\n",
    "    Define a genomic interval by chromsome and strand orientation.\n",
    "    \"\"\"\n",
    "    def __init__(self, chromosome, start, end, strand):\n",
    "        self.chr = chromosome\n",
    "        self.start = start\n",
    "        self.end = end\n",
    "        self.strand = strand\n",
    "\n",
    "class Location:\n",
    "    \"\"\"\n",
    "    Define a Probe location.\n",
    "    \"\"\"\n",
    "    BODY = \"Body\"\n",
    "    TSS200 = \"TSS200\"\n",
    "    TSS1500 = \"TSS1500\"\n",
    "    UTR5 = \"5'UTR\"\n",
    "    UTR3 = \"3'UTR\"\n",
    "    EXON = \"Exon\"\n",
    "\n",
    "class CpG_location:\n",
    "    \"\"\"\n",
    "    Defines a CpG location.\n",
    "    \"\"\"\n",
    "    ISLAND = \"Island\"\n",
    "    NSHORE = \"N_Shore\"\n",
    "    SSHORE = \"S_Shore\"\n",
    "    NSHELF = \"N_Shelf\"\n",
    "    SSHELF = \"S_Shelf\"\n",
    "    \n",
    "class SNP:\n",
    "    \"\"\"\n",
    "    Defines the SNPs in probes. Used to filter probes.\n",
    "    \"\"\"\n",
    "\n",
    "    def __init__(self):\n",
    "        self.probeid = None\n",
    "        self.snpid = None\n",
    "    \n",
    "class Annotate_450k:\n",
    "    \"\"\"\n",
    "    Parse and hold information about Illumina probes.\n",
    "    \"\"\"\n",
    "\n",
    "    def __init__(self):        \n",
    "        for i in open(anno_file, mode=\"r\"):\n",
    "            self.ann = os.path.join(\"../../data/\", i.strip(\"\\n\").strip(\"\\r\"))\n",
    "\n",
    "        self.probe = {}\n",
    "        self.__run__()\n",
    "\n",
    "    def __run__(self):\n",
    "        \"\"\"\n",
    "        A static function to setup the Probe classes.\n",
    "        \"\"\"\n",
    "        for i in open(self.ann, mode=\"r\"):\n",
    "            if i.startswith(\"cg\"):\n",
    "                data = i.split(\",\")\n",
    "                # Assign probe information.\n",
    "                new_probe = Probe()\n",
    "                new_probe.id = data[0]\n",
    "                new_probe.name = data[1]\n",
    "                new_probe.seq = data[13]\n",
    "                new_probe.chr = str(data[11])\n",
    "                new_probe.cord = int(data[12])\n",
    "                new_probe.strand = data[16]\n",
    "                new_probe.gene = data[21].split(\";\")\n",
    "                new_probe.refseq = data[22]\n",
    "                locs = data[23].split(\";\")\n",
    "                list_locs = []\n",
    "                for i in locs:\n",
    "                    if i not in list_locs:\n",
    "                        list_locs.append(i)\n",
    "\n",
    "                new_probe.loc = list_locs\n",
    "\n",
    "                new_probe.tour = data[25]\n",
    "                newcpg = {new_probe.id: new_probe}\n",
    "                self.probe.update(newcpg)\n",
    "\n",
    "    def get_probe(self, probe_id): #WORKS\n",
    "        \"\"\"\n",
    "        Return probe info associated with an reference.\n",
    "        \"\"\"\n",
    "        try:\n",
    "            probe = self.probe[probe_id]\n",
    "        except Exception as ex:\n",
    "            probe = None\n",
    "            print(\"WARNING: No probe with ref-id of %s found.\" % probe_id)\n",
    "        return probe\n",
    "\n",
    "    def get_all_probes(self):\n",
    "        \"\"\"\n",
    "        Return list of all probes.\n",
    "        \"\"\"\n",
    "        probe_list = []\n",
    "        for probe in self.probe.keys():\n",
    "            probe_list.append(self.get_probe(probe))\n",
    "        return probe_list\n",
    "    \n",
    "    def get_probes_by_list(self, list_of_ids):\n",
    "        \"\"\"\n",
    "        Return a list of probes from a list of references.\n",
    "        \"\"\"\n",
    "        out_list = []\n",
    "        for probe_id in list_of_ids:\n",
    "            out_list.append(self.get_probe(probe_id))\n",
    "\n",
    "        return out_list\n",
    "    \n",
    "    def get_probe_refs_by_gene(self, gene_name):\n",
    "        \"\"\"\n",
    "        Get all probe references associated with a gene.\n",
    "        \"\"\"\n",
    "        probes = {k: self.probe[k] for k in self.probe if gene_name in self.probe[k].gene}\n",
    "        return self.get_keys(probes.keys())\n",
    "\n",
    "    def get_probe_refs_by_location(self, probe_loc):\n",
    "        \"\"\"\n",
    "        Get all probe references associated with a genomic location.\n",
    "        \"\"\"\n",
    "        probes = {k: self.probe[k] for k in self.probe if probe_loc in self.probe[k].loc}\n",
    "        return self.get_keys(probes.keys())\n",
    "\n",
    "    def get_keys(self, dic_keys):\n",
    "        \"\"\"\n",
    "        Get Probe reference from probe dictionaries.\n",
    "        \"\"\"\n",
    "        l = []\n",
    "        for i in dic_keys:\n",
    "            l.append(i)\n",
    "        return l\n",
    "\n",
    "    def get_probes_by_gene(self, gene_name):\n",
    "        \"\"\"\n",
    "        Return list of probes for an associated gene.\n",
    "        \"\"\"\n",
    "        return self.get_probes_by_list(self.get_probe_refs_by_gene(gene_name))\n",
    "\n",
    "    def get_probes_by_location(self, loc):\n",
    "        \"\"\"\n",
    "        Return list of probes from genomic location.\n",
    "        \"\"\"\n",
    "        return self.get_probes_by_list(self.get_probe_refs_by_location(loc))\n",
    "\n",
    "    def get_probes_by_cpg(self, cpg_loc):\n",
    "        \"\"\"\n",
    "        Get a list probes from cpg location.\n",
    "        FIXME\n",
    "        \"\"\"\n",
    "        return self.get_probes_by_list(self.get_probes_by_cpg(cpg_loc))\n",
    "\n",
    "    def get_probes_by_chr(self, chr_loc):\n",
    "        \"\"\"\n",
    "        Get a list of probes within a certain genomic region\n",
    "        FIXME\n",
    "        \"\"\"\n",
    "        print (chr_loc.chr)\n",
    "        probes = {k: self.probe[k] for k in self.probe if\n",
    "                  self.probe[k].chr == chr_loc.chr}\n",
    "\n",
    "    def get_probes_by_chr_and_loc(self, chr_loc):\n",
    "        \"\"\"\n",
    "        Get a list of probes within a certain genomic region\n",
    "        FIXME\n",
    "        \"\"\"\n",
    "        chrom = chr_loc.chr\n",
    "        start = int(chr_loc.start)\n",
    "        end = int(chr_loc.end)\n",
    "        \n",
    "        #print (chrom, start, stop)\n",
    "\n",
    "        probes = {k: self.probe[k] for k in self.probe if\n",
    "                  self.probe[k].chr == chrom and start < self.probe[k].cord < end}\n",
    "        return probes\n",
    "\n",
    "    def get_probe_keys_by_chr_and_loc(self, chr_loc):\n",
    "        \"\"\"\n",
    "        Get a list of probe reference *keys* within a genomic region\n",
    "        FIXME\n",
    "        \"\"\"\n",
    "        probes = self.get_probes_by_chr_and_loc(chr_loc)\n",
    "        return self.get_keys(probes)\n",
    "\n",
    "    def get_number(self):\n",
    "        \"\"\"\n",
    "        Return total number of probes.\n",
    "        \"\"\"\n",
    "        number = 0\n",
    "        for probe_id in self.probe.keys():\n",
    "            number += 1\n",
    "\n",
    "        return number\n",
    "\n",
    "    def get_coord(self, probe):\n",
    "        \"\"\"\n",
    "        Get genomic coordinate of a single probe.\n",
    "        \"\"\"\n",
    "        return probe.cord\n",
    "    \n",
    "    def get_sorted_probes_by_id(self):\n",
    "        \"\"\"\n",
    "        Sort probes according to probe id.\n",
    "        \"\"\"\n",
    "        sorted_keys = sorted(list(self.probe.keys()))\n",
    "        return sorted_keys\n",
    "    \n",
    "    def get_sorted_probes_by_chr(self):\n",
    "        \"\"\"\n",
    "        Sort probes according to probe id.\n",
    "        \"\"\"\n",
    "        return sorted(self.get_all_probes(), key=lambda x: x.chr)\n",
    "    \n",
    "    def remove_snp_probes(self):\n",
    "        \"\"\"\n",
    "        Removes all SNPs associated with probes.\n",
    "        \"\"\"\n",
    "        snp_list = []\n",
    "        snp_file = open(\"../../data/humanmethylation450_dbsnp137.snpupdate.table.v2.sorted.txt\", \"r\")\n",
    "        for line in snp_file:\n",
    "            if line.startswith(\"cg\"):\n",
    "                line = line.strip(\"\\n\").strip(\"\\r\").split(\"\\t\")\n",
    "                new_snp = SNP()\n",
    "                new_snp.probeid = line[0]\n",
    "                new_snp.snpid = line[1]\n",
    "                snp_list.append(new_snp)\n",
    "\n",
    "        for snp in snp_list:\n",
    "            self.probe.pop(snp.probeid)\n",
    "\n",
    "anno_file = os.path.abspath(\"../../data/config.ini\") # Illumina probe manifest. Note: This (large) file is not \n",
    "                                                     # in the repository.\n",
    "\n",
    "# Functions to save/load dictionary objects. \n",
    "\n",
    "import _pickle as pickle\n",
    "\n",
    "def save_obj(obj, name):\n",
    "    with open('../../data/pickle/'+ name + '.pkl', 'wb+') as f:\n",
    "        pickle.dump(obj, f)\n",
    "        \n",
    "def load_obj(name):\n",
    "    with open('../../data/pickle/' + name + '.pkl', 'rb') as f:\n",
    "        return pickle.load(f)"
   ]
  },
  {
   "cell_type": "code",
   "execution_count": null,
   "metadata": {},
   "outputs": [],
   "source": []
  }
 ],
 "metadata": {
  "kernelspec": {
   "display_name": "Python 3",
   "language": "python",
   "name": "python3"
  },
  "language_info": {
   "codemirror_mode": {
    "name": "ipython",
    "version": 3
   },
   "file_extension": ".py",
   "mimetype": "text/x-python",
   "name": "python",
   "nbconvert_exporter": "python",
   "pygments_lexer": "ipython3",
   "version": "3.6.8"
  }
 },
 "nbformat": 4,
 "nbformat_minor": 2
}
