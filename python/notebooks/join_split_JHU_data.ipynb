{
 "cells": [
  {
   "cell_type": "markdown",
   "metadata": {},
   "source": [
    "### Join or Split JHU Methylation Data Sets"
   ]
  },
  {
   "cell_type": "markdown",
   "metadata": {},
   "source": [
    "NOTE: Before running, __go to the last line__ and run that first."
   ]
  },
  {
   "cell_type": "code",
   "execution_count": 2,
   "metadata": {},
   "outputs": [],
   "source": [
    "import os\n",
    "import pandas as pd"
   ]
  },
  {
   "cell_type": "code",
   "execution_count": 3,
   "metadata": {},
   "outputs": [],
   "source": [
    "pickle_base = '../../data/pickle/'\n",
    "tissue      = 'BRCA'\n",
    "directory   = tissue + '-PAIRED/'\n",
    "minor       = 'BH'\n",
    "major       = 'A1F5'\n",
    "\n",
    "TCGA   = {\"LUSC\": ['43-6771', '18-5595', '22-5471', '39-5031', '33-4589', '33-4586'],\n",
    "          \"LUAD\": ['50-5931', '15-5420', '38-4631', '49-4488', '50-5932', '50-5935'],\n",
    "          \"COAD\": ['AA-3697', 'AA-3713', 'AA-3506', 'AZ-6599', 'A6-2686', 'A6-2682'],\n",
    "          \"BRCA\": ['BH-A0BZ', 'BH-A1EN', 'BH-A1F5', 'E2-A1IO'],          \n",
    "          \"GBM\":  ['74-6573', '06-0152']}"
   ]
  },
  {
   "cell_type": "code",
   "execution_count": 4,
   "metadata": {},
   "outputs": [],
   "source": [
    "def load_samples(k):\n",
    "    sample_list = []\n",
    "    for key in TCGA.keys():\n",
    "        if key == k:\n",
    "            for sample in TCGA[key]:\n",
    "                sample_list.append('TCGA-{s1}-{s2}-{k}'.format(k=key, \n",
    "                              s1 = sample.split('-')[0], \n",
    "                              s2 = sample.split('-')[1]))\n",
    "    return sample_list"
   ]
  },
  {
   "cell_type": "code",
   "execution_count": 5,
   "metadata": {},
   "outputs": [
    {
     "name": "stdout",
     "output_type": "stream",
     "text": [
      "loading TCGA-74-6573-GBM ...\n",
      "loading TCGA-06-0152-GBM ...\n"
     ]
    }
   ],
   "source": [
    "try:\n",
    "    GBM_sample_dict = {}\n",
    "    sample_list = load_samples('GBM')\n",
    "    for sample in sample_list:\n",
    "        GBM_sample_dict[sample] = load_obj(sample)\n",
    "except FileNotFoundError:\n",
    "    print ('File not found...')"
   ]
  },
  {
   "cell_type": "code",
   "execution_count": 6,
   "metadata": {},
   "outputs": [
    {
     "data": {
      "text/plain": [
       "{'cg00000029': <__main__.Probe at 0x113b68320>,\n",
       " 'cg00000165': <__main__.Probe at 0x113b68a20>}"
      ]
     },
     "execution_count": 6,
     "metadata": {},
     "output_type": "execute_result"
    }
   ],
   "source": [
    "dict(list(GBM_sample_dict['TCGA-74-6573-GBM'].items())[0:2])"
   ]
  },
  {
   "cell_type": "code",
   "execution_count": 7,
   "metadata": {},
   "outputs": [
    {
     "data": {
      "text/plain": [
       "{'cg00000029': <__main__.Probe at 0x116993d30>,\n",
       " 'cg00000165': <__main__.Probe at 0x126d3fdd8>}"
      ]
     },
     "execution_count": 7,
     "metadata": {},
     "output_type": "execute_result"
    }
   ],
   "source": [
    "dict(list(GBM_sample_dict['TCGA-06-0152-GBM'].items())[0:2])"
   ]
  },
  {
   "cell_type": "code",
   "execution_count": 1,
   "metadata": {},
   "outputs": [],
   "source": [
    "# %load '../methylator/annotation/annotate_450k.py'\n",
    "import os\n",
    "\n",
    "class Probe:\n",
    "    \"\"\"\n",
    "    Holds Illumina 450k probe info for a single CpG site.\n",
    "    \"\"\"\n",
    "    def __init__(self):\n",
    "        self.id = None\n",
    "        self.seq = None\n",
    "        self.name = None\n",
    "        self.chr = None\n",
    "        self.hg19_cord = None\n",
    "        self.strand = None\n",
    "        self.gene = None\n",
    "        self.refseq = None\n",
    "        self.tour = None\n",
    "        self.feature = None\n",
    "        \n",
    "class Interval:\n",
    "    \"\"\"\n",
    "    Define a genomic interval by chromsome and strand orientation.\n",
    "    \"\"\"\n",
    "    def __init__(self, chromosome, start, end, strand):\n",
    "        self.chr = chromosome\n",
    "        self.start = start\n",
    "        self.end = end\n",
    "        self.strand = strand\n",
    "\n",
    "class Feature:\n",
    "    \"\"\"\n",
    "    Define a Probe feature.\n",
    "    \"\"\"\n",
    "    BODY = \"Body\"\n",
    "    TSS200 = \"TSS200\"\n",
    "    TSS1500 = \"TSS1500\"\n",
    "    UTR5 = \"5'UTR\"\n",
    "    UTR3 = \"3'UTR\"\n",
    "    EXON = \"Exon\"\n",
    "\n",
    "class CpG_location:\n",
    "    \"\"\"\n",
    "    Defines a CpG location.\n",
    "    \"\"\"\n",
    "    ISLAND = \"Island\"\n",
    "    NSHORE = \"N_Shore\"\n",
    "    SSHORE = \"S_Shore\"\n",
    "    NSHELF = \"N_Shelf\"\n",
    "    SSHELF = \"S_Shelf\"\n",
    "    \n",
    "class SNP:\n",
    "    \"\"\"\n",
    "    Defines the SNPs in probes. Used to filter probes.\n",
    "    \"\"\"\n",
    "\n",
    "    def __init__(self):\n",
    "        self.probeid = None\n",
    "        self.snpid = None\n",
    "    \n",
    "class Annotate_450k:\n",
    "    \"\"\"\n",
    "    Parse and hold information about Illumina probes.\n",
    "    \"\"\"\n",
    "\n",
    "    def __init__(self):        \n",
    "        for i in open(anno_file, mode=\"r\"):\n",
    "            self.ann = os.path.join(\"../../data/\", i.strip(\"\\n\").strip(\"\\r\"))\n",
    "\n",
    "        self.probe = {}\n",
    "        self.__run__()\n",
    "\n",
    "    def __run__(self):\n",
    "        \"\"\"\n",
    "        A static function to setup the Probe classes.\n",
    "        \"\"\"\n",
    "        for i in open(self.ann, mode=\"r\"):\n",
    "            if i.startswith(\"cg\"):\n",
    "                data = i.split(\",\")\n",
    "                # Assign probe information.\n",
    "                new_probe = Probe()\n",
    "                new_probe.id = data[0]                 # ID\n",
    "                new_probe.name = data[1]               # name\n",
    "                new_probe.seq = data[13]               # sequence prior to bi-sulfite conv.\n",
    "                new_probe.chr = str(data[11])          # chromosome\n",
    "                new_probe.hg19_cord = int(data[12])    # chromosomal coordinates of the CpG.\n",
    "                new_probe.strand = data[16]            # strand\n",
    "                new_probe.gene = data[21].split(\";\")   # UCSC_RefGene_Name\n",
    "                new_probe.refseq = data[22]            # UCSC_RefGene_Accession\n",
    "                features = data[23].split(\";\")         # UCSC_RefGene_Group\n",
    "                list_features = []\n",
    "                for i in features:\n",
    "                    if i not in list_features:\n",
    "                        list_features.append(i)\n",
    "\n",
    "                new_probe.feature = list_features\n",
    "\n",
    "                new_probe.tour = data[25]              # Relation_to_UCSC_CpG_Island\n",
    "                newcpg = {new_probe.id: new_probe}\n",
    "                self.probe.update(newcpg)\n",
    "\n",
    "    def get_number(self):\n",
    "        \"\"\"\n",
    "        Return total number of probes.\n",
    "        \"\"\"\n",
    "        number = 0\n",
    "        for probe_id in self.probe.keys():\n",
    "            number += 1\n",
    "\n",
    "        return number\n",
    "\n",
    "    def get_probe(self, probe_id): #WORKS\n",
    "        \"\"\"\n",
    "        Return probe info associated with an reference.\n",
    "        \"\"\"\n",
    "        try:\n",
    "            probe = self.probe[probe_id]\n",
    "        except Exception as ex:\n",
    "            probe = None\n",
    "            print(\"WARNING: No probe with ref-id of %s found.\" % probe_id)\n",
    "        return probe\n",
    "\n",
    "    def remove_snp_probes(self):\n",
    "        \"\"\"\n",
    "        Removes all SNPs associated with probes.\n",
    "        \"\"\"\n",
    "        snp_list = []\n",
    "        snp_file = open(\"../../data/humanmethylation450_dbsnp137.snpupdate.table.v2.sorted.txt\", \"r\")\n",
    "        for line in snp_file:\n",
    "            if line.startswith(\"cg\"):\n",
    "                line = line.strip(\"\\n\").strip(\"\\r\").split(\"\\t\")\n",
    "                new_snp = SNP()\n",
    "                new_snp.probeid = line[0]\n",
    "                new_snp.snpid = line[1]\n",
    "                snp_list.append(new_snp)\n",
    "\n",
    "        for snp in snp_list:\n",
    "            self.probe.pop(snp.probeid)\n",
    "\n",
    "anno_file = os.path.abspath(\"../../data/config.ini\") # Illumina probe manifest. Note: This (large) file is not \n",
    "                                                     # in the repository.\n",
    "# Functions to save/load dictionary objects. \n",
    "\n",
    "import _pickle as pickle\n",
    "\n",
    "def save_obj(obj, name):\n",
    "    print('saving ' + name + ' ...')\n",
    "    with open('../../data/pickle/'+ name + '.pkl', 'wb+') as f:\n",
    "        pickle.dump(obj, f)\n",
    "        \n",
    "def load_obj(name):\n",
    "    print('loading ' + name + ' ...')\n",
    "    with open('../../data/pickle/' + name + '.pkl', 'rb') as f:\n",
    "        return pickle.load(f)"
   ]
  },
  {
   "cell_type": "code",
   "execution_count": null,
   "metadata": {},
   "outputs": [],
   "source": []
  }
 ],
 "metadata": {
  "kernelspec": {
   "display_name": "Python 3",
   "language": "python",
   "name": "python3"
  },
  "language_info": {
   "codemirror_mode": {
    "name": "ipython",
    "version": 3
   },
   "file_extension": ".py",
   "mimetype": "text/x-python",
   "name": "python",
   "nbconvert_exporter": "python",
   "pygments_lexer": "ipython3",
   "version": "3.6.8"
  }
 },
 "nbformat": 4,
 "nbformat_minor": 2
}
