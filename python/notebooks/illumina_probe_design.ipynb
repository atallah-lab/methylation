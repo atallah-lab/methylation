{
 "cells": [
  {
   "cell_type": "markdown",
   "metadata": {},
   "source": [
    "#### Illumina 450k Probe Design"
   ]
  },
  {
   "cell_type": "raw",
   "metadata": {},
   "source": [
    "Illumina 450k Probe row entries we're interested in (all rows are referenced against Build 37).\n",
    "\n",
    "1.\tName\t\t\t\t\t\t\tIlmnID.\n",
    "2.\tAddressA_ID\t\t\t\t\t\tAddress ID for the probe used for both A and B alleles.\n",
    "3. \tAlleleA_ProbeSeq\t\t\t\tSequence of the probe identified in the AddressA_ID column.\n",
    "9.\tForward_Sequence\t\t\t\tPlus (+) strand (HapMap) sequence (5'-3') flanking the CG.\n",
    "11.\tCHR\t\t\t\t\t\t\t\tChromosome containing the CpG (Build 37).\n",
    "12. MAPINFO\t\t\t\t\t\t\tChromosomal coordinates of the CpG (Build 37).\n",
    "13. SourceSeq \t\t\t\t\t\tOriginal genomic sequence used for probe design prior to bisulfite conversion.\n",
    "16. Strand\t\t\t\t\t\t\tF Strand = (+) and R = (-).\n",
    "21.\tUCSC_RefGene_Name\t\t\t\tTarget gene name[s], from UCSC. Possible multiple splice variants.\n",
    "22. UCSC_RefGene_Accession\t\t\tUCSC ACC numbers of target transcripts, in order as target gene transcripts.\n",
    "23. UCSC_RefGene_Group\t\t\t\tGene region feature of CpG position from UCSC. In the same order as transcripts.\n",
    "24. UCSC_CpG_Islands_Name\t\t\tChromosomal coordinates of the CpG Island, from UCSC.\n",
    "25. Relation_to_UCSC_CpG_Island\t\tThe location of the CpG relative to the CpG island.\n",
    "\n",
    "Example:\n",
    "1   Name:                           cg00035864\n",
    "2\tAddressA_ID: \t \t\t        31729416\n",
    "3\tAlleleA_ProbeSeq: \t \t        AAAACACTAACAATCTTATCCACATAAACCCTTAAATTTATCTCAAATTC\n",
    "9\tForward_Sequence: \t \t        AATCCAAAGATGATGGAGGTAAGTGCCCG...[CG]...TCTCTGGATTG\n",
    "11\tCHR: \t \t\t\t\t        Y\n",
    "12\tMAPINFO: \t \t\t\t        8553009\n",
    "13\tSourceSeq: \t \t\t\t        AGACACTAGCAGTCTTGTCCACATAGACCCTTGAATTTATCTCAAATTCG\n",
    "16\tStrand: \t \t\t\t        F\n",
    "21\tUCSC_RefGene_Name: \t \t        TTTY18\n",
    "22\tUCSC_RefGene_Accession:\t        NR_001550\n",
    "23\tUCSC_RefGene_Group:\t\t        TSS1500\n",
    "24  UCSC_CpG_Islands_Name           '' (empty)\n",
    "25  Relation_to_UCSC_CpG_Island     '' (empty)"
   ]
  },
  {
   "cell_type": "code",
   "execution_count": 1,
   "metadata": {},
   "outputs": [
    {
     "name": "stdout",
     "output_type": "stream",
     "text": [
      "0\tIlmnID: \t cg00035864\n",
      "1\tName: \t cg00035864\n",
      "2\tAddressA_ID: \t 31729416\n",
      "3\tAlleleA_ProbeSeq: \t AAAACACTAACAATCTTATCCACATAAACCCTTAAATTTATCTCAAATTC\n",
      "4\tAddressB_ID: \t \n",
      "5\tAlleleB_ProbeSeq: \t \n",
      "6\tInfinium_Design_Type: \t II\n",
      "7\tNext_Base: \t \n",
      "8\tColor_Channel: \t \n",
      "9\tForward_Sequence: \t AATCCAAAGATGATGGAGGAGTGCCCGCTCATGATGTGAAGTACCTGCTCAGCTGGAAAC[CG]AATTTGAGATAAATTCAAGGGTCTATGTGGACAAGACTGCTAGTGTCTCTCTCTGGATTG\n",
      "10\tGenome_Build: \t 37\n",
      "11\tCHR: \t Y\n",
      "12\tMAPINFO: \t 8553009\n",
      "13\tSourceSeq: \t AGACACTAGCAGTCTTGTCCACATAGACCCTTGAATTTATCTCAAATTCG\n",
      "14\tChromosome_36: \t Y\n",
      "15\tCoordinate_36: \t 8613009\n",
      "16\tStrand: \t F\n",
      "17\tProbe_SNPs: \t \n",
      "18\tProbe_SNPs_10: \t \n",
      "19\tRandom_Loci: \t \n",
      "20\tMethyl27_Loci: \t \n",
      "21\tUCSC_RefGene_Name: \t TTTY18\n",
      "22\tUCSC_RefGene_Accession: \t NR_001550\n",
      "23\tUCSC_RefGene_Group: \t TSS1500\n",
      "24\tUCSC_CpG_Islands_Name: \t \n",
      "25\tRelation_to_UCSC_CpG_Island: \t \n",
      "26\tPhantom: \t \n",
      "27\tDMR: \t \n",
      "28\tEnhancer: \t \n",
      "29\tHMM_Island: \t \n",
      "30\tRegulatory_Feature_Name: \t \n",
      "31\tRegulatory_Feature_Group: \t \n",
      "32\tDHS\n",
      ": \t \n",
      "\n"
     ]
    }
   ],
   "source": [
    "# Code needed to figure out the above Illumina column names and provide an example row.\n",
    "import os\n",
    "from itertools import islice\n",
    "anno_file = \"../../data/HumanMethylation450_15017482_v1-2.csv\"\n",
    "\n",
    "N=10\n",
    "with open(anno_file) as anno:\n",
    "    head = [next(anno) for x in range(N)]\n",
    "\n",
    "headers = head[7].split(\",\")\n",
    "row = head[8].split(\",\")\n",
    "\n",
    "for i in range(0,len(headers)): # 32 columns\n",
    "    print ('{idx}\\t{h}: \\t {v}'.format(idx=i, h=headers[i], v=row[i]))\n",
    "    pass"
   ]
  },
  {
   "cell_type": "code",
   "execution_count": null,
   "metadata": {},
   "outputs": [],
   "source": []
  }
 ],
 "metadata": {
  "kernelspec": {
   "display_name": "Python 3",
   "language": "python",
   "name": "python3"
  },
  "language_info": {
   "codemirror_mode": {
    "name": "ipython",
    "version": 3
   },
   "file_extension": ".py",
   "mimetype": "text/x-python",
   "name": "python",
   "nbconvert_exporter": "python",
   "pygments_lexer": "ipython3",
   "version": "3.6.8"
  }
 },
 "nbformat": 4,
 "nbformat_minor": 2
}
