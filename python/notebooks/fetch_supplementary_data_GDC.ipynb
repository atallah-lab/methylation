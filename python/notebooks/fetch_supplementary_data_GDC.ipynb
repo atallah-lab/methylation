{
 "cells": [
  {
   "cell_type": "markdown",
   "metadata": {},
   "source": [
    "Retrieve supplementary data from GDC. This method fetches further details about an experiment using the GDC API."
   ]
  },
  {
   "cell_type": "markdown",
   "metadata": {},
   "source": [
    "NOTE: Before running, __go to the last cell__ and run that first."
   ]
  },
  {
   "cell_type": "code",
   "execution_count": 1,
   "metadata": {},
   "outputs": [],
   "source": [
    "import os\n",
    "import pandas as pd"
   ]
  },
  {
   "cell_type": "code",
   "execution_count": 4,
   "metadata": {},
   "outputs": [
    {
     "data": {
      "text/plain": [
       "'8d0d7a7e-8fae-437d-9b39-f2f17d0f5e4f'"
      ]
     },
     "execution_count": 4,
     "metadata": {},
     "output_type": "execute_result"
    }
   ],
   "source": [
    "pickle_base = '../../data/pickle/'\n",
    "tissue      = 'BRCA'\n",
    "directory   = tissue + '-PAIRED/'\n",
    "minor       = 'BH'\n",
    "major       = 'A1F5'\n",
    "\n",
    "TCGA   = {\"LUSC\": '43-6771',\n",
    "          \"LUAD\": '50-5931',\n",
    "          \"COAD\": 'AA-3713',\n",
    "          \"BRCA\": 'E2-A1IO',          \n",
    "          \"GBM\":  '74-6573'}\n",
    "\n",
    "Id2Hex[TCGA[\"GBM\"]]"
   ]
  },
  {
   "cell_type": "code",
   "execution_count": 5,
   "metadata": {},
   "outputs": [
    {
     "name": "stdout",
     "output_type": "stream",
     "text": [
      "{\n",
      "  \"data\": {\n",
      "    \"hits\": [\n",
      "      {\n",
      "        \"access\": \"open\",\n",
      "        \"acl\": [\n",
      "          \"open\"\n",
      "        ],\n",
      "        \"created_datetime\": \"2016-10-27T21:58:12.297090-05:00\",\n",
      "        \"data_category\": \"DNA Methylation\",\n",
      "        \"data_format\": \"TXT\",\n",
      "        \"data_release\": \"12.0 - 16.0\",\n",
      "        \"data_type\": \"Methylation Beta Value\",\n",
      "        \"experimental_strategy\": \"Methylation Array\",\n",
      "        \"file_id\": \"e7441209-833d-4c2c-9bcc-fae5b1c7f3ff\",\n",
      "        \"file_name\": \"jhu-usc.edu_LUSC.HumanMethylation450.4.lvl-3.TCGA-43-6771-11A-01D-1818-05.gdc_hg38.txt\",\n",
      "        \"file_size\": 141298913,\n",
      "        \"id\": \"e7441209-833d-4c2c-9bcc-fae5b1c7f3ff\",\n",
      "        \"md5sum\": \"59d3a880d07cee9651c2a4d8c5d7c9d1\",\n",
      "        \"platform\": \"Illumina Human Methylation 450\",\n",
      "        \"state\": \"released\",\n",
      "        \"submitter_id\": \"e70f8378-d448-43da-b483-11d14e76abb6-beta-value\",\n",
      "        \"type\": \"methylation_beta_value\",\n",
      "        \"updated_datetime\": \"2018-11-30T08:20:44.342872+00:00\",\n",
      "        \"version\": \"1\"\n",
      "      },\n",
      "      {\n",
      "        \"access\": \"open\",\n",
      "        \"acl\": [\n",
      "          \"open\"\n",
      "        ],\n",
      "        \"created_datetime\": \"2016-10-27T21:58:12.297090-05:00\",\n",
      "        \"data_category\": \"DNA Methylation\",\n",
      "        \"data_format\": \"TXT\",\n",
      "        \"data_release\": \"12.0 - 16.0\",\n",
      "        \"data_type\": \"Methylation Beta Value\",\n",
      "        \"experimental_strategy\": \"Methylation Array\",\n",
      "        \"file_id\": \"bd2c1469-848e-4fc3-8fe1-9d96c073eabd\",\n",
      "        \"file_name\": \"jhu-usc.edu_LUSC.HumanMethylation450.4.lvl-3.TCGA-43-6771-01A-11D-1818-05.gdc_hg38.txt\",\n",
      "        \"file_size\": 141276398,\n",
      "        \"id\": \"bd2c1469-848e-4fc3-8fe1-9d96c073eabd\",\n",
      "        \"md5sum\": \"6f967891cf12b7709c330b83a48f2135\",\n",
      "        \"platform\": \"Illumina Human Methylation 450\",\n",
      "        \"state\": \"released\",\n",
      "        \"submitter_id\": \"646a96f8-9122-4791-9619-ae76937a85f6-beta-value\",\n",
      "        \"type\": \"methylation_beta_value\",\n",
      "        \"updated_datetime\": \"2018-11-30T08:20:44.342872+00:00\",\n",
      "        \"version\": \"1\"\n",
      "      }\n",
      "    ],\n",
      "    \"pagination\": {\n",
      "      \"count\": 2,\n",
      "      \"from\": 0,\n",
      "      \"page\": 1,\n",
      "      \"pages\": 1,\n",
      "      \"size\": 10,\n",
      "      \"sort\": \"\",\n",
      "      \"total\": 2\n",
      "    }\n",
      "  },\n",
      "  \"warnings\": {}\n",
      "}\n"
     ]
    }
   ],
   "source": [
    "# %load '../../data/API/GDC_request.py' \n",
    "\n",
    "import requests\n",
    "import json\n",
    "\n",
    "case_id = Id2Hex[TCGA[\"LUSC\"]]\n",
    "\n",
    "files_endpt = \"https://api.gdc.cancer.gov/files\"\n",
    "\n",
    "filters={\"op\":\"and\",\n",
    " \"content\": [\n",
    "     {\"op\": \"in\",\n",
    "      \"content\": {\"field\":\"cases.case_id\",\"value\":[case_id]}},\n",
    "     {\"op\": \"in\",\n",
    "      \"content\": {\"field\":\"files.data_category\",\"value\":[\"DNA Methylation\"]}}\n",
    "     ]\n",
    "}\n",
    "params = {\n",
    "    \"filters\": json.dumps(filters),\n",
    "    \"format\": \"JSON\"\n",
    "    }\n",
    "\n",
    "response = requests.get(files_endpt, params = params)\n",
    "\n",
    "_json = response.content.decode('utf8').replace(\"'\", '\"')\n",
    "_data = json.loads(_json)\n",
    "s = json.dumps(_data, indent=2, sort_keys=True)\n",
    "\n",
    "print(s)"
   ]
  },
  {
   "cell_type": "code",
   "execution_count": 3,
   "metadata": {},
   "outputs": [],
   "source": [
    "# Complete table for all the experiments.\n",
    "# USAGE: \n",
    "# > Id2Hex['BH-A0BZ']\n",
    "\n",
    "Id2Hex = { 'AA-3697': 'dde411b2-5d2b-4638-8149-89bc1eb3c7ad', #COAD\n",
    "           'AA-3713': '57a2044d-20cc-4d02-b268-ce570a0fabe3', #COAD\n",
    "           'AA-3506': '28033279-cc74-4775-afdf-2497f6ddb55c', #COAD\n",
    "           'AZ-6599': 'fbb69964-f962-4b89-b59b-dd05f8faf61a', #COAD\n",
    "           'A6-2686': '19d1a5fc-3ce9-4e43-a364-a4150bcf911b', #COAD\n",
    "           'A6-2682': '77a44132-af22-4115-9fa2-78f2f74bf687', #COAD\n",
    "           '50-5931': '12ccd581-a921-41bc-bcee-4e9be54532cc', #LUAD\n",
    "           '38-4631': '2483621a-4db3-41ab-aa33-b9427ea8a0af', #LUAD\n",
    "           '49-4488': 'd721bfe0-90e3-415e-b9f3-1a270efa5fbb', #LUAD\n",
    "           '50-5932': 'ebcba7f2-ce13-4bae-97cd-91a6b1dcd465', #LUAD\n",
    "           '50-5935': '100430c8-1446-45c8-af36-b6dbb3ddd0c1', #LUAD\n",
    "           '43-6771': 'b0818bee-c32c-405c-ba09-956091fbe09b', #LUSC\n",
    "           '18-5595': '628b1bc3-825b-4d0e-a4cd-57eeaf98e798', #LUSC\n",
    "           '22-5471': 'bece6b8e-5d6c-4dd6-85a3-9b3a9c670aa7', #LUSC\n",
    "           '39-5031': '9f20b4bc-ee09-42ef-9392-68054a7a2cfe', #LUSC\n",
    "           '33-4589': '49f975ea-a1cf-4a9b-bf13-030c68cc99e4', #LUSC\n",
    "           '33-4586': '376dfd27-68e8-4a1a-9c4f-5064279b2a9e', #LUSC\n",
    "           'BH-A0BZ': '4a032bad-e726-48f2-8f39-e3acc109cc91', #BRCA\n",
    "           'BH-A1EN': '858652b8-c4c2-41d8-be32-fdc88e1a7bb0', #BRCA\n",
    "           'BH-A1F5': 'e663954c-05a8-479a-a623-400c1eb5efc6', #BRCA\n",
    "           'E2-A1IO': '71fc8941-4cfb-47ea-a533-873d38f8c95c', #BRCA\n",
    "           '74-6573': '8d0d7a7e-8fae-437d-9b39-f2f17d0f5e4f', #GBM\n",
    "           '06-0152': 'f5bc5d97-e054-4e53-992d-71b896bd97d5'  #GBM\n",
    "          }"
   ]
  },
  {
   "cell_type": "code",
   "execution_count": null,
   "metadata": {},
   "outputs": [],
   "source": []
  }
 ],
 "metadata": {
  "kernelspec": {
   "display_name": "Python 3",
   "language": "python",
   "name": "python3"
  },
  "language_info": {
   "codemirror_mode": {
    "name": "ipython",
    "version": 3
   },
   "file_extension": ".py",
   "mimetype": "text/x-python",
   "name": "python",
   "nbconvert_exporter": "python",
   "pygments_lexer": "ipython3",
   "version": "3.6.8"
  }
 },
 "nbformat": 4,
 "nbformat_minor": 2
}
