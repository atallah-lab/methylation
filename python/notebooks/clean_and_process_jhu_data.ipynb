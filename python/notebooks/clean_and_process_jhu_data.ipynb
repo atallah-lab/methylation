{
 "cells": [
  {
   "cell_type": "markdown",
   "metadata": {},
   "source": [
    "### Clean and Process JHU Methylation Data"
   ]
  },
  {
   "cell_type": "markdown",
   "metadata": {},
   "source": [
    "NOTE: Before running, __go to the last cell__ and run that first."
   ]
  },
  {
   "cell_type": "markdown",
   "metadata": {},
   "source": [
    "This is part of a workflow that takes a paired-set of files from the Genomic Data Commons along with an annotation file of the Illumina 450k bead chip array. This array generates a comprehensive genome-wide profile of human DNA methylation. \n",
    "\n",
    "DNA methylation plays a significant role in the epigenetic regulation of gene expression, development and genetic imprinting in vertebrates. "
   ]
  },
  {
   "cell_type": "code",
   "execution_count": 2,
   "metadata": {},
   "outputs": [],
   "source": [
    "import os\n",
    "import pandas as pd"
   ]
  },
  {
   "cell_type": "code",
   "execution_count": 3,
   "metadata": {},
   "outputs": [
    {
     "name": "stdout",
     "output_type": "stream",
     "text": [
      "TCGA-BH-A1EN-BRCA.pkl\n"
     ]
    }
   ],
   "source": [
    "LONG_RUN = True # set to 'False' to skip long-running processes. \n",
    "\n",
    "base           = '../../data/johnshopkins-data/'\n",
    "pickle_base    = '../../data/pickle/'\n",
    "directory      = 'BRCA-PAIRED/'\n",
    "tissue         = 'BRCA'\n",
    "minor          = 'BH'\n",
    "major          = 'A1EN'\n",
    "\n",
    "file_str_norm  = 'TCGA-{minor}-{major}-{tissue}-{status}.{ext}'.format(minor=minor,\n",
    "                                                                major=major,\n",
    "                                                                tissue=tissue,\n",
    "                                                                status='Normal', \n",
    "                                                                ext='xlsx')\n",
    "file_str_tumr  = 'TCGA-{minor}-{major}-{tissue}-{status}.{ext}'.format(minor=minor,\n",
    "                                                                major=major,\n",
    "                                                                tissue=tissue,\n",
    "                                                                status='Tumor', \n",
    "                                                                ext='xlsx')\n",
    "file_str_picl  = 'TCGA-{minor}-{major}-{tissue}.{ext}'.format(minor=minor,\n",
    "                                                                major=major,\n",
    "                                                                tissue=tissue,\n",
    "                                                                ext='pkl')\n",
    "\n",
    "anno_str       = 'Illumina-450k-Anno.{rev}.{ext}'.format(rev='hg19',ext='pkl')\n",
    "\n",
    "tumor          = '{t}_tumor'.format(t=tissue) \n",
    "normal         = '{t}_normal'.format(t=tissue)\n",
    "methylation    = '{t}_methyl'.format(t=tissue)\n",
    "\n",
    "print(file_str_picl)"
   ]
  },
  {
   "cell_type": "markdown",
   "metadata": {},
   "source": [
    "Read in a pair of files - normal methyl values versus tumor methyl values - from the local filesystem. All data files are from https://portal.gdc.cancer.gov/. The Excel format is about 1/3 the size of the raw text files."
   ]
  },
  {
   "cell_type": "code",
   "execution_count": 4,
   "metadata": {},
   "outputs": [],
   "source": [
    "if LONG_RUN:\n",
    "    normal_file   =  pd.read_excel(base + directory + file_str_norm)\n",
    "    tumor_file    =  pd.read_excel(base + directory + file_str_tumr)\n",
    "else:\n",
    "    pass # load object."
   ]
  },
  {
   "cell_type": "markdown",
   "metadata": {},
   "source": [
    "Using the format above allows loading different datasets and running them without altering files paths, etc. "
   ]
  },
  {
   "cell_type": "code",
   "execution_count": 5,
   "metadata": {},
   "outputs": [
    {
     "data": {
      "text/html": [
       "<div>\n",
       "<style scoped>\n",
       "    .dataframe tbody tr th:only-of-type {\n",
       "        vertical-align: middle;\n",
       "    }\n",
       "\n",
       "    .dataframe tbody tr th {\n",
       "        vertical-align: top;\n",
       "    }\n",
       "\n",
       "    .dataframe thead th {\n",
       "        text-align: right;\n",
       "    }\n",
       "</style>\n",
       "<table border=\"1\" class=\"dataframe\">\n",
       "  <thead>\n",
       "    <tr style=\"text-align: right;\">\n",
       "      <th></th>\n",
       "      <th>Composite Element REF</th>\n",
       "      <th>Beta_value</th>\n",
       "      <th>Chromosome</th>\n",
       "      <th>Start</th>\n",
       "      <th>End</th>\n",
       "      <th>Gene_Symbol</th>\n",
       "      <th>Gene_Type</th>\n",
       "      <th>Transcript_ID</th>\n",
       "      <th>Position_to_TSS</th>\n",
       "      <th>CGI_Coordinate</th>\n",
       "      <th>Feature_Type</th>\n",
       "    </tr>\n",
       "  </thead>\n",
       "  <tbody>\n",
       "    <tr>\n",
       "      <th>0</th>\n",
       "      <td>cg00000029</td>\n",
       "      <td>0.194329</td>\n",
       "      <td>chr16</td>\n",
       "      <td>53434200</td>\n",
       "      <td>53434201</td>\n",
       "      <td>RBL2;RBL2;RBL2</td>\n",
       "      <td>protein_coding;protein_coding;protein_coding</td>\n",
       "      <td>ENST00000262133.9;ENST00000544405.5;ENST000005...</td>\n",
       "      <td>-221;-1420;222</td>\n",
       "      <td>CGI:chr16:53434489-53435297</td>\n",
       "      <td>N_Shore</td>\n",
       "    </tr>\n",
       "    <tr>\n",
       "      <th>1</th>\n",
       "      <td>cg00000108</td>\n",
       "      <td>NaN</td>\n",
       "      <td>chr3</td>\n",
       "      <td>37417715</td>\n",
       "      <td>37417716</td>\n",
       "      <td>C3orf35;C3orf35;C3orf35;C3orf35;C3orf35;C3orf3...</td>\n",
       "      <td>lincRNA;lincRNA;lincRNA;lincRNA;lincRNA;lincRN...</td>\n",
       "      <td>ENST00000328376.8;ENST00000332506.6;ENST000004...</td>\n",
       "      <td>18552;18552;6505;31445;18143;447;18552;18552</td>\n",
       "      <td>CGI:chr3:37451927-37453047</td>\n",
       "      <td>.</td>\n",
       "    </tr>\n",
       "    <tr>\n",
       "      <th>2</th>\n",
       "      <td>cg00000109</td>\n",
       "      <td>NaN</td>\n",
       "      <td>chr3</td>\n",
       "      <td>172198247</td>\n",
       "      <td>172198248</td>\n",
       "      <td>FNDC3B;FNDC3B;FNDC3B;FNDC3B;FNDC3B;FNDC3B</td>\n",
       "      <td>protein_coding;protein_coding;protein_coding;p...</td>\n",
       "      <td>ENST00000336824.7;ENST00000415807.5;ENST000004...</td>\n",
       "      <td>157692;158618;151333;71272;158587;71273</td>\n",
       "      <td>CGI:chr3:172039703-172040934</td>\n",
       "      <td>.</td>\n",
       "    </tr>\n",
       "    <tr>\n",
       "      <th>3</th>\n",
       "      <td>cg00000165</td>\n",
       "      <td>0.147221</td>\n",
       "      <td>chr1</td>\n",
       "      <td>90729117</td>\n",
       "      <td>90729118</td>\n",
       "      <td>.</td>\n",
       "      <td>.</td>\n",
       "      <td>.</td>\n",
       "      <td>.</td>\n",
       "      <td>CGI:chr1:90724932-90727247</td>\n",
       "      <td>S_Shore</td>\n",
       "    </tr>\n",
       "    <tr>\n",
       "      <th>4</th>\n",
       "      <td>cg00000236</td>\n",
       "      <td>0.885305</td>\n",
       "      <td>chr8</td>\n",
       "      <td>42405776</td>\n",
       "      <td>42405777</td>\n",
       "      <td>VDAC3</td>\n",
       "      <td>protein_coding</td>\n",
       "      <td>ENST00000022615.7</td>\n",
       "      <td>13872</td>\n",
       "      <td>CGI:chr8:42410918-42411241</td>\n",
       "      <td>.</td>\n",
       "    </tr>\n",
       "  </tbody>\n",
       "</table>\n",
       "</div>"
      ],
      "text/plain": [
       "  Composite Element REF  Beta_value Chromosome      Start        End  \\\n",
       "0            cg00000029    0.194329      chr16   53434200   53434201   \n",
       "1            cg00000108         NaN       chr3   37417715   37417716   \n",
       "2            cg00000109         NaN       chr3  172198247  172198248   \n",
       "3            cg00000165    0.147221       chr1   90729117   90729118   \n",
       "4            cg00000236    0.885305       chr8   42405776   42405777   \n",
       "\n",
       "                                         Gene_Symbol  \\\n",
       "0                                     RBL2;RBL2;RBL2   \n",
       "1  C3orf35;C3orf35;C3orf35;C3orf35;C3orf35;C3orf3...   \n",
       "2          FNDC3B;FNDC3B;FNDC3B;FNDC3B;FNDC3B;FNDC3B   \n",
       "3                                                  .   \n",
       "4                                              VDAC3   \n",
       "\n",
       "                                           Gene_Type  \\\n",
       "0       protein_coding;protein_coding;protein_coding   \n",
       "1  lincRNA;lincRNA;lincRNA;lincRNA;lincRNA;lincRN...   \n",
       "2  protein_coding;protein_coding;protein_coding;p...   \n",
       "3                                                  .   \n",
       "4                                     protein_coding   \n",
       "\n",
       "                                       Transcript_ID  \\\n",
       "0  ENST00000262133.9;ENST00000544405.5;ENST000005...   \n",
       "1  ENST00000328376.8;ENST00000332506.6;ENST000004...   \n",
       "2  ENST00000336824.7;ENST00000415807.5;ENST000004...   \n",
       "3                                                  .   \n",
       "4                                  ENST00000022615.7   \n",
       "\n",
       "                                Position_to_TSS                CGI_Coordinate  \\\n",
       "0                                -221;-1420;222   CGI:chr16:53434489-53435297   \n",
       "1  18552;18552;6505;31445;18143;447;18552;18552    CGI:chr3:37451927-37453047   \n",
       "2       157692;158618;151333;71272;158587;71273  CGI:chr3:172039703-172040934   \n",
       "3                                             .    CGI:chr1:90724932-90727247   \n",
       "4                                         13872    CGI:chr8:42410918-42411241   \n",
       "\n",
       "  Feature_Type  \n",
       "0      N_Shore  \n",
       "1            .  \n",
       "2            .  \n",
       "3      S_Shore  \n",
       "4            .  "
      ]
     },
     "execution_count": 5,
     "metadata": {},
     "output_type": "execute_result"
    }
   ],
   "source": [
    "normal_file.head() # the raw data contains NaNs..."
   ]
  },
  {
   "cell_type": "markdown",
   "metadata": {},
   "source": [
    "The files from JHU are 'TCGA Level 3 DNA methylation data' (hg19-based). GDC does liftover to convert the Illumina 450k probes to GRCh38. To understand how GDC does this see: [GDC](https://docs.gdc.cancer.gov/Data/Bioinformatics_Pipelines/Methylation_LO_Pipeline/). An explanation of the above rows and columns...\n",
    "\n",
    "| Field                 | Definition                                                                           |\n",
    "|-----------------------|--------------------------------------------------------------------------------------|\n",
    "| Composite Element REF | A unique ID for the array probe associated with a CpG site.                          |\n",
    "| Beta_value            | Ratio between the methylated array intensity and total array intensity.              |\n",
    "| Chromosome            | The chromosome in which the probe binding site is located.                           |\n",
    "| Start                 | The start of the CpG site on the chromosome. ()                                        |\n",
    "| End                   | The end of the CpG site on the chromosome. ()                                          |\n",
    "| Gene_Symbol           | Genes associated with the CpG site.                                                  |\n",
    "| Gene_Type             | A classification for each gene (e.g. protein coding, miRNA, pseudogene).             |\n",
    "| Transcript_ID         | Ensembl transcript IDs for each transcript associated with the genes detailed above  |\n",
    "| Position_to_TSS       | Distance in base pairs from the CpG site to each associated transcript's start site. |\n",
    "| CGI_Coordinate        | The start and end coordinates of the CpG island associated with the CpG site.        |\n",
    "| Feature_Type          | The position of the CpG site in reference to the island (Island, N_Shore etc.).      |"
   ]
  },
  {
   "cell_type": "markdown",
   "metadata": {},
   "source": [
    "The next two cells create a pre-edited methyl dataframe that is ultimately merged into a single object and saved to the file system.  "
   ]
  },
  {
   "cell_type": "code",
   "execution_count": 6,
   "metadata": {},
   "outputs": [],
   "source": [
    "# 1. Create an empty Pandas dataframe with columns we want to save from GDC.\n",
    "# 2. Create column slices of the GDC data to save. \n",
    "# 3. Clean up some of the columns with bad values (w/o loosing key reference to ID). \n",
    "# 4. Populate the dataframe.\n",
    "\n",
    "# 1. ------- create df headings\n",
    "_methyl_df = pd.DataFrame(columns = ['ID_REF',\n",
    "                                    'Location',\n",
    "                                    'CGI_Coordinate',\n",
    "                                    'Gene_Symbol',\n",
    "                                    'Gene_Type', \n",
    "                                    'Beta_Tumor', \n",
    "                                    'Beta_Normal',])\n",
    "# 2. ------- slice columns\n",
    "ID_REF    = normal_file['Composite Element REF']\n",
    "_location = normal_file['End']\n",
    "_cgi_cord = normal_file['CGI_Coordinate']\n",
    "_N_BETA   = normal_file['Beta_value'] # column slices from file\n",
    "_T_BETA   = tumor_file['Beta_value']\n",
    "\n",
    "# 3. ------- clean up bad rows\n",
    "_cgi_cord = [c[4:] for c in _cgi_cord]\n",
    "\n",
    "_gsymbol      = normal_file['Gene_Symbol']\n",
    "split_symbol  = _gsymbol.str.split(';')\n",
    "split_symbol  = [sym[0] if type(sym) != float else '.' for sym in split_symbol]\n",
    "_gsymbol      = pd.Series( (s for s in split_symbol) )\n",
    "\n",
    "_gtype        = normal_file['Gene_Type']\n",
    "split_gtype   = _gtype.str.split(';')\n",
    "split_gtype   = [sym[0] if type(sym) != float else '.' for sym in split_gtype]\n",
    "_gtype        = pd.Series( (s for s in split_gtype) )\n",
    "\n",
    "# 4. ------- populate dataframe\n",
    "_methyl_df['ID_REF']          =  ID_REF  # populate dataframe \n",
    "_methyl_df['Location']        =  _location\n",
    "_methyl_df['CGI_Coordinate']  = _cgi_cord\n",
    "_methyl_df['Gene_Symbol']     = _gsymbol\n",
    "_methyl_df['Gene_Type']       = _gtype\n",
    "_methyl_df['Beta_Normal']     = _N_BETA\n",
    "_methyl_df['Beta_Tumor']      = _T_BETA"
   ]
  },
  {
   "cell_type": "code",
   "execution_count": 7,
   "metadata": {},
   "outputs": [
    {
     "name": "stdout",
     "output_type": "stream",
     "text": [
      "485577\n"
     ]
    },
    {
     "data": {
      "text/html": [
       "<div>\n",
       "<style scoped>\n",
       "    .dataframe tbody tr th:only-of-type {\n",
       "        vertical-align: middle;\n",
       "    }\n",
       "\n",
       "    .dataframe tbody tr th {\n",
       "        vertical-align: top;\n",
       "    }\n",
       "\n",
       "    .dataframe thead th {\n",
       "        text-align: right;\n",
       "    }\n",
       "</style>\n",
       "<table border=\"1\" class=\"dataframe\">\n",
       "  <thead>\n",
       "    <tr style=\"text-align: right;\">\n",
       "      <th></th>\n",
       "      <th>ID_REF</th>\n",
       "      <th>Location</th>\n",
       "      <th>CGI_Coordinate</th>\n",
       "      <th>Gene_Symbol</th>\n",
       "      <th>Gene_Type</th>\n",
       "      <th>Beta_Tumor</th>\n",
       "      <th>Beta_Normal</th>\n",
       "    </tr>\n",
       "  </thead>\n",
       "  <tbody>\n",
       "    <tr>\n",
       "      <th>0</th>\n",
       "      <td>cg00000029</td>\n",
       "      <td>53434201</td>\n",
       "      <td>chr16:53434489-53435297</td>\n",
       "      <td>RBL2</td>\n",
       "      <td>protein_coding</td>\n",
       "      <td>0.119561</td>\n",
       "      <td>0.194329</td>\n",
       "    </tr>\n",
       "    <tr>\n",
       "      <th>1</th>\n",
       "      <td>cg00000108</td>\n",
       "      <td>37417716</td>\n",
       "      <td>chr3:37451927-37453047</td>\n",
       "      <td>C3orf35</td>\n",
       "      <td>lincRNA</td>\n",
       "      <td>NaN</td>\n",
       "      <td>NaN</td>\n",
       "    </tr>\n",
       "    <tr>\n",
       "      <th>2</th>\n",
       "      <td>cg00000109</td>\n",
       "      <td>172198248</td>\n",
       "      <td>chr3:172039703-172040934</td>\n",
       "      <td>FNDC3B</td>\n",
       "      <td>protein_coding</td>\n",
       "      <td>NaN</td>\n",
       "      <td>NaN</td>\n",
       "    </tr>\n",
       "    <tr>\n",
       "      <th>3</th>\n",
       "      <td>cg00000165</td>\n",
       "      <td>90729118</td>\n",
       "      <td>chr1:90724932-90727247</td>\n",
       "      <td>.</td>\n",
       "      <td>.</td>\n",
       "      <td>0.616919</td>\n",
       "      <td>0.147221</td>\n",
       "    </tr>\n",
       "    <tr>\n",
       "      <th>4</th>\n",
       "      <td>cg00000236</td>\n",
       "      <td>42405777</td>\n",
       "      <td>chr8:42410918-42411241</td>\n",
       "      <td>VDAC3</td>\n",
       "      <td>protein_coding</td>\n",
       "      <td>0.927754</td>\n",
       "      <td>0.885305</td>\n",
       "    </tr>\n",
       "  </tbody>\n",
       "</table>\n",
       "</div>"
      ],
      "text/plain": [
       "       ID_REF   Location            CGI_Coordinate Gene_Symbol  \\\n",
       "0  cg00000029   53434201   chr16:53434489-53435297        RBL2   \n",
       "1  cg00000108   37417716    chr3:37451927-37453047     C3orf35   \n",
       "2  cg00000109  172198248  chr3:172039703-172040934      FNDC3B   \n",
       "3  cg00000165   90729118    chr1:90724932-90727247           .   \n",
       "4  cg00000236   42405777    chr8:42410918-42411241       VDAC3   \n",
       "\n",
       "        Gene_Type  Beta_Tumor  Beta_Normal  \n",
       "0  protein_coding    0.119561     0.194329  \n",
       "1         lincRNA         NaN          NaN  \n",
       "2  protein_coding         NaN          NaN  \n",
       "3               .    0.616919     0.147221  \n",
       "4  protein_coding    0.927754     0.885305  "
      ]
     },
     "execution_count": 7,
     "metadata": {},
     "output_type": "execute_result"
    }
   ],
   "source": [
    "print(len(_methyl_df))\n",
    "_methyl_df.head()"
   ]
  },
  {
   "cell_type": "code",
   "execution_count": 8,
   "metadata": {},
   "outputs": [],
   "source": [
    "_methyl_df = _methyl_df.dropna(how='any') "
   ]
  },
  {
   "cell_type": "markdown",
   "metadata": {},
   "source": [
    "Dropping NaNs leaves us with a bit less (~390-400k) that the original 485k. The number of NaNs will vary. "
   ]
  },
  {
   "cell_type": "code",
   "execution_count": 9,
   "metadata": {},
   "outputs": [
    {
     "name": "stdout",
     "output_type": "stream",
     "text": [
      "395373\n"
     ]
    },
    {
     "data": {
      "text/html": [
       "<div>\n",
       "<style scoped>\n",
       "    .dataframe tbody tr th:only-of-type {\n",
       "        vertical-align: middle;\n",
       "    }\n",
       "\n",
       "    .dataframe tbody tr th {\n",
       "        vertical-align: top;\n",
       "    }\n",
       "\n",
       "    .dataframe thead th {\n",
       "        text-align: right;\n",
       "    }\n",
       "</style>\n",
       "<table border=\"1\" class=\"dataframe\">\n",
       "  <thead>\n",
       "    <tr style=\"text-align: right;\">\n",
       "      <th></th>\n",
       "      <th>ID_REF</th>\n",
       "      <th>Location</th>\n",
       "      <th>CGI_Coordinate</th>\n",
       "      <th>Gene_Symbol</th>\n",
       "      <th>Gene_Type</th>\n",
       "      <th>Beta_Tumor</th>\n",
       "      <th>Beta_Normal</th>\n",
       "    </tr>\n",
       "  </thead>\n",
       "  <tbody>\n",
       "    <tr>\n",
       "      <th>0</th>\n",
       "      <td>cg00000029</td>\n",
       "      <td>53434201</td>\n",
       "      <td>chr16:53434489-53435297</td>\n",
       "      <td>RBL2</td>\n",
       "      <td>protein_coding</td>\n",
       "      <td>0.119561</td>\n",
       "      <td>0.194329</td>\n",
       "    </tr>\n",
       "    <tr>\n",
       "      <th>3</th>\n",
       "      <td>cg00000165</td>\n",
       "      <td>90729118</td>\n",
       "      <td>chr1:90724932-90727247</td>\n",
       "      <td>.</td>\n",
       "      <td>.</td>\n",
       "      <td>0.616919</td>\n",
       "      <td>0.147221</td>\n",
       "    </tr>\n",
       "    <tr>\n",
       "      <th>4</th>\n",
       "      <td>cg00000236</td>\n",
       "      <td>42405777</td>\n",
       "      <td>chr8:42410918-42411241</td>\n",
       "      <td>VDAC3</td>\n",
       "      <td>protein_coding</td>\n",
       "      <td>0.927754</td>\n",
       "      <td>0.885305</td>\n",
       "    </tr>\n",
       "    <tr>\n",
       "      <th>5</th>\n",
       "      <td>cg00000289</td>\n",
       "      <td>68874423</td>\n",
       "      <td>chr14:68874710-68875103</td>\n",
       "      <td>ACTN1</td>\n",
       "      <td>protein_coding</td>\n",
       "      <td>0.784276</td>\n",
       "      <td>0.722705</td>\n",
       "    </tr>\n",
       "    <tr>\n",
       "      <th>6</th>\n",
       "      <td>cg00000292</td>\n",
       "      <td>28878780</td>\n",
       "      <td>chr16:28879633-28880547</td>\n",
       "      <td>ATP2A1</td>\n",
       "      <td>protein_coding</td>\n",
       "      <td>0.838242</td>\n",
       "      <td>0.634605</td>\n",
       "    </tr>\n",
       "  </tbody>\n",
       "</table>\n",
       "</div>"
      ],
      "text/plain": [
       "       ID_REF  Location           CGI_Coordinate Gene_Symbol       Gene_Type  \\\n",
       "0  cg00000029  53434201  chr16:53434489-53435297        RBL2  protein_coding   \n",
       "3  cg00000165  90729118   chr1:90724932-90727247           .               .   \n",
       "4  cg00000236  42405777   chr8:42410918-42411241       VDAC3  protein_coding   \n",
       "5  cg00000289  68874423  chr14:68874710-68875103       ACTN1  protein_coding   \n",
       "6  cg00000292  28878780  chr16:28879633-28880547      ATP2A1  protein_coding   \n",
       "\n",
       "   Beta_Tumor  Beta_Normal  \n",
       "0    0.119561     0.194329  \n",
       "3    0.616919     0.147221  \n",
       "4    0.927754     0.885305  \n",
       "5    0.784276     0.722705  \n",
       "6    0.838242     0.634605  "
      ]
     },
     "execution_count": 9,
     "metadata": {},
     "output_type": "execute_result"
    }
   ],
   "source": [
    "print(len(_methyl_df))\n",
    "_methyl_df.head()"
   ]
  },
  {
   "cell_type": "markdown",
   "metadata": {},
   "source": [
    "The following is sourced from an external file 'annotate_450k.py'. This object helps represent an Illumina 450k probe and will allow us to manipulate probes as arbitrary groups.  "
   ]
  },
  {
   "cell_type": "markdown",
   "metadata": {},
   "source": [
    "The following creates an annotation object from the Illumina 450k manifest. If the object was created and is local it will load it instead. "
   ]
  },
  {
   "cell_type": "code",
   "execution_count": 10,
   "metadata": {},
   "outputs": [
    {
     "name": "stdout",
     "output_type": "stream",
     "text": [
      "../../data/pickle/Illumina-450k-Anno.hg19.pkl\n"
     ]
    }
   ],
   "source": [
    "print (pickle_base + anno_str)"
   ]
  },
  {
   "cell_type": "code",
   "execution_count": 11,
   "metadata": {},
   "outputs": [
    {
     "name": "stdout",
     "output_type": "stream",
     "text": [
      "loading Illumina-450k-Anno.hg19 ...\n"
     ]
    }
   ],
   "source": [
    "exists_annotate   = os.path.isfile(pickle_base + anno_str)\n",
    "\n",
    "if exists_annotate: # load file\n",
    "    annotate = load_obj(anno_str[:-4])\n",
    "else:\n",
    "    annotate = Annotate_450k() # create annotation object containing all probes\n",
    "    save_obj(annotate, anno_str[:-4])\n"
   ]
  },
  {
   "cell_type": "code",
   "execution_count": 12,
   "metadata": {},
   "outputs": [
    {
     "data": {
      "text/plain": [
       "8553009"
      ]
     },
     "execution_count": 12,
     "metadata": {},
     "output_type": "execute_result"
    }
   ],
   "source": [
    "annotate.get_probe('cg00035864').hg19_cord # return a single probe, w/ hg19 coordinates."
   ]
  },
  {
   "cell_type": "markdown",
   "metadata": {},
   "source": [
    "At this point we have two big data structures: an annotation object which describes the 450k probes \n",
    "(annotate); and a methylation object for each cancer type (i.e. LUAD_methyl_df, GBM_methyl_df, etc.)\n",
    "We want to merge these into one object but need to clean up the SNPs first.  "
   ]
  },
  {
   "cell_type": "code",
   "execution_count": 13,
   "metadata": {},
   "outputs": [
    {
     "data": {
      "text/plain": [
       "482421"
      ]
     },
     "execution_count": 13,
     "metadata": {},
     "output_type": "execute_result"
    }
   ],
   "source": [
    "# size of annotate before cleaning...\n",
    "annotate.get_number() "
   ]
  },
  {
   "cell_type": "code",
   "execution_count": 14,
   "metadata": {},
   "outputs": [],
   "source": [
    "# after dropping SNPs...\n",
    "annotate.remove_snp_probes()"
   ]
  },
  {
   "cell_type": "markdown",
   "metadata": {},
   "source": [
    "Change the index label to be ID_REF..."
   ]
  },
  {
   "cell_type": "code",
   "execution_count": 15,
   "metadata": {},
   "outputs": [
    {
     "data": {
      "text/html": [
       "<div>\n",
       "<style scoped>\n",
       "    .dataframe tbody tr th:only-of-type {\n",
       "        vertical-align: middle;\n",
       "    }\n",
       "\n",
       "    .dataframe tbody tr th {\n",
       "        vertical-align: top;\n",
       "    }\n",
       "\n",
       "    .dataframe thead th {\n",
       "        text-align: right;\n",
       "    }\n",
       "</style>\n",
       "<table border=\"1\" class=\"dataframe\">\n",
       "  <thead>\n",
       "    <tr style=\"text-align: right;\">\n",
       "      <th></th>\n",
       "      <th>Location</th>\n",
       "      <th>CGI_Coordinate</th>\n",
       "      <th>Gene_Symbol</th>\n",
       "      <th>Gene_Type</th>\n",
       "      <th>Beta_Tumor</th>\n",
       "      <th>Beta_Normal</th>\n",
       "    </tr>\n",
       "    <tr>\n",
       "      <th>ID_REF</th>\n",
       "      <th></th>\n",
       "      <th></th>\n",
       "      <th></th>\n",
       "      <th></th>\n",
       "      <th></th>\n",
       "      <th></th>\n",
       "    </tr>\n",
       "  </thead>\n",
       "  <tbody>\n",
       "    <tr>\n",
       "      <th>cg00000029</th>\n",
       "      <td>53434201</td>\n",
       "      <td>chr16:53434489-53435297</td>\n",
       "      <td>RBL2</td>\n",
       "      <td>protein_coding</td>\n",
       "      <td>0.119561</td>\n",
       "      <td>0.194329</td>\n",
       "    </tr>\n",
       "    <tr>\n",
       "      <th>cg00000165</th>\n",
       "      <td>90729118</td>\n",
       "      <td>chr1:90724932-90727247</td>\n",
       "      <td>.</td>\n",
       "      <td>.</td>\n",
       "      <td>0.616919</td>\n",
       "      <td>0.147221</td>\n",
       "    </tr>\n",
       "    <tr>\n",
       "      <th>cg00000236</th>\n",
       "      <td>42405777</td>\n",
       "      <td>chr8:42410918-42411241</td>\n",
       "      <td>VDAC3</td>\n",
       "      <td>protein_coding</td>\n",
       "      <td>0.927754</td>\n",
       "      <td>0.885305</td>\n",
       "    </tr>\n",
       "    <tr>\n",
       "      <th>cg00000289</th>\n",
       "      <td>68874423</td>\n",
       "      <td>chr14:68874710-68875103</td>\n",
       "      <td>ACTN1</td>\n",
       "      <td>protein_coding</td>\n",
       "      <td>0.784276</td>\n",
       "      <td>0.722705</td>\n",
       "    </tr>\n",
       "    <tr>\n",
       "      <th>cg00000292</th>\n",
       "      <td>28878780</td>\n",
       "      <td>chr16:28879633-28880547</td>\n",
       "      <td>ATP2A1</td>\n",
       "      <td>protein_coding</td>\n",
       "      <td>0.838242</td>\n",
       "      <td>0.634605</td>\n",
       "    </tr>\n",
       "  </tbody>\n",
       "</table>\n",
       "</div>"
      ],
      "text/plain": [
       "            Location           CGI_Coordinate Gene_Symbol       Gene_Type  \\\n",
       "ID_REF                                                                      \n",
       "cg00000029  53434201  chr16:53434489-53435297        RBL2  protein_coding   \n",
       "cg00000165  90729118   chr1:90724932-90727247           .               .   \n",
       "cg00000236  42405777   chr8:42410918-42411241       VDAC3  protein_coding   \n",
       "cg00000289  68874423  chr14:68874710-68875103       ACTN1  protein_coding   \n",
       "cg00000292  28878780  chr16:28879633-28880547      ATP2A1  protein_coding   \n",
       "\n",
       "            Beta_Tumor  Beta_Normal  \n",
       "ID_REF                               \n",
       "cg00000029    0.119561     0.194329  \n",
       "cg00000165    0.616919     0.147221  \n",
       "cg00000236    0.927754     0.885305  \n",
       "cg00000289    0.784276     0.722705  \n",
       "cg00000292    0.838242     0.634605  "
      ]
     },
     "execution_count": 15,
     "metadata": {},
     "output_type": "execute_result"
    }
   ],
   "source": [
    "_methyl_df = _methyl_df.set_index('ID_REF') # can only run this one time. \n",
    "_methyl_df.head(n=5)"
   ]
  },
  {
   "cell_type": "code",
   "execution_count": 16,
   "metadata": {},
   "outputs": [
    {
     "data": {
      "text/plain": [
       "(395373, 210294)"
      ]
     },
     "execution_count": 16,
     "metadata": {},
     "output_type": "execute_result"
    }
   ],
   "source": [
    "# size of LUAD methylation object and annotate object after cleaning...\n",
    "len(_methyl_df), annotate.get_number()"
   ]
  },
  {
   "cell_type": "markdown",
   "metadata": {},
   "source": [
    "We want the REF_IDs (from annotate) to correspond to REF_IDs in the methyl_df object. For this we need to find the intersection of REF_IDs in annotate and methyl_df. We accomplish this using Python sets. The following shows an example. "
   ]
  },
  {
   "cell_type": "code",
   "execution_count": 17,
   "metadata": {},
   "outputs": [
    {
     "data": {
      "text/plain": [
       "{7, 8, 9, 10, 11, 12, 13, 14}"
      ]
     },
     "execution_count": 17,
     "metadata": {},
     "output_type": "execute_result"
    }
   ],
   "source": [
    "# find common members among two sets of unique elements\n",
    "set1 = set([1, 2, 3 ,4 ,5 ,6 ,7 ,8 ,9, 10, 11, 12, 13, 14])\n",
    "set2 = set([7 ,8 ,9, 10, 11, 12, 13, 14])\n",
    "dff = set1.intersection(set2)\n",
    "dff "
   ]
  },
  {
   "cell_type": "code",
   "execution_count": 18,
   "metadata": {},
   "outputs": [
    {
     "data": {
      "text/plain": [
       "183863"
      ]
     },
     "execution_count": 18,
     "metadata": {},
     "output_type": "execute_result"
    }
   ],
   "source": [
    "# same as above, applied to the REF_IDs\n",
    "\n",
    "m_set = set(list(_methyl_df.index))      # unique methyl_df members\n",
    "a_set = set(list(annotate.probe.keys())) # unique annotate members\n",
    "\n",
    "m_a_intersect = sorted(m_set.intersection(a_set)) # sort the resulting intersection set\n",
    "\n",
    "len(m_a_intersect)"
   ]
  },
  {
   "cell_type": "markdown",
   "metadata": {},
   "source": [
    "The difference in size between LUAD_methyl_df and annotate - and the intersection between them - reflects that some probes in the former are removed as SNPs or missing values from the latter. The intersection is what we end up with: a fully-annotated probe set for which we have methylation beta-values. Before merging, a probe (without methylation data) has the following attributes:"
   ]
  },
  {
   "cell_type": "code",
   "execution_count": 19,
   "metadata": {},
   "outputs": [
    {
     "data": {
      "text/plain": [
       "['chr',\n",
       " 'feature',\n",
       " 'gene',\n",
       " 'hg19_cord',\n",
       " 'id',\n",
       " 'name',\n",
       " 'refseq',\n",
       " 'seq',\n",
       " 'strand',\n",
       " 'tour']"
      ]
     },
     "execution_count": 19,
     "metadata": {},
     "output_type": "execute_result"
    }
   ],
   "source": [
    "cg00035864 = annotate.get_probe('cg00035864')\n",
    "[a for a in dir(cg00035864) if not a.startswith('__')]"
   ]
  },
  {
   "cell_type": "markdown",
   "metadata": {},
   "source": [
    "| Field                       | Definition                                                 |\n",
    "|-----------------------------|------------------------------------------------------------|\n",
    "| AddressA_ID                 | Address ID for the probe used for both A and B alleles.    |\n",
    "| AlleleA_ProbeSeq            | Sequence of probe identified in AddressA_ID column.        |\n",
    "| Forward_Sequence            | Plus (+) strand (HapMap) sequence (5'-3') flanking the CG. |\n",
    "| CHR (__chr__)                 | Chromosome containing the CpG (Build 37).                  |\n",
    "| MAPINFO                     | Chromosomal coordinates of the CpG (Build 37).             |\n",
    "| SourceSeq                   | Genomic sequence prior to bisulfite conversion.            |\n",
    "| Strand                      | F Strand = (+) and R = (-).                                |\n",
    "| UCSC_RefGene_Name           | Target gene name[s] from UCSC, w/ splice variants.         |\n",
    "| UCSC_RefGene_Accession      | UCSC ACC's of target transcripts, in order w/ transcripts. |\n",
    "| UCSC_RefGene_Group          | Gene region of CpG position, from UCSC.                    |\n",
    "| UCSC_CpG_Islands_Name       | Chromosomal coordinates of the CpG Island, from UCSC.      |\n",
    "| Relation_to_UCSC_CpG_Island | The location of the CpG relative to a CpG island.          |"
   ]
  },
  {
   "cell_type": "markdown",
   "metadata": {},
   "source": [
    "A df of the final methyl set. 'm_a_intersect' is a list of indexes."
   ]
  },
  {
   "cell_type": "code",
   "execution_count": 20,
   "metadata": {},
   "outputs": [
    {
     "data": {
      "text/html": [
       "<div>\n",
       "<style scoped>\n",
       "    .dataframe tbody tr th:only-of-type {\n",
       "        vertical-align: middle;\n",
       "    }\n",
       "\n",
       "    .dataframe tbody tr th {\n",
       "        vertical-align: top;\n",
       "    }\n",
       "\n",
       "    .dataframe thead th {\n",
       "        text-align: right;\n",
       "    }\n",
       "</style>\n",
       "<table border=\"1\" class=\"dataframe\">\n",
       "  <thead>\n",
       "    <tr style=\"text-align: right;\">\n",
       "      <th></th>\n",
       "      <th>Location</th>\n",
       "      <th>CGI_Coordinate</th>\n",
       "      <th>Gene_Symbol</th>\n",
       "      <th>Gene_Type</th>\n",
       "      <th>Beta_Tumor</th>\n",
       "      <th>Beta_Normal</th>\n",
       "    </tr>\n",
       "    <tr>\n",
       "      <th>ID_REF</th>\n",
       "      <th></th>\n",
       "      <th></th>\n",
       "      <th></th>\n",
       "      <th></th>\n",
       "      <th></th>\n",
       "      <th></th>\n",
       "    </tr>\n",
       "  </thead>\n",
       "  <tbody>\n",
       "    <tr>\n",
       "      <th>cg00000029</th>\n",
       "      <td>53434201</td>\n",
       "      <td>chr16:53434489-53435297</td>\n",
       "      <td>RBL2</td>\n",
       "      <td>protein_coding</td>\n",
       "      <td>0.119561</td>\n",
       "      <td>0.194329</td>\n",
       "    </tr>\n",
       "    <tr>\n",
       "      <th>cg00000165</th>\n",
       "      <td>90729118</td>\n",
       "      <td>chr1:90724932-90727247</td>\n",
       "      <td>.</td>\n",
       "      <td>.</td>\n",
       "      <td>0.616919</td>\n",
       "      <td>0.147221</td>\n",
       "    </tr>\n",
       "    <tr>\n",
       "      <th>cg00000289</th>\n",
       "      <td>68874423</td>\n",
       "      <td>chr14:68874710-68875103</td>\n",
       "      <td>ACTN1</td>\n",
       "      <td>protein_coding</td>\n",
       "      <td>0.784276</td>\n",
       "      <td>0.722705</td>\n",
       "    </tr>\n",
       "    <tr>\n",
       "      <th>cg00000363</th>\n",
       "      <td>230425048</td>\n",
       "      <td>chr1:230425357-230426956</td>\n",
       "      <td>PGBD5</td>\n",
       "      <td>protein_coding</td>\n",
       "      <td>0.825820</td>\n",
       "      <td>0.226654</td>\n",
       "    </tr>\n",
       "    <tr>\n",
       "      <th>cg00000658</th>\n",
       "      <td>137103473</td>\n",
       "      <td>chr9:137103394-137103596</td>\n",
       "      <td>MAN1B1</td>\n",
       "      <td>protein_coding</td>\n",
       "      <td>0.900696</td>\n",
       "      <td>0.865487</td>\n",
       "    </tr>\n",
       "  </tbody>\n",
       "</table>\n",
       "</div>"
      ],
      "text/plain": [
       "             Location            CGI_Coordinate Gene_Symbol       Gene_Type  \\\n",
       "ID_REF                                                                        \n",
       "cg00000029   53434201   chr16:53434489-53435297        RBL2  protein_coding   \n",
       "cg00000165   90729118    chr1:90724932-90727247           .               .   \n",
       "cg00000289   68874423   chr14:68874710-68875103       ACTN1  protein_coding   \n",
       "cg00000363  230425048  chr1:230425357-230426956       PGBD5  protein_coding   \n",
       "cg00000658  137103473  chr9:137103394-137103596      MAN1B1  protein_coding   \n",
       "\n",
       "            Beta_Tumor  Beta_Normal  \n",
       "ID_REF                               \n",
       "cg00000029    0.119561     0.194329  \n",
       "cg00000165    0.616919     0.147221  \n",
       "cg00000289    0.784276     0.722705  \n",
       "cg00000363    0.825820     0.226654  \n",
       "cg00000658    0.900696     0.865487  "
      ]
     },
     "execution_count": 20,
     "metadata": {},
     "output_type": "execute_result"
    }
   ],
   "source": [
    "methyl = _methyl_df.loc[m_a_intersect]\n",
    "methyl.head()"
   ]
  },
  {
   "cell_type": "markdown",
   "metadata": {},
   "source": [
    "Now all elements in methyl are also contained in annotate. However, there's still a difference in the number of elements in each object. Some found in annotate are not found in methyl."
   ]
  },
  {
   "cell_type": "code",
   "execution_count": 21,
   "metadata": {},
   "outputs": [
    {
     "data": {
      "text/plain": [
       "(210294, 183863)"
      ]
     },
     "execution_count": 21,
     "metadata": {},
     "output_type": "execute_result"
    }
   ],
   "source": [
    "len(annotate.probe), len(methyl)"
   ]
  },
  {
   "cell_type": "markdown",
   "metadata": {},
   "source": [
    "Using set operations again (this time, difference) we can find and remove these..."
   ]
  },
  {
   "cell_type": "code",
   "execution_count": 22,
   "metadata": {},
   "outputs": [
    {
     "data": {
      "text/plain": [
       "(183863, 183863)"
      ]
     },
     "execution_count": 22,
     "metadata": {},
     "output_type": "execute_result"
    }
   ],
   "source": [
    "m_set_two = set(list(methyl.index)) # unique methyl_set members\n",
    "a_set_two = set(list(annotate.probe.keys())) # unique annotate members\n",
    "m_a_difference_two = sorted(a_set_two.difference(m_set_two)) # sort the difference\n",
    "\n",
    "for item in m_a_difference_two:\n",
    "    try:\n",
    "        annotate.probe.pop(item, None)\n",
    "    except KeyError:\n",
    "        pass\n",
    "    \n",
    "len(annotate.probe), len(methyl)"
   ]
  },
  {
   "cell_type": "markdown",
   "metadata": {},
   "source": [
    "Finally, we have two objects cleaned and aligned such that they can be merged. We do this by setting attributes on a new dict object containing only filtered probes from the annotate object along with methyl values for matching probe REF_IDs in the methyl object.   "
   ]
  },
  {
   "cell_type": "code",
   "execution_count": 23,
   "metadata": {},
   "outputs": [
    {
     "data": {
      "text/plain": [
       "183863"
      ]
     },
     "execution_count": 23,
     "metadata": {},
     "output_type": "execute_result"
    }
   ],
   "source": [
    "#LONG_RUN = False \n",
    "\n",
    "methyl_probe_dict = {}\n",
    "\n",
    "if LONG_RUN:\n",
    "    for index, row in methyl.iterrows(): # annotate and methyl have the same number of rows...\n",
    "        methyl_probe_dict[index] = annotate.probe.get(index) # so these indexes will match...\n",
    "        setattr(methyl_probe_dict[index], 'hg38_cord', row[0])\n",
    "        setattr(methyl_probe_dict[index], 'GDC_CGI_Coordinate', row[1])\n",
    "        setattr(methyl_probe_dict[index], 'GDC_gene', row[2])\n",
    "        setattr(methyl_probe_dict[index], 'GDC_gene_type', row[3])\n",
    "        setattr(methyl_probe_dict[index], 'Beta_Tumor', row[4])\n",
    "        setattr(methyl_probe_dict[index], 'Beta_Normal', row[5])\n",
    "else:    \n",
    "    for index, row in methyl.head(5).iterrows():\n",
    "        methyl_probe_dict[index] = annotate.probe.get(index) # so these indexes will match...\n",
    "        setattr(methyl_probe_dict[index], 'hg38_cord', row[0])\n",
    "        setattr(methyl_probe_dict[index], 'GDC_CGI_Coordinate', row[1])\n",
    "        setattr(methyl_probe_dict[index], 'GDC_gene', row[2])\n",
    "        setattr(methyl_probe_dict[index], 'GDC_gene_type', row[3])\n",
    "        setattr(methyl_probe_dict[index], 'Beta_Tumor', row[4])\n",
    "        setattr(methyl_probe_dict[index], 'Beta_Normal', row[5])\n",
    "        \n",
    "len(methyl_probe_dict)"
   ]
  },
  {
   "cell_type": "code",
   "execution_count": 24,
   "metadata": {},
   "outputs": [
    {
     "name": "stdout",
     "output_type": "stream",
     "text": [
      "['Beta_Normal', 'Beta_Tumor', 'GDC_CGI_Coordinate', 'GDC_gene', 'GDC_gene_type', 'chr', 'feature', 'gene', 'hg19_cord', 'hg38_cord', 'id', 'name', 'refseq', 'seq', 'strand', 'tour']\n"
     ]
    }
   ],
   "source": [
    "cg00000029 = methyl_probe_dict['cg00000029']\n",
    "attribute_list = [a for a in dir(cg00000029) if not a.startswith('__')]\n",
    "print(attribute_list)"
   ]
  },
  {
   "cell_type": "markdown",
   "metadata": {},
   "source": [
    "Create a boxplot of the methylation values to see how they stack up..."
   ]
  },
  {
   "cell_type": "code",
   "execution_count": 26,
   "metadata": {},
   "outputs": [
    {
     "data": {
      "image/png": "[encoded data removed]",
      "text/plain": [
       "<Figure size 288x216 with 1 Axes>"
      ]
     },
     "metadata": {
      "needs_background": "light"
     },
     "output_type": "display_data"
    },
    {
     "data": {
      "image/png": "[encoded data removed]",
      "text/plain": [
       "<Figure size 288x216 with 1 Axes>"
      ]
     },
     "metadata": {
      "needs_background": "light"
     },
     "output_type": "display_data"
    }
   ],
   "source": [
    "import matplotlib.pyplot as plt \n",
    "plt.close('all')\n",
    "\n",
    "plt.figure(figsize=(4, 3))\n",
    "_methyl_df.boxplot(column=['Beta_Tumor', 'Beta_Normal'])\n",
    "\n",
    "legend_str = normal + ' - ' + tumor \n",
    "# Boxplot of the difference\n",
    "plt.figure(figsize=(4, 3))\n",
    "plt.boxplot(_methyl_df['Beta_Normal'] - _methyl_df['Beta_Tumor'])\n",
    "plt.xticks((1, ), (file_str_picl[:-4], ))\n",
    "#plt.xticks((1, ), (legend_str, ))\n",
    "\n",
    "plt.show() # plot all data from a paired JHU dataset"
   ]
  },
  {
   "cell_type": "markdown",
   "metadata": {},
   "source": [
    "Finally, we want to save things so we don't have to re-build from scratch. The paths where things are saved are: "
   ]
  },
  {
   "cell_type": "code",
   "execution_count": 27,
   "metadata": {},
   "outputs": [
    {
     "name": "stdout",
     "output_type": "stream",
     "text": [
      "../../data/pickle/TCGA-BH-A1EN-BRCA.pkl\n",
      "../../data/pickle/Illumina-450k-Anno.hg19.pkl\n"
     ]
    }
   ],
   "source": [
    "print(pickle_base + file_str_picl)\n",
    "print(pickle_base + anno_str)"
   ]
  },
  {
   "cell_type": "code",
   "execution_count": 92,
   "metadata": {},
   "outputs": [
    {
     "name": "stdout",
     "output_type": "stream",
     "text": [
      "saving TCGA-BH-A1EN-BRCA ...\n"
     ]
    }
   ],
   "source": [
    "exists_methyl     = os.path.isfile(pickle_base + file_str_picl)\n",
    "exists_annotate   = os.path.isfile(pickle_base + anno_str)\n",
    "\n",
    "if exists_methyl:\n",
    "    pass\n",
    "else:\n",
    "    # create file\n",
    "    save_obj(methyl_probe_dict, file_str_picl[:-4])\n",
    "\n",
    "if exists_annotate:\n",
    "    pass\n",
    "    #annotate = load_obj(anno_str[:-4]) # this is the full annotation, with SNPs, minus our additions. \n",
    "else:\n",
    "    pass"
   ]
  },
  {
   "cell_type": "code",
   "execution_count": 63,
   "metadata": {},
   "outputs": [
    {
     "name": "stdout",
     "output_type": "stream",
     "text": [
      "loading TCGA-E2-A1IO-BRCA ...\n"
     ]
    }
   ],
   "source": [
    "methyl_probe_dict = {}\n",
    "methyl_probe_dict = load_obj(file_str_picl[:-4]) # let's see if that worked. "
   ]
  },
  {
   "cell_type": "code",
   "execution_count": 28,
   "metadata": {},
   "outputs": [
    {
     "name": "stdout",
     "output_type": "stream",
     "text": [
      "TCGA-BH-A1EN-BRCA\n",
      "\n",
      "Probe ID (Illumina/GDC): cg00000029\n",
      "Probe hg19_cord (Illumina): 53468112\n",
      "Probe hg38_cord (GDC): 53434201\n",
      "CpG Island (GDC): chr16:53434489-53435297\n",
      "Relation to CpG (Illumina): N_Shore\n",
      "CpG Feature (Illumina): TSS1500\n",
      "Gene (Illumina/GDC): RBL2\n",
      "Gene Function (GDC): protein_coding\n",
      "\n",
      "Tumor Methylation Beta (GDC): 0.119561150623075\n",
      "Normal Methylation Beta (GDC): 0.194329270247097\n",
      "\n"
     ]
    }
   ],
   "source": [
    "probe = methyl_probe_dict['cg00000029']\n",
    "\n",
    "try:\n",
    "    print(file_str_picl[:-4])\n",
    "    print()\n",
    "    \n",
    "    print ('Probe ID (Illumina/GDC): {id}'.format(id=probe.id))\n",
    "    print ('Probe hg19_cord (Illumina): {hg19_cord}'.format(hg19_cord=probe.hg19_cord))\n",
    "    print ('Probe hg38_cord (GDC): {hg38_cord}'.format(hg38_cord=probe.hg38_cord))\n",
    "    print ('CpG Island (GDC): {GDC_CGI_Coordinate}'.format(GDC_CGI_Coordinate=probe.GDC_CGI_Coordinate))\n",
    "    print ('Relation to CpG (Illumina): {tour}'.format(tour=probe.tour))\n",
    "    print ('CpG Feature (Illumina): {feature}'.format(feature=probe.feature[0]))\n",
    "    print ('Gene (Illumina/GDC): {gene}'.format(gene=probe.GDC_gene))\n",
    "    print ('Gene Function (GDC): {gene_type}'.format(gene_type=probe.GDC_gene_type))\n",
    "    print()\n",
    "    print ('Tumor Methylation Beta (GDC): {tumor}'.format(tumor=probe.Beta_Tumor))\n",
    "    print ('Normal Methylation Beta (GDC): {normal}'.format(normal=probe.Beta_Normal))\n",
    "    print()\n",
    "except AttributeError:\n",
    "    print('Try another probe ...')\n",
    "    "
   ]
  },
  {
   "cell_type": "code",
   "execution_count": 1,
   "metadata": {},
   "outputs": [],
   "source": [
    "# %load '../methylator/annotation/annotate_450k.py'\n",
    "import os\n",
    "\n",
    "class Probe:\n",
    "    \"\"\"\n",
    "    Holds Illumina 450k probe info for a single CpG site.\n",
    "    \"\"\"\n",
    "    def __init__(self):\n",
    "        self.id = None\n",
    "        self.seq = None\n",
    "        self.name = None\n",
    "        self.chr = None\n",
    "        self.hg19_cord = None\n",
    "        self.strand = None\n",
    "        self.gene = None\n",
    "        self.refseq = None\n",
    "        self.tour = None\n",
    "        self.feature = None\n",
    "        \n",
    "class Interval:\n",
    "    \"\"\"\n",
    "    Define a genomic interval by chromsome and strand orientation.\n",
    "    \"\"\"\n",
    "    def __init__(self, chromosome, start, end, strand):\n",
    "        self.chr = chromosome\n",
    "        self.start = start\n",
    "        self.end = end\n",
    "        self.strand = strand\n",
    "\n",
    "class Feature:\n",
    "    \"\"\"\n",
    "    Define a Probe feature.\n",
    "    \"\"\"\n",
    "    BODY = \"Body\"\n",
    "    TSS200 = \"TSS200\"\n",
    "    TSS1500 = \"TSS1500\"\n",
    "    UTR5 = \"5'UTR\"\n",
    "    UTR3 = \"3'UTR\"\n",
    "    EXON = \"Exon\"\n",
    "\n",
    "class CpG_location:\n",
    "    \"\"\"\n",
    "    Defines a CpG location.\n",
    "    \"\"\"\n",
    "    ISLAND = \"Island\"\n",
    "    NSHORE = \"N_Shore\"\n",
    "    SSHORE = \"S_Shore\"\n",
    "    NSHELF = \"N_Shelf\"\n",
    "    SSHELF = \"S_Shelf\"\n",
    "    \n",
    "class SNP:\n",
    "    \"\"\"\n",
    "    Defines the SNPs in probes. Used to filter probes.\n",
    "    \"\"\"\n",
    "\n",
    "    def __init__(self):\n",
    "        self.probeid = None\n",
    "        self.snpid = None\n",
    "    \n",
    "class Annotate_450k:\n",
    "    \"\"\"\n",
    "    Parse and hold information about Illumina probes.\n",
    "    \"\"\"\n",
    "\n",
    "    def __init__(self):        \n",
    "        for i in open(anno_file, mode=\"r\"):\n",
    "            self.ann = os.path.join(\"../../data/\", i.strip(\"\\n\").strip(\"\\r\"))\n",
    "\n",
    "        self.probe = {}\n",
    "        self.__run__()\n",
    "\n",
    "    def __run__(self):\n",
    "        \"\"\"\n",
    "        A static function to setup the Probe classes.\n",
    "        \"\"\"\n",
    "        for i in open(self.ann, mode=\"r\"):\n",
    "            if i.startswith(\"cg\"):\n",
    "                data = i.split(\",\")\n",
    "                # Assign probe information.\n",
    "                new_probe = Probe()\n",
    "                new_probe.id = data[0]                 # ID\n",
    "                new_probe.name = data[1]               # name\n",
    "                new_probe.seq = data[13]               # sequence prior to bi-sulfite conv.\n",
    "                new_probe.chr = str(data[11])          # chromosome\n",
    "                new_probe.hg19_cord = int(data[12])    # chromosomal coordinates of the CpG.\n",
    "                new_probe.strand = data[16]            # strand\n",
    "                new_probe.gene = data[21].split(\";\")   # UCSC_RefGene_Name\n",
    "                new_probe.refseq = data[22]            # UCSC_RefGene_Accession\n",
    "                features = data[23].split(\";\")         # UCSC_RefGene_Group\n",
    "                list_features = []\n",
    "                for i in features:\n",
    "                    if i not in list_features:\n",
    "                        list_features.append(i)\n",
    "\n",
    "                new_probe.feature = list_features\n",
    "\n",
    "                new_probe.tour = data[25]              # Relation_to_UCSC_CpG_Island\n",
    "                newcpg = {new_probe.id: new_probe}\n",
    "                self.probe.update(newcpg)\n",
    "\n",
    "    def get_number(self):\n",
    "        \"\"\"\n",
    "        Return total number of probes.\n",
    "        \"\"\"\n",
    "        number = 0\n",
    "        for probe_id in self.probe.keys():\n",
    "            number += 1\n",
    "\n",
    "        return number\n",
    "\n",
    "    def get_probe(self, probe_id):\n",
    "        \"\"\"\n",
    "        Return probe info associated with an reference.\n",
    "        \"\"\"\n",
    "        try:\n",
    "            probe = self.probe[probe_id]\n",
    "        except Exception as ex:\n",
    "            probe = None\n",
    "            print(\"WARNING: No probe with ref-id of %s found.\" % probe_id)\n",
    "        return probe\n",
    "\n",
    "    def remove_snp_probes(self):\n",
    "        \"\"\"\n",
    "        Removes all SNPs associated with probes.\n",
    "        \"\"\"\n",
    "        snp_list = []\n",
    "        snp_file = open(\"../../data/humanmethylation450_dbsnp137.snpupdate.table.v2.sorted.txt\", \"r\")\n",
    "        for line in snp_file:\n",
    "            if line.startswith(\"cg\"):\n",
    "                line = line.strip(\"\\n\").strip(\"\\r\").split(\"\\t\")\n",
    "                new_snp = SNP()\n",
    "                new_snp.probeid = line[0]\n",
    "                new_snp.snpid = line[1]\n",
    "                snp_list.append(new_snp)\n",
    "\n",
    "        for snp in snp_list:\n",
    "            self.probe.pop(snp.probeid)\n",
    "\n",
    "anno_file = os.path.abspath(\"../../data/config.ini\") # Illumina probe manifest. \n",
    "\n",
    "import _pickle as pickle\n",
    "\n",
    "def save_obj(obj, name):\n",
    "    print('saving ' + name + ' ...')\n",
    "    with open('../../data/pickle/'+ name + '.pkl', 'wb+') as f:\n",
    "        pickle.dump(obj, f)\n",
    "        \n",
    "def load_obj(name):\n",
    "    print('loading ' + name + ' ...')\n",
    "    with open('../../data/pickle/' + name + '.pkl', 'rb') as f:\n",
    "        return pickle.load(f)"
   ]
  },
  {
   "cell_type": "code",
   "execution_count": null,
   "metadata": {},
   "outputs": [],
   "source": []
  }
 ],
 "metadata": {
  "kernelspec": {
   "display_name": "Python 3",
   "language": "python",
   "name": "python3"
  },
  "language_info": {
   "codemirror_mode": {
    "name": "ipython",
    "version": 3
   },
   "file_extension": ".py",
   "mimetype": "text/x-python",
   "name": "python",
   "nbconvert_exporter": "python",
   "pygments_lexer": "ipython3",
   "version": "3.6.8"
  }
 },
 "nbformat": 4,
 "nbformat_minor": 2
}
