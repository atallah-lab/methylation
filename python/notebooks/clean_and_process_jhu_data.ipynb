{
 "cells": [
  {
   "cell_type": "markdown",
   "metadata": {},
   "source": [
    "### Clean and Process Methylation Data from JHU"
   ]
  },
  {
   "cell_type": "markdown",
   "metadata": {},
   "source": [
    "This is part of a workflow that takes a paired-set of files from the Genomic Data Commons along with an annotation file of the Illumina 450k bead chip array. This array generates a comprehensive genome-wide profile of human DNA methylation. \n",
    "\n",
    "DNA methylation plays a significant role in the epigenetic regulation of gene expression, development and genetic imprinting in vertebrates. "
   ]
  },
  {
   "cell_type": "code",
   "execution_count": 1,
   "metadata": {},
   "outputs": [],
   "source": [
    "import os\n",
    "import pandas as pd"
   ]
  },
  {
   "cell_type": "code",
   "execution_count": 2,
   "metadata": {},
   "outputs": [],
   "source": [
    "LONG_RUN = True # set to 'False' to skip long-running processes. \n",
    "\n",
    "base           = '../../data/johnshopkins-data/'\n",
    "pickle_base    = '../../data/pickle/'\n",
    "directory      = 'LUAD-PAIRED/'\n",
    "tissue         = 'LUAD'\n",
    "minor          = 50\n",
    "major          = 5931         \n",
    "\n",
    "file_str_norm  = 'TCGA-{minor}-{major}-{tissue}-{status}.{ext}'.format(minor=minor,\n",
    "                                                                major=major,\n",
    "                                                                tissue=tissue,\n",
    "                                                                status='Normal', \n",
    "                                                                ext='xlsx')\n",
    "file_str_tumr  = 'TCGA-{minor}-{major}-{tissue}-{status}.{ext}'.format(minor=minor,\n",
    "                                                                major=major,\n",
    "                                                                tissue=tissue,\n",
    "                                                                status='Tumor', \n",
    "                                                                ext='xlsx')\n",
    "file_str_picl  = 'TCGA-{minor}-{major}-{tissue}.{ext}'.format(minor=minor,\n",
    "                                                                major=major,\n",
    "                                                                tissue=tissue,\n",
    "                                                                ext='pkl')\n",
    "\n",
    "anno_str       = 'Illumina-450k-Anno.{rev}.{ext}'.format(rev='hg19',ext='pkl')\n",
    "\n",
    "tumor          = '{t}_tumor'.format(t=tissue) \n",
    "normal         = '{t}_normal'.format(t=tissue)\n",
    "methylation    = '{t}_methyl'.format(t=tissue)"
   ]
  },
  {
   "cell_type": "markdown",
   "metadata": {},
   "source": [
    "Read in a pair of files - normal methyl values versus tumor methyl values - from the local filesystem. All data files (i.e. 'TCGA-50-5931-LUSC-Normal') are from https://portal.gdc.cancer.gov/. The Excel format is about 1/3 the size of the raw text files."
   ]
  },
  {
   "cell_type": "code",
   "execution_count": 3,
   "metadata": {},
   "outputs": [],
   "source": [
    "if LONG_RUN:\n",
    "    normal_file   =  pd.read_excel(base + directory + file_str_norm)\n",
    "    tumor_file    =  pd.read_excel(base + directory + file_str_tumr)\n",
    "else:\n",
    "    pass # load object."
   ]
  },
  {
   "cell_type": "markdown",
   "metadata": {},
   "source": [
    "Using the above format one may load different datasets and run them below without altering files paths, etc. "
   ]
  },
  {
   "cell_type": "code",
   "execution_count": 4,
   "metadata": {},
   "outputs": [
    {
     "data": {
      "text/html": [
       "<div>\n",
       "<style scoped>\n",
       "    .dataframe tbody tr th:only-of-type {\n",
       "        vertical-align: middle;\n",
       "    }\n",
       "\n",
       "    .dataframe tbody tr th {\n",
       "        vertical-align: top;\n",
       "    }\n",
       "\n",
       "    .dataframe thead th {\n",
       "        text-align: right;\n",
       "    }\n",
       "</style>\n",
       "<table border=\"1\" class=\"dataframe\">\n",
       "  <thead>\n",
       "    <tr style=\"text-align: right;\">\n",
       "      <th></th>\n",
       "      <th>Composite Element REF</th>\n",
       "      <th>Beta_value</th>\n",
       "      <th>Chromosome</th>\n",
       "      <th>Start</th>\n",
       "      <th>End</th>\n",
       "      <th>Gene_Symbol</th>\n",
       "      <th>Gene_Type</th>\n",
       "      <th>Transcript_ID</th>\n",
       "      <th>Position_to_TSS</th>\n",
       "      <th>CGI_Coordinate</th>\n",
       "      <th>Feature_Type</th>\n",
       "    </tr>\n",
       "  </thead>\n",
       "  <tbody>\n",
       "    <tr>\n",
       "      <th>0</th>\n",
       "      <td>cg00000029</td>\n",
       "      <td>0.317716</td>\n",
       "      <td>chr16</td>\n",
       "      <td>53434200</td>\n",
       "      <td>53434201</td>\n",
       "      <td>RBL2;RBL2;RBL2</td>\n",
       "      <td>protein_coding;protein_coding;protein_coding</td>\n",
       "      <td>ENST00000262133.9;ENST00000544405.5;ENST000005...</td>\n",
       "      <td>-221;-1420;222</td>\n",
       "      <td>CGI:chr16:53434489-53435297</td>\n",
       "      <td>N_Shore</td>\n",
       "    </tr>\n",
       "    <tr>\n",
       "      <th>1</th>\n",
       "      <td>cg00000108</td>\n",
       "      <td>NaN</td>\n",
       "      <td>chr3</td>\n",
       "      <td>37417715</td>\n",
       "      <td>37417716</td>\n",
       "      <td>C3orf35;C3orf35;C3orf35;C3orf35;C3orf35;C3orf3...</td>\n",
       "      <td>lincRNA;lincRNA;lincRNA;lincRNA;lincRNA;lincRN...</td>\n",
       "      <td>ENST00000328376.8;ENST00000332506.6;ENST000004...</td>\n",
       "      <td>18552;18552;6505;31445;18143;447;18552;18552</td>\n",
       "      <td>CGI:chr3:37451927-37453047</td>\n",
       "      <td>.</td>\n",
       "    </tr>\n",
       "    <tr>\n",
       "      <th>2</th>\n",
       "      <td>cg00000109</td>\n",
       "      <td>NaN</td>\n",
       "      <td>chr3</td>\n",
       "      <td>172198247</td>\n",
       "      <td>172198248</td>\n",
       "      <td>FNDC3B;FNDC3B;FNDC3B;FNDC3B;FNDC3B;FNDC3B</td>\n",
       "      <td>protein_coding;protein_coding;protein_coding;p...</td>\n",
       "      <td>ENST00000336824.7;ENST00000415807.5;ENST000004...</td>\n",
       "      <td>157692;158618;151333;71272;158587;71273</td>\n",
       "      <td>CGI:chr3:172039703-172040934</td>\n",
       "      <td>.</td>\n",
       "    </tr>\n",
       "    <tr>\n",
       "      <th>3</th>\n",
       "      <td>cg00000165</td>\n",
       "      <td>0.251564</td>\n",
       "      <td>chr1</td>\n",
       "      <td>90729117</td>\n",
       "      <td>90729118</td>\n",
       "      <td>.</td>\n",
       "      <td>.</td>\n",
       "      <td>.</td>\n",
       "      <td>.</td>\n",
       "      <td>CGI:chr1:90724932-90727247</td>\n",
       "      <td>S_Shore</td>\n",
       "    </tr>\n",
       "    <tr>\n",
       "      <th>4</th>\n",
       "      <td>cg00000236</td>\n",
       "      <td>0.802320</td>\n",
       "      <td>chr8</td>\n",
       "      <td>42405776</td>\n",
       "      <td>42405777</td>\n",
       "      <td>VDAC3</td>\n",
       "      <td>protein_coding</td>\n",
       "      <td>ENST00000022615.7</td>\n",
       "      <td>13872</td>\n",
       "      <td>CGI:chr8:42410918-42411241</td>\n",
       "      <td>.</td>\n",
       "    </tr>\n",
       "  </tbody>\n",
       "</table>\n",
       "</div>"
      ],
      "text/plain": [
       "  Composite Element REF  Beta_value Chromosome      Start        End  \\\n",
       "0            cg00000029    0.317716      chr16   53434200   53434201   \n",
       "1            cg00000108         NaN       chr3   37417715   37417716   \n",
       "2            cg00000109         NaN       chr3  172198247  172198248   \n",
       "3            cg00000165    0.251564       chr1   90729117   90729118   \n",
       "4            cg00000236    0.802320       chr8   42405776   42405777   \n",
       "\n",
       "                                         Gene_Symbol  \\\n",
       "0                                     RBL2;RBL2;RBL2   \n",
       "1  C3orf35;C3orf35;C3orf35;C3orf35;C3orf35;C3orf3...   \n",
       "2          FNDC3B;FNDC3B;FNDC3B;FNDC3B;FNDC3B;FNDC3B   \n",
       "3                                                  .   \n",
       "4                                              VDAC3   \n",
       "\n",
       "                                           Gene_Type  \\\n",
       "0       protein_coding;protein_coding;protein_coding   \n",
       "1  lincRNA;lincRNA;lincRNA;lincRNA;lincRNA;lincRN...   \n",
       "2  protein_coding;protein_coding;protein_coding;p...   \n",
       "3                                                  .   \n",
       "4                                     protein_coding   \n",
       "\n",
       "                                       Transcript_ID  \\\n",
       "0  ENST00000262133.9;ENST00000544405.5;ENST000005...   \n",
       "1  ENST00000328376.8;ENST00000332506.6;ENST000004...   \n",
       "2  ENST00000336824.7;ENST00000415807.5;ENST000004...   \n",
       "3                                                  .   \n",
       "4                                  ENST00000022615.7   \n",
       "\n",
       "                                Position_to_TSS                CGI_Coordinate  \\\n",
       "0                                -221;-1420;222   CGI:chr16:53434489-53435297   \n",
       "1  18552;18552;6505;31445;18143;447;18552;18552    CGI:chr3:37451927-37453047   \n",
       "2       157692;158618;151333;71272;158587;71273  CGI:chr3:172039703-172040934   \n",
       "3                                             .    CGI:chr1:90724932-90727247   \n",
       "4                                         13872    CGI:chr8:42410918-42411241   \n",
       "\n",
       "  Feature_Type  \n",
       "0      N_Shore  \n",
       "1            .  \n",
       "2            .  \n",
       "3      S_Shore  \n",
       "4            .  "
      ]
     },
     "execution_count": 4,
     "metadata": {},
     "output_type": "execute_result"
    }
   ],
   "source": [
    "normal_file.head() # raw data contains NaN entries..."
   ]
  },
  {
   "cell_type": "markdown",
   "metadata": {},
   "source": [
    "The files from JHU are 'TCGA Level 3 DNA methylation data' (hg19-based). GDC does liftover to convert the Illumina 450k probes to GRCh38. To understand how GDC does this see: [GDC](https://docs.gdc.cancer.gov/Data/Bioinformatics_Pipelines/Methylation_LO_Pipeline/). An explanation of the above rows and columns...\n",
    "\n",
    "| Field                 | Definition                                                                           |\n",
    "|-----------------------|--------------------------------------------------------------------------------------|\n",
    "| Composite Element REF | A unique ID for the array probe associated with a CpG site.                          |\n",
    "| Beta Value            | Ratio between the methylated array intensity and total array intensity.              |\n",
    "| Chromosome            | The chromosome in which the probe binding site is located.                           |\n",
    "| Start                 | The start of the CpG site on the chromosome.                                         |\n",
    "| End                   | The end of the CpG site on the chromosome.                                           |\n",
    "| Gene Symbol           | Genes associated with the CpG site.                                                  |\n",
    "| Gene Type             | A classification for each gene (e.g. protein coding, miRNA, pseudogene).             |\n",
    "| Transcript ID         | Ensembl transcript IDs for each transcript associated with the genes detailed above  |\n",
    "| Position to TSS       | Distance in base pairs from the CpG site to each associated transcript's start site. |\n",
    "| CGI Coordinate        | The start and end coordinates of the CpG island associated with the CpG site.        |\n",
    "| Feature Type          | The position of the CpG site in reference to the island (Island, N_Shore etc.).      |"
   ]
  },
  {
   "cell_type": "markdown",
   "metadata": {},
   "source": [
    "The next two cells create a pre-edited methyl dataframe that is ultimately merged into a single object and saved to the file system.  "
   ]
  },
  {
   "cell_type": "code",
   "execution_count": 5,
   "metadata": {},
   "outputs": [],
   "source": [
    "_methyl_df = pd.DataFrame(columns = ['ID_REF', # creates Pandas dataframe w/ columns\n",
    "                                    tumor, \n",
    "                                    normal,])\n",
    "\n",
    "ID_REF = normal_file['Composite Element REF']\n",
    "\n",
    "_N_BETA = normal_file['Beta_value'] # column slices from file\n",
    "_T_BETA =  tumor_file['Beta_value']"
   ]
  },
  {
   "cell_type": "code",
   "execution_count": 6,
   "metadata": {},
   "outputs": [],
   "source": [
    "_methyl_df['ID_REF'] =  ID_REF  # populate dataframe \n",
    "_methyl_df[normal]   = _N_BETA\n",
    "_methyl_df[tumor]    = _T_BETA"
   ]
  },
  {
   "cell_type": "code",
   "execution_count": 7,
   "metadata": {},
   "outputs": [
    {
     "data": {
      "text/html": [
       "<div>\n",
       "<style scoped>\n",
       "    .dataframe tbody tr th:only-of-type {\n",
       "        vertical-align: middle;\n",
       "    }\n",
       "\n",
       "    .dataframe tbody tr th {\n",
       "        vertical-align: top;\n",
       "    }\n",
       "\n",
       "    .dataframe thead th {\n",
       "        text-align: right;\n",
       "    }\n",
       "</style>\n",
       "<table border=\"1\" class=\"dataframe\">\n",
       "  <thead>\n",
       "    <tr style=\"text-align: right;\">\n",
       "      <th></th>\n",
       "      <th>ID_REF</th>\n",
       "      <th>LUAD_tumor</th>\n",
       "      <th>LUAD_normal</th>\n",
       "    </tr>\n",
       "  </thead>\n",
       "  <tbody>\n",
       "    <tr>\n",
       "      <th>0</th>\n",
       "      <td>cg00000029</td>\n",
       "      <td>0.277104</td>\n",
       "      <td>0.317716</td>\n",
       "    </tr>\n",
       "    <tr>\n",
       "      <th>1</th>\n",
       "      <td>cg00000108</td>\n",
       "      <td>NaN</td>\n",
       "      <td>NaN</td>\n",
       "    </tr>\n",
       "    <tr>\n",
       "      <th>2</th>\n",
       "      <td>cg00000109</td>\n",
       "      <td>NaN</td>\n",
       "      <td>NaN</td>\n",
       "    </tr>\n",
       "    <tr>\n",
       "      <th>3</th>\n",
       "      <td>cg00000165</td>\n",
       "      <td>0.793160</td>\n",
       "      <td>0.251564</td>\n",
       "    </tr>\n",
       "    <tr>\n",
       "      <th>4</th>\n",
       "      <td>cg00000236</td>\n",
       "      <td>0.745634</td>\n",
       "      <td>0.802320</td>\n",
       "    </tr>\n",
       "  </tbody>\n",
       "</table>\n",
       "</div>"
      ],
      "text/plain": [
       "       ID_REF  LUAD_tumor  LUAD_normal\n",
       "0  cg00000029    0.277104     0.317716\n",
       "1  cg00000108         NaN          NaN\n",
       "2  cg00000109         NaN          NaN\n",
       "3  cg00000165    0.793160     0.251564\n",
       "4  cg00000236    0.745634     0.802320"
      ]
     },
     "execution_count": 7,
     "metadata": {},
     "output_type": "execute_result"
    }
   ],
   "source": [
    "_methyl_df.head()               # NaN's will be removed below..."
   ]
  },
  {
   "cell_type": "code",
   "execution_count": 8,
   "metadata": {},
   "outputs": [
    {
     "data": {
      "text/plain": [
       "485577"
      ]
     },
     "execution_count": 8,
     "metadata": {},
     "output_type": "execute_result"
    }
   ],
   "source": [
    "len(_methyl_df)"
   ]
  },
  {
   "cell_type": "markdown",
   "metadata": {},
   "source": [
    "Initially, the methyl dataframe has 485k rows. We drop those that contain missing values (NaNs) ..."
   ]
  },
  {
   "cell_type": "code",
   "execution_count": 9,
   "metadata": {},
   "outputs": [
    {
     "data": {
      "text/html": [
       "<div>\n",
       "<style scoped>\n",
       "    .dataframe tbody tr th:only-of-type {\n",
       "        vertical-align: middle;\n",
       "    }\n",
       "\n",
       "    .dataframe tbody tr th {\n",
       "        vertical-align: top;\n",
       "    }\n",
       "\n",
       "    .dataframe thead th {\n",
       "        text-align: right;\n",
       "    }\n",
       "</style>\n",
       "<table border=\"1\" class=\"dataframe\">\n",
       "  <thead>\n",
       "    <tr style=\"text-align: right;\">\n",
       "      <th></th>\n",
       "      <th>ID_REF</th>\n",
       "      <th>LUAD_tumor</th>\n",
       "      <th>LUAD_normal</th>\n",
       "    </tr>\n",
       "  </thead>\n",
       "  <tbody>\n",
       "    <tr>\n",
       "      <th>0</th>\n",
       "      <td>cg00000029</td>\n",
       "      <td>0.277104</td>\n",
       "      <td>0.317716</td>\n",
       "    </tr>\n",
       "    <tr>\n",
       "      <th>3</th>\n",
       "      <td>cg00000165</td>\n",
       "      <td>0.793160</td>\n",
       "      <td>0.251564</td>\n",
       "    </tr>\n",
       "    <tr>\n",
       "      <th>4</th>\n",
       "      <td>cg00000236</td>\n",
       "      <td>0.745634</td>\n",
       "      <td>0.802320</td>\n",
       "    </tr>\n",
       "    <tr>\n",
       "      <th>5</th>\n",
       "      <td>cg00000289</td>\n",
       "      <td>0.566659</td>\n",
       "      <td>0.575215</td>\n",
       "    </tr>\n",
       "    <tr>\n",
       "      <th>6</th>\n",
       "      <td>cg00000292</td>\n",
       "      <td>0.333087</td>\n",
       "      <td>0.676057</td>\n",
       "    </tr>\n",
       "  </tbody>\n",
       "</table>\n",
       "</div>"
      ],
      "text/plain": [
       "       ID_REF  LUAD_tumor  LUAD_normal\n",
       "0  cg00000029    0.277104     0.317716\n",
       "3  cg00000165    0.793160     0.251564\n",
       "4  cg00000236    0.745634     0.802320\n",
       "5  cg00000289    0.566659     0.575215\n",
       "6  cg00000292    0.333087     0.676057"
      ]
     },
     "execution_count": 9,
     "metadata": {},
     "output_type": "execute_result"
    }
   ],
   "source": [
    "_methyl_df = _methyl_df.dropna(how='any') \n",
    "_methyl_df.head()"
   ]
  },
  {
   "cell_type": "markdown",
   "metadata": {},
   "source": [
    "Dropping NaNs leaves us with a bit less (~390-400k) that the original 485k. The number of NaNs will vary. "
   ]
  },
  {
   "cell_type": "code",
   "execution_count": 10,
   "metadata": {},
   "outputs": [
    {
     "data": {
      "text/plain": [
       "394028"
      ]
     },
     "execution_count": 10,
     "metadata": {},
     "output_type": "execute_result"
    }
   ],
   "source": [
    "len(_methyl_df)"
   ]
  },
  {
   "cell_type": "markdown",
   "metadata": {},
   "source": [
    "The code below is sourced from an external file 'annotate_450k.py' containing classes that represent an Illumina 450k probe. This allows us to manipulate probes in arbitrary groups.  "
   ]
  },
  {
   "cell_type": "code",
   "execution_count": 11,
   "metadata": {},
   "outputs": [],
   "source": [
    "# %load '../methylator/annotation/annotate_450k.py'\n",
    "\n",
    "import os\n",
    "\n",
    "class Probe:\n",
    "    \"\"\"\n",
    "    Holds Illumina 450k probe info for a single CpG site.\n",
    "    \"\"\"\n",
    "    def __init__(self):\n",
    "        self.id = None\n",
    "        self. seq = None\n",
    "        self.name = None\n",
    "        self.chr = None\n",
    "        self.cord = None\n",
    "        self.strand = None\n",
    "        self.gene = None\n",
    "        self.refseq = None\n",
    "        self.tour = None\n",
    "        self.loc = None\n",
    "        \n",
    "class Interval:\n",
    "    \"\"\"\n",
    "    Define a genomic interval by chromsome and strand orientation.\n",
    "    \"\"\"\n",
    "    def __init__(self, chromosome, start, end, strand):\n",
    "        self.chr = chromosome\n",
    "        self.start = start\n",
    "        self.end = end\n",
    "        self.strand = strand\n",
    "\n",
    "class Location:\n",
    "    \"\"\"\n",
    "    Define a Probe location.\n",
    "    \"\"\"\n",
    "    BODY = \"Body\"\n",
    "    TSS200 = \"TSS200\"\n",
    "    TSS1500 = \"TSS1500\"\n",
    "    UTR5 = \"5'UTR\"\n",
    "    UTR3 = \"3'UTR\"\n",
    "    EXON = \"Exon\"\n",
    "\n",
    "class CpG_location:\n",
    "    \"\"\"\n",
    "    Defines a CpG location.\n",
    "    \"\"\"\n",
    "    ISLAND = \"Island\"\n",
    "    NSHORE = \"N_Shore\"\n",
    "    SSHORE = \"S_Shore\"\n",
    "    NSHELF = \"N_Shelf\"\n",
    "    SSHELF = \"S_Shelf\"\n",
    "    \n",
    "class SNP:\n",
    "    \"\"\"\n",
    "    Defines the SNPs in probes. Used to filter probes.\n",
    "    \"\"\"\n",
    "\n",
    "    def __init__(self):\n",
    "        self.probeid = None\n",
    "        self.snpid = None\n",
    "    \n",
    "class Annotate_450k:\n",
    "    \"\"\"\n",
    "    Parse and hold information about Illumina probes.\n",
    "    \"\"\"\n",
    "\n",
    "    def __init__(self):        \n",
    "        for i in open(anno_file, mode=\"r\"):\n",
    "            self.ann = os.path.join(\"../../data/\", i.strip(\"\\n\").strip(\"\\r\"))\n",
    "\n",
    "        self.probe = {}\n",
    "        self.__run__()\n",
    "\n",
    "    def __run__(self):\n",
    "        \"\"\"\n",
    "        A static function to setup the Probe classes.\n",
    "        \"\"\"\n",
    "        for i in open(self.ann, mode=\"r\"):\n",
    "            if i.startswith(\"cg\"):\n",
    "                data = i.split(\",\")\n",
    "                # Assign probe information.\n",
    "                new_probe = Probe()\n",
    "                new_probe.id = data[0]\n",
    "                new_probe.name = data[1]\n",
    "                new_probe.seq = data[13]\n",
    "                new_probe.chr = str(data[11])\n",
    "                new_probe.cord = int(data[12])\n",
    "                new_probe.strand = data[16]\n",
    "                new_probe.gene = data[21].split(\";\")\n",
    "                new_probe.refseq = data[22]\n",
    "                locs = data[23].split(\";\")\n",
    "                list_locs = []\n",
    "                for i in locs:\n",
    "                    if i not in list_locs:\n",
    "                        list_locs.append(i)\n",
    "\n",
    "                new_probe.loc = list_locs\n",
    "\n",
    "                new_probe.tour = data[25]\n",
    "                newcpg = {new_probe.id: new_probe}\n",
    "                self.probe.update(newcpg)\n",
    "\n",
    "    def get_probe(self, probe_id): #WORKS\n",
    "        \"\"\"\n",
    "        Return probe info associated with an reference.\n",
    "        \"\"\"\n",
    "        try:\n",
    "            probe = self.probe[probe_id]\n",
    "        except Exception as ex:\n",
    "            probe = None\n",
    "            print(\"WARNING: No probe with ref-id of %s found.\" % probe_id)\n",
    "        return probe\n",
    "\n",
    "    def get_all_probes(self):\n",
    "        \"\"\"\n",
    "        Return list of all probes.\n",
    "        \"\"\"\n",
    "        probe_list = []\n",
    "        for probe in self.probe.keys():\n",
    "            probe_list.append(self.get_probe(probe))\n",
    "        return probe_list\n",
    "    \n",
    "    def get_probes_by_list(self, list_of_ids):\n",
    "        \"\"\"\n",
    "        Return a list of probes from a list of references.\n",
    "        \"\"\"\n",
    "        out_list = []\n",
    "        for probe_id in list_of_ids:\n",
    "            out_list.append(self.get_probe(probe_id))\n",
    "\n",
    "        return out_list\n",
    "    \n",
    "    def get_probe_refs_by_gene(self, gene_name):\n",
    "        \"\"\"\n",
    "        Get all probe references associated with a gene.\n",
    "        \"\"\"\n",
    "        probes = {k: self.probe[k] for k in self.probe if gene_name in self.probe[k].gene}\n",
    "        return self.get_keys(probes.keys())\n",
    "\n",
    "    def get_probe_refs_by_location(self, probe_loc):\n",
    "        \"\"\"\n",
    "        Get all probe references associated with a genomic location.\n",
    "        \"\"\"\n",
    "        probes = {k: self.probe[k] for k in self.probe if probe_loc in self.probe[k].loc}\n",
    "        return self.get_keys(probes.keys())\n",
    "\n",
    "    def get_keys(self, dic_keys):\n",
    "        \"\"\"\n",
    "        Get Probe reference from probe dictionaries.\n",
    "        \"\"\"\n",
    "        l = []\n",
    "        for i in dic_keys:\n",
    "            l.append(i)\n",
    "        return l\n",
    "\n",
    "    def get_probes_by_gene(self, gene_name):\n",
    "        \"\"\"\n",
    "        Return list of probes for an associated gene.\n",
    "        \"\"\"\n",
    "        return self.get_probes_by_list(self.get_probe_refs_by_gene(gene_name))\n",
    "\n",
    "    def get_probes_by_location(self, loc):\n",
    "        \"\"\"\n",
    "        Return list of probes from genomic location.\n",
    "        \"\"\"\n",
    "        return self.get_probes_by_list(self.get_probe_refs_by_location(loc))\n",
    "\n",
    "    def get_probes_by_cpg(self, cpg_loc):\n",
    "        \"\"\"\n",
    "        Get a list probes from cpg location.\n",
    "        FIXME\n",
    "        \"\"\"\n",
    "        return self.get_probes_by_list(self.get_probes_by_cpg(cpg_loc))\n",
    "\n",
    "    def get_probes_by_chr(self, chr_loc):\n",
    "        \"\"\"\n",
    "        Get a list of probes within a certain genomic region\n",
    "        FIXME\n",
    "        \"\"\"\n",
    "        print (chr_loc.chr)\n",
    "        probes = {k: self.probe[k] for k in self.probe if\n",
    "                  self.probe[k].chr == chr_loc.chr}\n",
    "\n",
    "    def get_probes_by_chr_and_loc(self, chr_loc):\n",
    "        \"\"\"\n",
    "        Get a list of probes within a certain genomic region\n",
    "        FIXME\n",
    "        \"\"\"\n",
    "        chrom = chr_loc.chr\n",
    "        start = int(chr_loc.start)\n",
    "        end = int(chr_loc.end)\n",
    "        \n",
    "        #print (chrom, start, stop)\n",
    "\n",
    "        probes = {k: self.probe[k] for k in self.probe if\n",
    "                  self.probe[k].chr == chrom and start < self.probe[k].cord < end}\n",
    "        return probes\n",
    "\n",
    "    def get_probe_keys_by_chr_and_loc(self, chr_loc):\n",
    "        \"\"\"\n",
    "        Get a list of probe reference *keys* within a genomic region\n",
    "        FIXME\n",
    "        \"\"\"\n",
    "        probes = self.get_probes_by_chr_and_loc(chr_loc)\n",
    "        return self.get_keys(probes)\n",
    "\n",
    "    def get_number(self):\n",
    "        \"\"\"\n",
    "        Return total number of probes.\n",
    "        \"\"\"\n",
    "        number = 0\n",
    "        for probe_id in self.probe.keys():\n",
    "            number += 1\n",
    "\n",
    "        return number\n",
    "\n",
    "    def get_coord(self, probe):\n",
    "        \"\"\"\n",
    "        Get genomic coordinate of a single probe.\n",
    "        \"\"\"\n",
    "        return probe.cord\n",
    "    \n",
    "    def get_sorted_probes_by_id(self):\n",
    "        \"\"\"\n",
    "        Sort probes according to probe id.\n",
    "        \"\"\"\n",
    "        sorted_keys = sorted(list(self.probe.keys()))\n",
    "        return sorted_keys\n",
    "    \n",
    "    def get_sorted_probes_by_chr(self):\n",
    "        \"\"\"\n",
    "        Sort probes according to probe id.\n",
    "        \"\"\"\n",
    "        return sorted(self.get_all_probes(), key=lambda x: x.chr)\n",
    "    \n",
    "    def remove_snp_probes(self):\n",
    "        \"\"\"\n",
    "        Removes all SNPs associated with probes.\n",
    "        \"\"\"\n",
    "        snp_list = []\n",
    "        snp_file = open(\"../../data/humanmethylation450_dbsnp137.snpupdate.table.v2.sorted.txt\", \"r\")\n",
    "        for line in snp_file:\n",
    "            if line.startswith(\"cg\"):\n",
    "                line = line.strip(\"\\n\").strip(\"\\r\").split(\"\\t\")\n",
    "                new_snp = SNP()\n",
    "                new_snp.probeid = line[0]\n",
    "                new_snp.snpid = line[1]\n",
    "                snp_list.append(new_snp)\n",
    "\n",
    "        for snp in snp_list:\n",
    "            self.probe.pop(snp.probeid)\n",
    "\n",
    "anno_file = os.path.abspath(\"../../data/config.ini\") # Illumina probe manifest.\n",
    "\n",
    "# Functions to save/load dictionary objects. \n",
    "\n",
    "import _pickle as pickle\n",
    "\n",
    "def save_obj(obj, name):\n",
    "    with open('../../data/pickle/'+ name + '.pkl', 'wb+') as f:\n",
    "        pickle.dump(obj, f)\n",
    "        \n",
    "def load_obj(name):\n",
    "    with open('../../data/pickle/' + name + '.pkl', 'rb') as f:\n",
    "        return pickle.load(f)"
   ]
  },
  {
   "cell_type": "markdown",
   "metadata": {},
   "source": [
    "The following creates an annotation object from the Illumina 450k manifest. If the object was created and is local it will load it instead. "
   ]
  },
  {
   "cell_type": "code",
   "execution_count": 12,
   "metadata": {},
   "outputs": [
    {
     "name": "stdout",
     "output_type": "stream",
     "text": [
      "../../data/pickle/Illumina-450k-Anno.hg19.pkl\n"
     ]
    }
   ],
   "source": [
    "print (pickle_base + anno_str)"
   ]
  },
  {
   "cell_type": "code",
   "execution_count": 13,
   "metadata": {},
   "outputs": [],
   "source": [
    "exists_annotate   = os.path.isfile(pickle_base + anno_str)\n",
    "\n",
    "if LONG_RUN:\n",
    "    if exists_annotate: # load file\n",
    "        annotate = load_obj(anno_str[:-4])\n",
    "    else:\n",
    "        annotate = Annotate_450k() # create annotation object containing all probes\n",
    "        save_obj(annotate, anno_str[:-4])\n"
   ]
  },
  {
   "cell_type": "code",
   "execution_count": 14,
   "metadata": {},
   "outputs": [
    {
     "data": {
      "text/plain": [
       "<__main__.Probe at 0x157c56780>"
      ]
     },
     "execution_count": 14,
     "metadata": {},
     "output_type": "execute_result"
    }
   ],
   "source": [
    "annotate.probe.get('cg00000029') # should return a single probe"
   ]
  },
  {
   "cell_type": "markdown",
   "metadata": {},
   "source": [
    "At this point we have two big data structures: an annotation object which describes the 450k probes \n",
    "(annotate); and a methylation object for each cancer type (i.e. LUAD_methyl_df, GBM_methyl_df, etc.)\n",
    "We want to merge these into one object but need to clean up the SNPs first.  "
   ]
  },
  {
   "cell_type": "code",
   "execution_count": 15,
   "metadata": {},
   "outputs": [
    {
     "data": {
      "text/plain": [
       "482421"
      ]
     },
     "execution_count": 15,
     "metadata": {},
     "output_type": "execute_result"
    }
   ],
   "source": [
    "# size of annotate before cleaning...\n",
    "annotate.get_number() "
   ]
  },
  {
   "cell_type": "code",
   "execution_count": 16,
   "metadata": {},
   "outputs": [],
   "source": [
    "# after dropping SNPs...\n",
    "annotate.remove_snp_probes()"
   ]
  },
  {
   "cell_type": "markdown",
   "metadata": {},
   "source": [
    "Make copies of LUAD_methyl_df and annotate before messing with them:"
   ]
  },
  {
   "cell_type": "code",
   "execution_count": 17,
   "metadata": {},
   "outputs": [],
   "source": [
    "import copy\n",
    "COPY = False\n",
    "\n",
    "if COPY:\n",
    "    _methyl_df_COPY = _methyl_df.copy(deep=True) # 'deep' i.e. include data and indices.\n",
    "    annotate_COPY = copy.deepcopy(annotate)"
   ]
  },
  {
   "cell_type": "markdown",
   "metadata": {},
   "source": [
    "We change the index label to be ID_REF..."
   ]
  },
  {
   "cell_type": "code",
   "execution_count": 18,
   "metadata": {},
   "outputs": [
    {
     "data": {
      "text/html": [
       "<div>\n",
       "<style scoped>\n",
       "    .dataframe tbody tr th:only-of-type {\n",
       "        vertical-align: middle;\n",
       "    }\n",
       "\n",
       "    .dataframe tbody tr th {\n",
       "        vertical-align: top;\n",
       "    }\n",
       "\n",
       "    .dataframe thead th {\n",
       "        text-align: right;\n",
       "    }\n",
       "</style>\n",
       "<table border=\"1\" class=\"dataframe\">\n",
       "  <thead>\n",
       "    <tr style=\"text-align: right;\">\n",
       "      <th></th>\n",
       "      <th>LUAD_tumor</th>\n",
       "      <th>LUAD_normal</th>\n",
       "    </tr>\n",
       "    <tr>\n",
       "      <th>ID_REF</th>\n",
       "      <th></th>\n",
       "      <th></th>\n",
       "    </tr>\n",
       "  </thead>\n",
       "  <tbody>\n",
       "    <tr>\n",
       "      <th>cg00000029</th>\n",
       "      <td>0.277104</td>\n",
       "      <td>0.317716</td>\n",
       "    </tr>\n",
       "    <tr>\n",
       "      <th>cg00000165</th>\n",
       "      <td>0.793160</td>\n",
       "      <td>0.251564</td>\n",
       "    </tr>\n",
       "    <tr>\n",
       "      <th>cg00000236</th>\n",
       "      <td>0.745634</td>\n",
       "      <td>0.802320</td>\n",
       "    </tr>\n",
       "    <tr>\n",
       "      <th>cg00000289</th>\n",
       "      <td>0.566659</td>\n",
       "      <td>0.575215</td>\n",
       "    </tr>\n",
       "    <tr>\n",
       "      <th>cg00000292</th>\n",
       "      <td>0.333087</td>\n",
       "      <td>0.676057</td>\n",
       "    </tr>\n",
       "  </tbody>\n",
       "</table>\n",
       "</div>"
      ],
      "text/plain": [
       "            LUAD_tumor  LUAD_normal\n",
       "ID_REF                             \n",
       "cg00000029    0.277104     0.317716\n",
       "cg00000165    0.793160     0.251564\n",
       "cg00000236    0.745634     0.802320\n",
       "cg00000289    0.566659     0.575215\n",
       "cg00000292    0.333087     0.676057"
      ]
     },
     "execution_count": 18,
     "metadata": {},
     "output_type": "execute_result"
    }
   ],
   "source": [
    "_methyl_df = _methyl_df.set_index('ID_REF') # can only run this one time. \n",
    "_methyl_df.head()"
   ]
  },
  {
   "cell_type": "code",
   "execution_count": 19,
   "metadata": {},
   "outputs": [
    {
     "data": {
      "text/plain": [
       "(394028, 210294)"
      ]
     },
     "execution_count": 19,
     "metadata": {},
     "output_type": "execute_result"
    }
   ],
   "source": [
    "# size of LUAD methylation object and annotate object after cleaning...\n",
    "len(_methyl_df), annotate.get_number()"
   ]
  },
  {
   "cell_type": "markdown",
   "metadata": {},
   "source": [
    "We want the REF_IDs (from annotate) to correspond to REF_IDs in the methyl_df object. For this we need to find the intersection of REF_IDs in annotate and methyl_df. We accomplish this using Python sets. The following shows an example. "
   ]
  },
  {
   "cell_type": "code",
   "execution_count": 20,
   "metadata": {},
   "outputs": [
    {
     "data": {
      "text/plain": [
       "{7, 8, 9, 10, 11, 12, 13, 14}"
      ]
     },
     "execution_count": 20,
     "metadata": {},
     "output_type": "execute_result"
    }
   ],
   "source": [
    "# find common members among two sets of unique elements\n",
    "set1 = set([1, 2, 3 ,4 ,5 ,6 ,7 ,8 ,9, 10, 11, 12, 13, 14])\n",
    "set2 = set([7 ,8 ,9, 10, 11, 12, 13, 14])\n",
    "dff = set1.intersection(set2)\n",
    "dff "
   ]
  },
  {
   "cell_type": "code",
   "execution_count": 21,
   "metadata": {},
   "outputs": [
    {
     "data": {
      "text/plain": [
       "183367"
      ]
     },
     "execution_count": 21,
     "metadata": {},
     "output_type": "execute_result"
    }
   ],
   "source": [
    "# same as above, applied to the REF_IDs\n",
    "\n",
    "m_set = set(list(_methyl_df.index))      # unique methyl_df members\n",
    "a_set = set(list(annotate.probe.keys())) # unique annotate members\n",
    "\n",
    "m_a_intersect = sorted(m_set.intersection(a_set)) # sort the resulting intersection set\n",
    "\n",
    "len(m_a_intersect)"
   ]
  },
  {
   "cell_type": "code",
   "execution_count": 22,
   "metadata": {},
   "outputs": [
    {
     "name": "stdout",
     "output_type": "stream",
     "text": [
      "cg00000029\n",
      "True\n",
      "cg27666046\n",
      "True\n"
     ]
    }
   ],
   "source": [
    "# evidence that all REF_IDs are here... \n",
    "\n",
    "print(m_a_intersect[0])\n",
    "print(m_a_intersect[0] in a_set and m_a_intersect[0] in m_set)\n",
    "print(m_a_intersect[183366])\n",
    "print(m_a_intersect[183366] in a_set and m_a_intersect[183366] in m_set)"
   ]
  },
  {
   "cell_type": "markdown",
   "metadata": {},
   "source": [
    "The difference in size between LUAD_methyl_df and annotate - and the intersection between them - reflects that some probes in the former are removed as SNPs or missing values from the latter. The intersection is what we end up with: a fully-annotated probe set for which we have methylation beta-values. Before merging, a probe (without methylation data) has the following attributes:"
   ]
  },
  {
   "cell_type": "code",
   "execution_count": 23,
   "metadata": {},
   "outputs": [
    {
     "data": {
      "text/plain": [
       "['chr', 'cord', 'gene', 'id', 'loc', 'name', 'refseq', 'seq', 'strand', 'tour']"
      ]
     },
     "execution_count": 23,
     "metadata": {},
     "output_type": "execute_result"
    }
   ],
   "source": [
    "cg00035864 = annotate.get_probe('cg00035864')\n",
    "[a for a in dir(cg00035864) if not a.startswith('__')]"
   ]
  },
  {
   "cell_type": "code",
   "execution_count": 24,
   "metadata": {},
   "outputs": [
    {
     "data": {
      "text/html": [
       "<div>\n",
       "<style scoped>\n",
       "    .dataframe tbody tr th:only-of-type {\n",
       "        vertical-align: middle;\n",
       "    }\n",
       "\n",
       "    .dataframe tbody tr th {\n",
       "        vertical-align: top;\n",
       "    }\n",
       "\n",
       "    .dataframe thead th {\n",
       "        text-align: right;\n",
       "    }\n",
       "</style>\n",
       "<table border=\"1\" class=\"dataframe\">\n",
       "  <thead>\n",
       "    <tr style=\"text-align: right;\">\n",
       "      <th></th>\n",
       "      <th>LUAD_tumor</th>\n",
       "      <th>LUAD_normal</th>\n",
       "    </tr>\n",
       "    <tr>\n",
       "      <th>ID_REF</th>\n",
       "      <th></th>\n",
       "      <th></th>\n",
       "    </tr>\n",
       "  </thead>\n",
       "  <tbody>\n",
       "    <tr>\n",
       "      <th>cg00000029</th>\n",
       "      <td>0.277104</td>\n",
       "      <td>0.317716</td>\n",
       "    </tr>\n",
       "    <tr>\n",
       "      <th>cg00000165</th>\n",
       "      <td>0.793160</td>\n",
       "      <td>0.251564</td>\n",
       "    </tr>\n",
       "    <tr>\n",
       "      <th>cg00000289</th>\n",
       "      <td>0.566659</td>\n",
       "      <td>0.575215</td>\n",
       "    </tr>\n",
       "    <tr>\n",
       "      <th>cg00000363</th>\n",
       "      <td>0.295090</td>\n",
       "      <td>0.268511</td>\n",
       "    </tr>\n",
       "    <tr>\n",
       "      <th>cg00000658</th>\n",
       "      <td>0.848555</td>\n",
       "      <td>0.837816</td>\n",
       "    </tr>\n",
       "  </tbody>\n",
       "</table>\n",
       "</div>"
      ],
      "text/plain": [
       "            LUAD_tumor  LUAD_normal\n",
       "ID_REF                             \n",
       "cg00000029    0.277104     0.317716\n",
       "cg00000165    0.793160     0.251564\n",
       "cg00000289    0.566659     0.575215\n",
       "cg00000363    0.295090     0.268511\n",
       "cg00000658    0.848555     0.837816"
      ]
     },
     "execution_count": 24,
     "metadata": {},
     "output_type": "execute_result"
    }
   ],
   "source": [
    "methyl = _methyl_df.loc[m_a_intersect] # methyl is a df of the final xxxx_methyl set\n",
    "methyl.head()"
   ]
  },
  {
   "cell_type": "markdown",
   "metadata": {},
   "source": [
    "Now all elements in methyl are also contained in annotate..."
   ]
  },
  {
   "cell_type": "code",
   "execution_count": 25,
   "metadata": {},
   "outputs": [
    {
     "name": "stdout",
     "output_type": "stream",
     "text": [
      "Methyl values for LUAD cg00000029: [0.27710355708451, 0.317716330006585]\n",
      "Methyl values for LUAD cg27666046: [0.126311568535721, 0.622717662886796]\n",
      "\n",
      "Annotation probe found: cg00000029\n",
      "Annotation probe found: cg27666046\n"
     ]
    }
   ],
   "source": [
    "print('Methyl values for ' + tissue + ' cg00000029: ' + str(list(methyl.loc['cg00000029'])))\n",
    "print('Methyl values for ' + tissue + ' cg27666046: ' + str(list(methyl.loc['cg27666046'])))\n",
    "print()\n",
    "print('Annotation probe found: ' + annotate.probe['cg00000029'].id)\n",
    "print('Annotation probe found: ' + annotate.probe['cg27666046'].id)"
   ]
  },
  {
   "cell_type": "markdown",
   "metadata": {},
   "source": [
    "There's still a difference in the number of elements in each object. Some found in annotate are not found in methyl."
   ]
  },
  {
   "cell_type": "code",
   "execution_count": 26,
   "metadata": {},
   "outputs": [
    {
     "data": {
      "text/plain": [
       "(210294, 183367)"
      ]
     },
     "execution_count": 26,
     "metadata": {},
     "output_type": "execute_result"
    }
   ],
   "source": [
    "len(annotate.probe), len(methyl)"
   ]
  },
  {
   "cell_type": "markdown",
   "metadata": {},
   "source": [
    "Using set operations again (this time, difference) we can find these and remove them..."
   ]
  },
  {
   "cell_type": "code",
   "execution_count": 27,
   "metadata": {},
   "outputs": [
    {
     "data": {
      "text/plain": [
       "(183367, 183367)"
      ]
     },
     "execution_count": 27,
     "metadata": {},
     "output_type": "execute_result"
    }
   ],
   "source": [
    "m_set_two = set(list(methyl.index)) # unique methyl_set members\n",
    "a_set_two = set(list(annotate.probe.keys())) # unique annotate members\n",
    "m_a_intersect_two = sorted(a_set_two.difference(m_set_two)) # sort the difference\n",
    "\n",
    "for item in m_a_intersect_two:\n",
    "    try:\n",
    "        annotate.probe.pop(item, None)\n",
    "    except KeyError:\n",
    "        pass\n",
    "    \n",
    "len(annotate.probe), len(methyl)"
   ]
  },
  {
   "cell_type": "markdown",
   "metadata": {},
   "source": [
    "Finally, we have two objects cleaned and aligned such that they can be merged. We do this by setting attributes on a new dict object containing only filtered probes from the annotate object along with methyl values for matching probe REF_IDs in the methyl object.   "
   ]
  },
  {
   "cell_type": "code",
   "execution_count": 28,
   "metadata": {},
   "outputs": [
    {
     "data": {
      "text/plain": [
       "183367"
      ]
     },
     "execution_count": 28,
     "metadata": {},
     "output_type": "execute_result"
    }
   ],
   "source": [
    "#LONG_RUN = False \n",
    "\n",
    "methyl_probe_dict = {}\n",
    "\n",
    "if LONG_RUN:\n",
    "    for index, row in methyl.iterrows(): # annotate and methyl have the same number of rows...\n",
    "        methyl_probe_dict[index] = annotate.probe.get(index) # so these indexes will match...\n",
    "        setattr(methyl_probe_dict[index], tumor, row[0]) # and for the matching index, we add the methyl data.\n",
    "        setattr(methyl_probe_dict[index], normal, row[1])\n",
    "else:    \n",
    "    for index, row in methyl.head(5).iterrows():\n",
    "        methyl_probe_dict[index] = annotate.probe.get(index)\n",
    "        setattr(methyl_probe_dict[index], tumor, row[0])\n",
    "        setattr(methyl_probe_dict[index], normal, row[1])\n",
    "        \n",
    "len(methyl_probe_dict)"
   ]
  },
  {
   "cell_type": "code",
   "execution_count": 29,
   "metadata": {},
   "outputs": [
    {
     "data": {
      "text/plain": [
       "['LUAD_normal',\n",
       " 'LUAD_tumor',\n",
       " 'chr',\n",
       " 'cord',\n",
       " 'gene',\n",
       " 'id',\n",
       " 'loc',\n",
       " 'name',\n",
       " 'refseq',\n",
       " 'seq',\n",
       " 'strand',\n",
       " 'tour']"
      ]
     },
     "execution_count": 29,
     "metadata": {},
     "output_type": "execute_result"
    }
   ],
   "source": [
    "cg00000029 = methyl_probe_dict['cg00000029']\n",
    "[a for a in dir(cg00000029) if not a.startswith('__')]"
   ]
  },
  {
   "cell_type": "markdown",
   "metadata": {},
   "source": [
    "Create a boxplot of the methylation values to see how they stack up..."
   ]
  },
  {
   "cell_type": "code",
   "execution_count": 98,
   "metadata": {},
   "outputs": [
    {
     "data": {
      "image/png": "[encoded data removed]",
      "text/plain": [
       "<Figure size 288x216 with 1 Axes>"
      ]
     },
     "metadata": {
      "needs_background": "light"
     },
     "output_type": "display_data"
    },
    {
     "data": {
      "image/png": "[encoded data removed]",
      "text/plain": [
       "<Figure size 288x216 with 1 Axes>"
      ]
     },
     "metadata": {
      "needs_background": "light"
     },
     "output_type": "display_data"
    }
   ],
   "source": [
    "import matplotlib.pyplot as plt \n",
    "plt.close('all')\n",
    "\n",
    "plt.figure(figsize=(4, 3))\n",
    "_methyl_df.boxplot(column=[tumor, normal])\n",
    "\n",
    "legend_str = normal + ' - ' + tumor \n",
    "# Boxplot of the difference\n",
    "plt.figure(figsize=(4, 3))\n",
    "plt.boxplot(_methyl_df[normal] - _methyl_df[tumor])\n",
    "#plt.xticks((1, ), ('LUAD_normal - LUAD_tumor', ))\n",
    "plt.xticks((1, ), (legend_str, ))\n",
    "\n",
    "plt.show() # plot all data from a paired JHU dataset"
   ]
  },
  {
   "cell_type": "markdown",
   "metadata": {},
   "source": [
    "Finally, we want to save things so we don't have to re-build from scratch. The actual paths where things are saved are: "
   ]
  },
  {
   "cell_type": "code",
   "execution_count": 99,
   "metadata": {},
   "outputs": [
    {
     "name": "stdout",
     "output_type": "stream",
     "text": [
      "../../data/pickle/TCGA-50-5931-LUAD.pkl\n",
      "../../data/pickle/Illumina-450k-Anno.hg19.pkl\n"
     ]
    }
   ],
   "source": [
    "print(pickle_base + file_str_picl)\n",
    "print(pickle_base + anno_str)"
   ]
  },
  {
   "cell_type": "code",
   "execution_count": 100,
   "metadata": {},
   "outputs": [],
   "source": [
    "exists_methyl     = os.path.isfile(pickle_base + file_str_picl)\n",
    "exists_annotate   = os.path.isfile(pickle_base + anno_str)\n",
    "\n",
    "if exists_methyl:\n",
    "    pass\n",
    "else:\n",
    "    # create file\n",
    "    save_obj(methyl_probe_dict, file_str_picl[:-4])\n",
    "\n",
    "if exists_annotate:\n",
    "    pass\n",
    "    #annotate = load_obj(anno_str[:-4]) # this is the full annotation, with SNPs, minus our additions. \n",
    "else:\n",
    "    pass"
   ]
  },
  {
   "cell_type": "code",
   "execution_count": 101,
   "metadata": {},
   "outputs": [],
   "source": [
    "methyl_probe_dict = {}\n",
    "methyl_probe_dict = load_obj(file_str_picl[:-4]) # let's see if that worked. "
   ]
  },
  {
   "cell_type": "code",
   "execution_count": 102,
   "metadata": {},
   "outputs": [
    {
     "data": {
      "text/plain": [
       "(183367, <__main__.Probe at 0x162f42f98>)"
      ]
     },
     "execution_count": 102,
     "metadata": {},
     "output_type": "execute_result"
    }
   ],
   "source": [
    "len(methyl_probe_dict), methyl_probe_dict['cg00000029']"
   ]
  },
  {
   "cell_type": "code",
   "execution_count": null,
   "metadata": {},
   "outputs": [],
   "source": []
  }
 ],
 "metadata": {
  "kernelspec": {
   "display_name": "Python 3",
   "language": "python",
   "name": "python3"
  },
  "language_info": {
   "codemirror_mode": {
    "name": "ipython",
    "version": 3
   },
   "file_extension": ".py",
   "mimetype": "text/x-python",
   "name": "python",
   "nbconvert_exporter": "python",
   "pygments_lexer": "ipython3",
   "version": "3.6.8"
  }
 },
 "nbformat": 4,
 "nbformat_minor": 2
}
