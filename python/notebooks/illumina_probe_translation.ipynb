{
 "cells": [
  {
   "cell_type": "markdown",
   "metadata": {},
   "source": [
    "#### Illumina 450k Probe Design & Translation"
   ]
  },
  {
   "cell_type": "markdown",
   "metadata": {},
   "source": [
    "``` pre\n",
    "Illumina 450k row entries we're interested in (referenced against Build 37).\n",
    "\n",
    "1.  Name                            IlmnID.\n",
    "2.  AddressA_ID                     Address ID for the probe used for both A and B alleles.\n",
    "3.  AlleleA_ProbeSeq                Sequence of probe identified in AddressA_ID column.\n",
    "9.  Forward_Sequence                Plus (+) strand (HapMap) sequence (5'-3') flanking the CG.\n",
    "11. CHR                             Chromosome containing the CpG (Build 37).\n",
    "12. MAPINFO                         Chromosomal coordinates of the CpG (Build 37).\n",
    "13. SourceSeq                       Genomic sequence prior to bisulfite conversion.\n",
    "16. Strand                          F Strand = (+) and R = (-).\n",
    "21. UCSC_RefGene_Name               Target gene name[s] from UCSC, w/ splice variants.\n",
    "22. UCSC_RefGene_Accession          UCSC ACC's of target transcripts, in order w/ transcripts.\n",
    "23. UCSC_RefGene_Group              Gene region of CpG position from UCSC.\n",
    "24. UCSC_CpG_Islands_Name           Chromosomal coordinates of the CpG Island, from UCSC.\n",
    "25. Relation_to_UCSC_CpG_Island     The location of the CpG relative to the CpG island.\n",
    "\n",
    "Example:\n",
    "1.  Name:                           cg00035864\n",
    "2.  AddressA_ID:                    31729416\n",
    "3.  AlleleA_ProbeSeq:               AAAACACTAACAATCTTATCCACATAAACCCTTAAATTTATCTCAAATTC\n",
    "9.  Forward_Sequence:               AATCCAAAGATGATGGAGGTAAGTGCCCG...[CG]...TCTCTGGATTG\n",
    "11. CHR:                            Y\n",
    "12. MAPINFO:                        8553009\n",
    "13. SourceSeq:                      AGACACTAGCAGTCTTGTCCACATAGACCCTTGAATTTATCTCAAATTCG\n",
    "16. Strand:                         F\n",
    "21. UCSC_RefGene_Name:              TTTY18\n",
    "22. UCSC_RefGene_Accession:         NR_001550\n",
    "23. UCSC_RefGene_Group:             TSS1500\n",
    "24. UCSC_CpG_Islands_Name           '' (empty)\n",
    "25. Relation_to_UCSC_CpG_Island     '' (empty)\n",
    "```"
   ]
  },
  {
   "cell_type": "code",
   "execution_count": 21,
   "metadata": {},
   "outputs": [],
   "source": [
    "# Creates a mapping of Illumina probe ID's to UCSC CpG names. \n",
    "# WARNING: This will take a minute or two to complete.\n",
    "\n",
    "import pandas as pd\n",
    "\n",
    "small_anno_file = pd.read_excel(\"../../data/ilmn.450k.annotated.hg19.xlsx\")\n",
    "UCSC_CpG_names =  small_anno_file.iloc[:,3]\n",
    "unique = set(list(UCSC_CpG_names))\n",
    "\n",
    "lookup = {}\n",
    "for name in unique:\n",
    "    if (len(name) > 8):\n",
    "        continue\n",
    "    indices = [i for i, x in UCSC_CpG_names.iteritems() if x == name]\n",
    "    try:\n",
    "        lookup[name] = indices # a dictionary of Illumina probe ID lists keyed by index='CpG: 21', etc.\n",
    "    except KeyError:\n",
    "        pass"
   ]
  },
  {
   "cell_type": "code",
   "execution_count": 22,
   "metadata": {},
   "outputs": [
    {
     "data": {
      "text/plain": [
       "8059"
      ]
     },
     "execution_count": 22,
     "metadata": {},
     "output_type": "execute_result"
    }
   ],
   "source": [
    "len(lookup['CpG: 21']) # there are 8059 Illumina probes in UCSC's 'CpG: 21'. "
   ]
  },
  {
   "cell_type": "code",
   "execution_count": 28,
   "metadata": {},
   "outputs": [],
   "source": [
    "import _pickle as pickle\n",
    "\n",
    "def save_obj(obj, name):\n",
    "    with open('../../data/pickle/'+ name + '.pkl', 'wb+') as f:\n",
    "        pickle.dump(obj, f)\n",
    "        \n",
    "def load_obj(name):\n",
    "    with open('../../data/pickle/' + name + '.pkl', 'rb') as f:\n",
    "        return pickle.load(f)"
   ]
  },
  {
   "cell_type": "code",
   "execution_count": 29,
   "metadata": {},
   "outputs": [],
   "source": [
    "save_obj(lookup, 'CpG_names_to_probes') # file is about 2Mb\n",
    "#lookup = load_obj('CpG_names_to_probes')"
   ]
  },
  {
   "cell_type": "code",
   "execution_count": 30,
   "metadata": {},
   "outputs": [
    {
     "data": {
      "text/plain": [
       "8059"
      ]
     },
     "execution_count": 30,
     "metadata": {},
     "output_type": "execute_result"
    }
   ],
   "source": [
    "lookup = {} # empty it...\n",
    "lookup = load_obj('CpG_names_to_probes')\n",
    "\n",
    "len(lookup['CpG: 21']) # and again... "
   ]
  },
  {
   "cell_type": "code",
   "execution_count": null,
   "metadata": {},
   "outputs": [],
   "source": []
  },
  {
   "cell_type": "code",
   "execution_count": null,
   "metadata": {},
   "outputs": [],
   "source": []
  },
  {
   "cell_type": "code",
   "execution_count": null,
   "metadata": {},
   "outputs": [],
   "source": [
    "# Code needed to figure out the Illumina column names and an example row (see top of page).\n",
    "import os\n",
    "anno_file = \"../../data/HumanMethylation450_15017482_v1-2.csv\"\n",
    "\n",
    "N=10\n",
    "with open(anno_file) as anno:\n",
    "    head = [next(anno) for x in range(N)]\n",
    "headers = head[7].split(\",\")\n",
    "row = head[8].split(\",\")\n",
    "\n",
    "for i in range(0,len(headers)): # 32 columns\n",
    "    #print ('{idx}\\t{h}: \\t {v}'.format(idx=i, h=headers[i], v=row[i]))\n",
    "    pass"
   ]
  }
 ],
 "metadata": {
  "kernelspec": {
   "display_name": "Python 3",
   "language": "python",
   "name": "python3"
  },
  "language_info": {
   "codemirror_mode": {
    "name": "ipython",
    "version": 3
   },
   "file_extension": ".py",
   "mimetype": "text/x-python",
   "name": "python",
   "nbconvert_exporter": "python",
   "pygments_lexer": "ipython3",
   "version": "3.6.8"
  }
 },
 "nbformat": 4,
 "nbformat_minor": 2
}
