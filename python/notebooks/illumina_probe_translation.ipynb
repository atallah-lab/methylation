{
 "cells": [
  {
   "cell_type": "markdown",
   "metadata": {},
   "source": [
    "#### Illumina 450k Probe Design & Translation"
   ]
  },
  {
   "cell_type": "code",
   "execution_count": 27,
   "metadata": {},
   "outputs": [],
   "source": [
    "# Code to list Illumina column names along with an example row (see following cell).\n",
    "\n",
    "import os\n",
    "\n",
    "anno_file = \"../../data/HumanMethylation450_15017482_v1-2.csv\"\n",
    "\n",
    "N=10\n",
    "with open(anno_file) as anno:\n",
    "    head = [next(anno) for x in range(N)]\n",
    "headers = head[7].split(\",\")\n",
    "row = head[8].split(\",\")\n",
    "\n",
    "for i in range(0,len(headers)): # 32 columns\n",
    "    #print ('{idx}\\t{h}: \\t {v}'.format(idx=i, h=headers[i], v=row[i]))\n",
    "    pass"
   ]
  },
  {
   "cell_type": "markdown",
   "metadata": {},
   "source": [
    "``` pre\n",
    "Illumina 450k row entries we're interested in (referenced against Build 37).\n",
    "\n",
    "1.  Name                            IlmnID.\n",
    "2.  AddressA_ID                     Address ID for the probe used for both A and B alleles.\n",
    "3.  AlleleA_ProbeSeq                Sequence of probe identified in AddressA_ID column.\n",
    "9.  Forward_Sequence                Plus (+) strand (HapMap) sequence (5'-3') flanking the CG.\n",
    "11. CHR                             Chromosome containing the CpG (Build 37).\n",
    "12. MAPINFO                         Chromosomal coordinates of the CpG (Build 37).\n",
    "13. SourceSeq                       Genomic sequence prior to bisulfite conversion.\n",
    "16. Strand                          F Strand = (+) and R = (-).\n",
    "21. UCSC_RefGene_Name               Target gene name[s] from UCSC, w/ splice variants.\n",
    "22. UCSC_RefGene_Accession          UCSC ACC's of target transcripts, in order w/ transcripts.\n",
    "23. UCSC_RefGene_Group              Gene region of CpG position from UCSC.\n",
    "24. UCSC_CpG_Islands_Name           Chromosomal coordinates of the CpG Island, from UCSC.\n",
    "25. Relation_to_UCSC_CpG_Island     The location of the CpG relative to the CpG island.\n",
    "\n",
    "Example:\n",
    "1.  Name:                           cg00035864\n",
    "2.  AddressA_ID:                    31729416\n",
    "3.  AlleleA_ProbeSeq:               AAAACACTAACAATCTTATCCACATAAACCCTTAAATTTATCTCAAATTC\n",
    "9.  Forward_Sequence:               AATCCAAAGATGATGGAGGTAAGTGCCCG...[CG]...TCTCTGGATTG\n",
    "11. CHR:                            Y\n",
    "12. MAPINFO:                        8553009\n",
    "13. SourceSeq:                      AGACACTAGCAGTCTTGTCCACATAGACCCTTGAATTTATCTCAAATTCG\n",
    "16. Strand:                         F\n",
    "21. UCSC_RefGene_Name:              TTTY18\n",
    "22. UCSC_RefGene_Accession:         NR_001550\n",
    "23. UCSC_RefGene_Group:             TSS1500\n",
    "24. UCSC_CpG_Islands_Name           '' (sometimes empty)\n",
    "25. Relation_to_UCSC_CpG_Island     '' (sometimes empty)\n",
    "```"
   ]
  },
  {
   "cell_type": "code",
   "execution_count": 28,
   "metadata": {},
   "outputs": [],
   "source": [
    "# Create a mapping of UCSC CpG names --> Illumina probe ids. (Takes >2 hours to finish the full file)\n",
    "\n",
    "from collections import defaultdict\n",
    "\n",
    "def horribly_slow(anno_file): # why is this so slow?\n",
    "    UCSC_CpG_keys =  list(anno_file.iloc[:,3])\n",
    "    UCSC_CpG_vals =  list(anno_file.iloc[:,2])\n",
    "    UCSC_lookup = {}\n",
    "\n",
    "    UCSC_dict = defaultdict(list)\n",
    "\n",
    "    for i,name in enumerate(list(UCSC_CpG_keys)):\n",
    "        UCSC_dict[name].append(i)\n",
    "    UCSC_dict = {k:v for k,v in UCSC_dict.items()}\n",
    "\n",
    "    for key in UCSC_CpG_keys:\n",
    "        try:\n",
    "            UCSC_lookup[key] = [anno_file.iloc[x]['Name'] for x in UCSC_dict[key]]\n",
    "        except KeyError:\n",
    "            pass\n",
    "\n",
    "    return UCSC_lookup"
   ]
  },
  {
   "cell_type": "code",
   "execution_count": 29,
   "metadata": {},
   "outputs": [],
   "source": [
    "anno_file = pd.read_excel(\"../../data/ilmn.450k.annotated.hg19.small.xlsx\")\n",
    "\n",
    "UCSC_lookup = horribly_slow(anno_file)"
   ]
  },
  {
   "cell_type": "code",
   "execution_count": 30,
   "metadata": {},
   "outputs": [
    {
     "data": {
      "text/plain": [
       "['cg00050873', 'cg00061679', 'cg00543493']"
      ]
     },
     "execution_count": 30,
     "metadata": {},
     "output_type": "execute_result"
    }
   ],
   "source": [
    "UCSC_lookup['CpG: 21']"
   ]
  },
  {
   "cell_type": "code",
   "execution_count": null,
   "metadata": {},
   "outputs": [],
   "source": []
  }
 ],
 "metadata": {
  "kernelspec": {
   "display_name": "Python 3",
   "language": "python",
   "name": "python3"
  },
  "language_info": {
   "codemirror_mode": {
    "name": "ipython",
    "version": 3
   },
   "file_extension": ".py",
   "mimetype": "text/x-python",
   "name": "python",
   "nbconvert_exporter": "python",
   "pygments_lexer": "ipython3",
   "version": "3.6.8"
  }
 },
 "nbformat": 4,
 "nbformat_minor": 2
}
