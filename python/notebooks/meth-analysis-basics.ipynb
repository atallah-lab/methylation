{
 "cells": [
  {
   "cell_type": "markdown",
   "metadata": {},
   "source": [
    "## Ilumina 450K Methylation Analysis - Basics"
   ]
  },
  {
   "cell_type": "code",
   "execution_count": 66,
   "metadata": {},
   "outputs": [
    {
     "data": {
      "text/html": [
       "<div>\n",
       "<style scoped>\n",
       "    .dataframe tbody tr th:only-of-type {\n",
       "        vertical-align: middle;\n",
       "    }\n",
       "\n",
       "    .dataframe tbody tr th {\n",
       "        vertical-align: top;\n",
       "    }\n",
       "\n",
       "    .dataframe thead th {\n",
       "        text-align: right;\n",
       "    }\n",
       "</style>\n",
       "<table border=\"1\" class=\"dataframe\">\n",
       "  <thead>\n",
       "    <tr style=\"text-align: right;\">\n",
       "      <th></th>\n",
       "      <th>ID_REF</th>\n",
       "      <th>LUSC_tumor</th>\n",
       "      <th>LUSC_normal</th>\n",
       "      <th>COAD_tumor</th>\n",
       "      <th>COAD_normal</th>\n",
       "      <th>GBM_tumor</th>\n",
       "      <th>GBM_normal</th>\n",
       "    </tr>\n",
       "  </thead>\n",
       "  <tbody>\n",
       "    <tr>\n",
       "      <th>0</th>\n",
       "      <td>cg00000029</td>\n",
       "      <td>0.312090</td>\n",
       "      <td>0.277189</td>\n",
       "      <td>0.491594</td>\n",
       "      <td>0.201456</td>\n",
       "      <td>0.862540</td>\n",
       "      <td>0.625655</td>\n",
       "    </tr>\n",
       "    <tr>\n",
       "      <th>1</th>\n",
       "      <td>cg00000165</td>\n",
       "      <td>0.356855</td>\n",
       "      <td>0.152366</td>\n",
       "      <td>0.867351</td>\n",
       "      <td>0.236720</td>\n",
       "      <td>0.890708</td>\n",
       "      <td>0.223732</td>\n",
       "    </tr>\n",
       "    <tr>\n",
       "      <th>2</th>\n",
       "      <td>cg00000236</td>\n",
       "      <td>0.914564</td>\n",
       "      <td>0.874785</td>\n",
       "      <td>0.930446</td>\n",
       "      <td>0.877313</td>\n",
       "      <td>0.908234</td>\n",
       "      <td>0.924708</td>\n",
       "    </tr>\n",
       "    <tr>\n",
       "      <th>3</th>\n",
       "      <td>cg00000289</td>\n",
       "      <td>0.783759</td>\n",
       "      <td>0.788907</td>\n",
       "      <td>0.765557</td>\n",
       "      <td>0.765379</td>\n",
       "      <td>0.768677</td>\n",
       "      <td>0.716382</td>\n",
       "    </tr>\n",
       "    <tr>\n",
       "      <th>4</th>\n",
       "      <td>cg00000292</td>\n",
       "      <td>0.854914</td>\n",
       "      <td>0.754082</td>\n",
       "      <td>0.667273</td>\n",
       "      <td>0.599161</td>\n",
       "      <td>0.565240</td>\n",
       "      <td>0.567836</td>\n",
       "    </tr>\n",
       "  </tbody>\n",
       "</table>\n",
       "</div>"
      ],
      "text/plain": [
       "       ID_REF  LUSC_tumor  LUSC_normal  COAD_tumor  COAD_normal  GBM_tumor  \\\n",
       "0  cg00000029    0.312090     0.277189    0.491594     0.201456   0.862540   \n",
       "1  cg00000165    0.356855     0.152366    0.867351     0.236720   0.890708   \n",
       "2  cg00000236    0.914564     0.874785    0.930446     0.877313   0.908234   \n",
       "3  cg00000289    0.783759     0.788907    0.765557     0.765379   0.768677   \n",
       "4  cg00000292    0.854914     0.754082    0.667273     0.599161   0.565240   \n",
       "\n",
       "   GBM_normal  \n",
       "0    0.625655  \n",
       "1    0.223732  \n",
       "2    0.924708  \n",
       "3    0.716382  \n",
       "4    0.567836  "
      ]
     },
     "execution_count": 66,
     "metadata": {},
     "output_type": "execute_result"
    }
   ],
   "source": [
    "import os\n",
    "import pandas as pd\n",
    "\n",
    "meth_df = pd.read_excel('../../data/Cancer-Sample-Spreadsheets/TCGA-DATA-COMBINED.xlsx')\n",
    "meth_df.head() # Pandas dataframe"
   ]
  },
  {
   "cell_type": "code",
   "execution_count": 67,
   "metadata": {},
   "outputs": [
    {
     "data": {
      "text/html": [
       "<div>\n",
       "<style scoped>\n",
       "    .dataframe tbody tr th:only-of-type {\n",
       "        vertical-align: middle;\n",
       "    }\n",
       "\n",
       "    .dataframe tbody tr th {\n",
       "        vertical-align: top;\n",
       "    }\n",
       "\n",
       "    .dataframe thead th {\n",
       "        text-align: right;\n",
       "    }\n",
       "</style>\n",
       "<table border=\"1\" class=\"dataframe\">\n",
       "  <thead>\n",
       "    <tr style=\"text-align: right;\">\n",
       "      <th></th>\n",
       "      <th>Chr</th>\n",
       "      <th>Start</th>\n",
       "      <th>End</th>\n",
       "      <th>Strand</th>\n",
       "    </tr>\n",
       "  </thead>\n",
       "  <tbody>\n",
       "    <tr>\n",
       "      <th>0</th>\n",
       "      <td>1</td>\n",
       "      <td>815511</td>\n",
       "      <td>815511</td>\n",
       "      <td>-</td>\n",
       "    </tr>\n",
       "    <tr>\n",
       "      <th>1</th>\n",
       "      <td>1</td>\n",
       "      <td>980069</td>\n",
       "      <td>980069</td>\n",
       "      <td>+</td>\n",
       "    </tr>\n",
       "    <tr>\n",
       "      <th>2</th>\n",
       "      <td>1</td>\n",
       "      <td>1149273</td>\n",
       "      <td>1149273</td>\n",
       "      <td>-</td>\n",
       "    </tr>\n",
       "    <tr>\n",
       "      <th>3</th>\n",
       "      <td>1</td>\n",
       "      <td>1687509</td>\n",
       "      <td>1687509</td>\n",
       "      <td>-</td>\n",
       "    </tr>\n",
       "    <tr>\n",
       "      <th>4</th>\n",
       "      <td>1</td>\n",
       "      <td>3053277</td>\n",
       "      <td>3053277</td>\n",
       "      <td>-</td>\n",
       "    </tr>\n",
       "  </tbody>\n",
       "</table>\n",
       "</div>"
      ],
      "text/plain": [
       "  Chr    Start      End Strand\n",
       "0   1   815511   815511      -\n",
       "1   1   980069   980069      +\n",
       "2   1  1149273  1149273      -\n",
       "3   1  1687509  1687509      -\n",
       "4   1  3053277  3053277      -"
      ]
     },
     "execution_count": 67,
     "metadata": {},
     "output_type": "execute_result"
    }
   ],
   "source": [
    "content = []\n",
    "eul1db_srip_list = []\n",
    "with open(\"../../data/eul1db-data/eul1db_srip.bed\")as f:\n",
    "    for line in f:\n",
    "        content.append(line.strip().split())\n",
    "for i, line in enumerate(content):\n",
    "    if i < 3:\n",
    "        continue\n",
    "    eul1db_srip_list.append([line[0][3:], line[1], line[2], line[5]])\n",
    "headers = ['Chr','Start','End','Strand']\n",
    "eul1db_srip_df = pd.DataFrame(eul1db_srip_list, columns=headers)\n",
    "eul1db_srip_df.head(n=5)"
   ]
  },
  {
   "cell_type": "code",
   "execution_count": 68,
   "metadata": {},
   "outputs": [
    {
     "data": {
      "text/html": [
       "<div>\n",
       "<style scoped>\n",
       "    .dataframe tbody tr th:only-of-type {\n",
       "        vertical-align: middle;\n",
       "    }\n",
       "\n",
       "    .dataframe tbody tr th {\n",
       "        vertical-align: top;\n",
       "    }\n",
       "\n",
       "    .dataframe thead th {\n",
       "        text-align: right;\n",
       "    }\n",
       "</style>\n",
       "<table border=\"1\" class=\"dataframe\">\n",
       "  <thead>\n",
       "    <tr style=\"text-align: right;\">\n",
       "      <th></th>\n",
       "      <th>Chr</th>\n",
       "      <th>Start</th>\n",
       "      <th>End</th>\n",
       "      <th>Strand</th>\n",
       "    </tr>\n",
       "  </thead>\n",
       "  <tbody>\n",
       "    <tr>\n",
       "      <th>0</th>\n",
       "      <td>8</td>\n",
       "      <td>134077776</td>\n",
       "      <td>134069730</td>\n",
       "      <td>-1</td>\n",
       "    </tr>\n",
       "    <tr>\n",
       "      <th>1</th>\n",
       "      <td>8</td>\n",
       "      <td>128460023</td>\n",
       "      <td>128451975</td>\n",
       "      <td>-1</td>\n",
       "    </tr>\n",
       "    <tr>\n",
       "      <th>2</th>\n",
       "      <td>8</td>\n",
       "      <td>72882593</td>\n",
       "      <td>72874543</td>\n",
       "      <td>-1</td>\n",
       "    </tr>\n",
       "    <tr>\n",
       "      <th>3</th>\n",
       "      <td>8</td>\n",
       "      <td>72154468</td>\n",
       "      <td>72146429</td>\n",
       "      <td>-1</td>\n",
       "    </tr>\n",
       "    <tr>\n",
       "      <th>4</th>\n",
       "      <td>8</td>\n",
       "      <td>91557655</td>\n",
       "      <td>91565704</td>\n",
       "      <td>1</td>\n",
       "    </tr>\n",
       "  </tbody>\n",
       "</table>\n",
       "</div>"
      ],
      "text/plain": [
       "  Chr      Start        End  Strand\n",
       "0   8  134077776  134069730      -1\n",
       "1   8  128460023  128451975      -1\n",
       "2   8   72882593   72874543      -1\n",
       "3   8   72154468   72146429      -1\n",
       "4   8   91557655   91565704       1"
      ]
     },
     "execution_count": 68,
     "metadata": {},
     "output_type": "execute_result"
    }
   ],
   "source": [
    "l1base_df = pd.read_excel('../../data/l1base/l1base.xlsx')\n",
    "l1base_list = []\n",
    "\n",
    "for index, row in l1base_df.iterrows():\n",
    "    l1base_list.append([row[0], row[1], row[2], row[5]])\n",
    "\n",
    "l1base_df = pd.DataFrame(l1base_list, columns=headers)\n",
    "l1base_df.head(5)"
   ]
  },
  {
   "cell_type": "code",
   "execution_count": 69,
   "metadata": {},
   "outputs": [],
   "source": [
    "class Probe:\n",
    "    \"\"\"\n",
    "    Holds Illumina 450k probe info for a single CpG site.\n",
    "    \"\"\"\n",
    "    def __init__(self):\n",
    "        self.id = None\n",
    "        self. seq = None\n",
    "        self.name = None\n",
    "        self.chr = None\n",
    "        self.cord = None\n",
    "        self.strand = None\n",
    "        self.gene = None\n",
    "        self.refseq = None\n",
    "        self.tour = None\n",
    "        self.loc = None\n",
    "        \n",
    "class Interval:\n",
    "    \"\"\"\n",
    "    Define a genomic interval by chromsome and strand orientation.\n",
    "    \"\"\"\n",
    "    def __init__(self, chromosome, start, end, strand):\n",
    "        self.chr = chromosome\n",
    "        self.start = start\n",
    "        self.end = end\n",
    "        self.strand = strand\n",
    "\n",
    "class Location:\n",
    "    \"\"\"\n",
    "    Define a Probe location.\n",
    "    \"\"\"\n",
    "    BODY = \"Body\"\n",
    "    TSS200 = \"TSS200\"\n",
    "    TSS1500 = \"TSS1500\"\n",
    "    UTR5 = \"5'UTR\"\n",
    "    UTR3 = \"3'UTR\"\n",
    "    EXON = \"Exon\"\n",
    "\n",
    "class CpG_location:\n",
    "    \"\"\"\n",
    "    Defines a CpG location.\n",
    "    \"\"\"\n",
    "    ISLAND = \"Island\"\n",
    "    NSHORE = \"N_Shore\"\n",
    "    SSHORE = \"S_Shore\"\n",
    "    NSHELF = \"N_Shelf\"\n",
    "    SSHELF = \"S_Shelf\"\n",
    "    \n",
    "class SNP:\n",
    "    \"\"\"\n",
    "    Defines the SNPs in probes. Used to filter probes.\n",
    "    \"\"\"\n",
    "\n",
    "    def __init__(self):\n",
    "        self.probeid = None\n",
    "        self.snpid = None"
   ]
  },
  {
   "cell_type": "code",
   "execution_count": 70,
   "metadata": {},
   "outputs": [],
   "source": [
    "import os\n",
    "\n",
    "anno_file = os.path.abspath(\"../../data/config.ini\") # Illumina probe manifest. Note: This (large) file is not \n",
    "                                                     # in the repository.\n",
    "    \n",
    "class Annotate_450k:\n",
    "    \"\"\"\n",
    "    Parse and hold information about Illumina probes.\n",
    "    \"\"\"\n",
    "\n",
    "    def __init__(self):        \n",
    "        for i in open(anno_file, mode=\"r\"):\n",
    "            self.ann = os.path.join(\"../../data/\", i.strip(\"\\n\").strip(\"\\r\"))\n",
    "\n",
    "        self.probe = {}\n",
    "        self.__run__()\n",
    "\n",
    "    def __run__(self):\n",
    "        \"\"\"\n",
    "        A static function to setup the Probe classes.\n",
    "        \"\"\"\n",
    "        for i in open(self.ann, mode=\"r\"):\n",
    "            if i.startswith(\"cg\"):\n",
    "                data = i.split(\",\")\n",
    "                # Assign probe information.\n",
    "                new_probe = Probe()\n",
    "                new_probe.id = data[0]\n",
    "                new_probe.name = data[1]\n",
    "                new_probe.seq = data[13]\n",
    "                new_probe.chr = str(data[11])\n",
    "                new_probe.cord = int(data[12])\n",
    "                new_probe.strand = data[16]\n",
    "                new_probe.gene = data[21].split(\";\")\n",
    "                new_probe.refseq = data[22]\n",
    "                locs = data[23].split(\";\")\n",
    "                list_locs = []\n",
    "                for i in locs:\n",
    "                    if i not in list_locs:\n",
    "                        list_locs.append(i)\n",
    "\n",
    "                new_probe.loc = list_locs\n",
    "\n",
    "                new_probe.tour = data[25]\n",
    "                newcpg = {new_probe.id: new_probe}\n",
    "                self.probe.update(newcpg)\n",
    "\n",
    "    def get_probe(self, probe_id): #WORKS\n",
    "        \"\"\"\n",
    "        Return probe info associated with an reference.\n",
    "        \"\"\"\n",
    "        try:\n",
    "            probe = self.probe[probe_id]\n",
    "        except Exception as ex:\n",
    "            probe = None\n",
    "            print(\"WARNING: No probe with ref-id of %s found.\" % probe_id)\n",
    "        return probe\n",
    "\n",
    "    def get_all_probes(self):\n",
    "        \"\"\"\n",
    "        Return list of all probes.\n",
    "        \"\"\"\n",
    "        probe_list = []\n",
    "        for probe in self.probe.keys():\n",
    "            probe_list.append(self.get_probe(probe))\n",
    "        return probe_list\n",
    "    \n",
    "    def get_probes_by_list(self, list_of_ids):\n",
    "        \"\"\"\n",
    "        Return a list of probes from a list of references.\n",
    "        \"\"\"\n",
    "        out_list = []\n",
    "        for probe_id in list_of_ids:\n",
    "            out_list.append(self.get_probe(probe_id))\n",
    "\n",
    "        return out_list\n",
    "    \n",
    "    def get_probe_refs_by_gene(self, gene_name):\n",
    "        \"\"\"\n",
    "        Get all probe references associated with a gene.\n",
    "        \"\"\"\n",
    "        probes = {k: self.probe[k] for k in self.probe if gene_name in self.probe[k].gene}\n",
    "        return self.get_keys(probes.keys())\n",
    "\n",
    "    def get_probe_refs_by_location(self, probe_loc):\n",
    "        \"\"\"\n",
    "        Get all probe references associated with a genomic location.\n",
    "        \"\"\"\n",
    "        probes = {k: self.probe[k] for k in self.probe if probe_loc in self.probe[k].loc}\n",
    "        return self.get_keys(probes.keys())\n",
    "\n",
    "    def get_keys(self, dic_keys):\n",
    "        \"\"\"\n",
    "        Get Probe reference from probe dictionaries.\n",
    "        \"\"\"\n",
    "        l = []\n",
    "        for i in dic_keys:\n",
    "            l.append(i)\n",
    "        return l\n",
    "\n",
    "    def get_probes_by_gene(self, gene_name):\n",
    "        \"\"\"\n",
    "        Return list of probes for an associated gene.\n",
    "        \"\"\"\n",
    "        return self.get_probes_by_list(self.get_probe_refs_by_gene(gene_name))\n",
    "\n",
    "    def get_probes_by_location(self, loc):\n",
    "        \"\"\"\n",
    "        Return list of probes from genomic location.\n",
    "        \"\"\"\n",
    "        return self.get_probes_by_list(self.get_probe_refs_by_location(loc))\n",
    "\n",
    "    def get_probes_by_cpg(self, cpg_loc):\n",
    "        \"\"\"\n",
    "        Get a list probes from cpg location.\n",
    "        FIXME\n",
    "        \"\"\"\n",
    "        return self.get_probes_by_list(self.get_probes_by_cpg(cpg_loc))\n",
    "\n",
    "    def get_probes_by_chr(self, chr_loc):\n",
    "        \"\"\"\n",
    "        Get a list of probes within a certain genomic region\n",
    "        FIXME\n",
    "        \"\"\"\n",
    "        print (chr_loc.chr)\n",
    "        probes = {k: self.probe[k] for k in self.probe if\n",
    "                  self.probe[k].chr == chr_loc.chr}\n",
    "\n",
    "    def get_probes_by_chr_and_loc(self, chr_loc):\n",
    "        \"\"\"\n",
    "        Get a list of probes within a certain genomic region\n",
    "        FIXME\n",
    "        \"\"\"\n",
    "        chrom = chr_loc.chr\n",
    "        start = int(chr_loc.start)\n",
    "        end = int(chr_loc.end)\n",
    "        \n",
    "        #print (chrom, start, stop)\n",
    "\n",
    "        probes = {k: self.probe[k] for k in self.probe if\n",
    "                  self.probe[k].chr == chrom and start < self.probe[k].cord < end}\n",
    "        return probes\n",
    "\n",
    "    def get_probe_keys_by_chr_and_loc(self, chr_loc):\n",
    "        \"\"\"\n",
    "        Get a list of probe reference *keys* within a genomic region\n",
    "        FIXME\n",
    "        \"\"\"\n",
    "        probes = self.get_probes_by_chr_and_loc(chr_loc)\n",
    "        return self.get_keys(probes)\n",
    "\n",
    "    def get_number(self):\n",
    "        \"\"\"\n",
    "        Return total number of probes.\n",
    "        \"\"\"\n",
    "        number = 0\n",
    "        for probe_id in self.probe.keys():\n",
    "            number += 1\n",
    "\n",
    "        return number\n",
    "\n",
    "    def get_coord(self, probe):\n",
    "        \"\"\"\n",
    "        Get genomic coordinate of a single probe.\n",
    "        \"\"\"\n",
    "        return probe.cord\n",
    "    \n",
    "    def get_sorted_probes_by_id(self):\n",
    "        \"\"\"\n",
    "        Sort probes according to probe id.\n",
    "        \"\"\"\n",
    "        sorted_keys = sorted(list(self.probe.keys()))\n",
    "        return sorted_keys\n",
    "    \n",
    "    def get_sorted_probes_by_chr(self):\n",
    "        \"\"\"\n",
    "        Sort probes according to probe id.\n",
    "        \"\"\"\n",
    "        return sorted(self.get_all_probes(), key=lambda x: x.chr)\n",
    "    \n",
    "    def remove_snp_probes(self):\n",
    "        \"\"\"\n",
    "        Removes all SNPs associated with probes.\n",
    "        \"\"\"\n",
    "        snp_list = []\n",
    "        snp_file = open(\"../../data/humanmethylation450_dbsnp137.snpupdate.table.v2.sorted.txt\", \"r\")\n",
    "        for line in snp_file:\n",
    "            if line.startswith(\"cg\"):\n",
    "                line = line.strip(\"\\n\").strip(\"\\r\").split(\"\\t\")\n",
    "                new_snp = SNP()\n",
    "                new_snp.probeid = line[0]\n",
    "                new_snp.snpid = line[1]\n",
    "                snp_list.append(new_snp)\n",
    "\n",
    "        for snp in snp_list:\n",
    "            self.probe.pop(snp.probeid)"
   ]
  },
  {
   "cell_type": "code",
   "execution_count": 71,
   "metadata": {},
   "outputs": [
    {
     "data": {
      "text/plain": [
       "482421"
      ]
     },
     "execution_count": 71,
     "metadata": {},
     "output_type": "execute_result"
    }
   ],
   "source": [
    "annotate = Annotate_450k() # create annotation object containing *all* 450k probes \n",
    "annotate.get_number()"
   ]
  },
  {
   "cell_type": "code",
   "execution_count": 81,
   "metadata": {},
   "outputs": [
    {
     "data": {
      "text/plain": [
       "9363356"
      ]
     },
     "execution_count": 81,
     "metadata": {},
     "output_type": "execute_result"
    }
   ],
   "source": [
    "cg00050873 = annotate.probe['cg00050873']\n",
    "cg00050873.cord"
   ]
  },
  {
   "cell_type": "code",
   "execution_count": 58,
   "metadata": {},
   "outputs": [
    {
     "data": {
      "text/plain": [
       "210294"
      ]
     },
     "execution_count": 58,
     "metadata": {},
     "output_type": "execute_result"
    }
   ],
   "source": [
    "annotate.remove_snp_probes()\n",
    "all_probes = annotate.get_all_probes()\n",
    "annotate.get_number()"
   ]
  },
  {
   "cell_type": "code",
   "execution_count": 59,
   "metadata": {},
   "outputs": [
    {
     "data": {
      "text/plain": [
       "('cg00000029', 'cg27666046')"
      ]
     },
     "execution_count": 59,
     "metadata": {},
     "output_type": "execute_result"
    }
   ],
   "source": [
    "sorted_keys = annotate.get_sorted_probes_by_id()\n",
    "sorted_keys[0], sorted_keys[210293]"
   ]
  },
  {
   "cell_type": "code",
   "execution_count": 60,
   "metadata": {},
   "outputs": [],
   "source": [
    "cg00000029 = annotate.get_probe(sorted_keys[0])\n",
    "cg27666046 = annotate.get_probe(sorted_keys[210293])"
   ]
  },
  {
   "cell_type": "code",
   "execution_count": 61,
   "metadata": {},
   "outputs": [
    {
     "data": {
      "text/plain": [
       "(53468112, 80279077, 'N_Shore')"
      ]
     },
     "execution_count": 61,
     "metadata": {},
     "output_type": "execute_result"
    }
   ],
   "source": [
    "cg00000029.cord, cg27666046.cord, cg00000029.tour"
   ]
  },
  {
   "cell_type": "code",
   "execution_count": 51,
   "metadata": {},
   "outputs": [
    {
     "ename": "NameError",
     "evalue": "name 'annotate' is not defined",
     "output_type": "error",
     "traceback": [
      "\u001b[0;31m---------------------------------------------------------------------------\u001b[0m",
      "\u001b[0;31mNameError\u001b[0m                                 Traceback (most recent call last)",
      "\u001b[0;32m<ipython-input-51-e42823f2d765>\u001b[0m in \u001b[0;36m<module>\u001b[0;34m\u001b[0m\n\u001b[0;32m----> 1\u001b[0;31m \u001b[0mprobe_list\u001b[0m \u001b[0;34m=\u001b[0m \u001b[0mannotate\u001b[0m\u001b[0;34m.\u001b[0m\u001b[0mget_probes_by_list\u001b[0m\u001b[0;34m(\u001b[0m\u001b[0msorted_keys\u001b[0m\u001b[0;34m[\u001b[0m\u001b[0;36m0\u001b[0m\u001b[0;34m:\u001b[0m\u001b[0;36m5\u001b[0m\u001b[0;34m]\u001b[0m\u001b[0;34m)\u001b[0m \u001b[0;31m# get first 5 probes\u001b[0m\u001b[0;34m\u001b[0m\u001b[0;34m\u001b[0m\u001b[0m\n\u001b[0m\u001b[1;32m      2\u001b[0m \u001b[0;32mfor\u001b[0m \u001b[0mprobe\u001b[0m \u001b[0;32min\u001b[0m \u001b[0mprobe_list\u001b[0m\u001b[0;34m:\u001b[0m \u001b[0;31m# sorting on probe id does not follow by chr in an expected way.\u001b[0m\u001b[0;34m\u001b[0m\u001b[0;34m\u001b[0m\u001b[0m\n\u001b[1;32m      3\u001b[0m     \u001b[0mprint\u001b[0m \u001b[0;34m(\u001b[0m\u001b[0;34m'ID: {p}, Chr: {c}'\u001b[0m\u001b[0;34m.\u001b[0m\u001b[0mformat\u001b[0m\u001b[0;34m(\u001b[0m\u001b[0mp\u001b[0m\u001b[0;34m=\u001b[0m\u001b[0mprobe\u001b[0m\u001b[0;34m.\u001b[0m\u001b[0mid\u001b[0m\u001b[0;34m,\u001b[0m \u001b[0mc\u001b[0m\u001b[0;34m=\u001b[0m\u001b[0mprobe\u001b[0m\u001b[0;34m.\u001b[0m\u001b[0mchr\u001b[0m\u001b[0;34m)\u001b[0m\u001b[0;34m)\u001b[0m\u001b[0;34m\u001b[0m\u001b[0;34m\u001b[0m\u001b[0m\n",
      "\u001b[0;31mNameError\u001b[0m: name 'annotate' is not defined"
     ]
    }
   ],
   "source": [
    "probe_list = annotate.get_probes_by_list(sorted_keys[0:5]) # get first 5 probes\n",
    "for probe in probe_list: # sorting on probe id does not follow by chr in an expected way. \n",
    "    print ('ID: {p}, Chr: {c}'.format(p=probe.id, c=probe.chr)) "
   ]
  },
  {
   "cell_type": "code",
   "execution_count": 16,
   "metadata": {},
   "outputs": [
    {
     "data": {
      "text/plain": [
       "(91194674, 220863462)"
      ]
     },
     "execution_count": 16,
     "metadata": {},
     "output_type": "execute_result"
    }
   ],
   "source": [
    "sorted_by_chr = annotate.get_sorted_probes_by_chr()\n",
    "chromosome1 = sorted_by_chr[0:46566] # huh?\n",
    "chromosome1[0].cord, chromosome1[46565].cord"
   ]
  },
  {
   "cell_type": "code",
   "execution_count": 44,
   "metadata": {},
   "outputs": [
    {
     "data": {
      "text/plain": [
       "'cg08603125'"
      ]
     },
     "execution_count": 44,
     "metadata": {},
     "output_type": "execute_result"
    }
   ],
   "source": [
    "# Return probes in the vicinity of a gene\n",
    "probe_refs = annotate.get_probe_refs_by_gene('SRPK1')\n",
    "probe_refs[0]"
   ]
  },
  {
   "cell_type": "code",
   "execution_count": 46,
   "metadata": {},
   "outputs": [
    {
     "name": "stdout",
     "output_type": "stream",
     "text": [
      "SRPK1 probe found on Chr 6.\n"
     ]
    }
   ],
   "source": [
    "# Return probes in vicinity of a gene (i.e. SRPK1)\n",
    "probes_from_gene = annotate.get_probes_by_gene('SRPK1')\n",
    "print ('SRPK1 probe found on Chr {p}.'.format(p=probes_from_gene[0].chr))"
   ]
  },
  {
   "cell_type": "code",
   "execution_count": 47,
   "metadata": {},
   "outputs": [],
   "source": [
    "# Return probes in vicinity of a feature (i.e. BODY, TSS200, TSS1500, UTR5, UTR3)\n",
    "BODY_probes = annotate.get_probes_by_location(Location.BODY) # \n",
    "TSS200_probes = annotate.get_probes_by_location(Location.TSS200) #\n",
    "TSS1500_probes = annotate.get_probes_by_location(Location.TSS1500) #\n",
    "UTR3_probes = annotate.get_probes_by_location(Location.UTR3) #\n",
    "UTR5_probes = annotate.get_probes_by_location(Location.UTR5) #"
   ]
  },
  {
   "cell_type": "code",
   "execution_count": 48,
   "metadata": {},
   "outputs": [
    {
     "name": "stdout",
     "output_type": "stream",
     "text": [
      "67322 42499 33318 32853 8011\n"
     ]
    }
   ],
   "source": [
    "print (len(BODY_probes), len(TSS1500_probes), len(UTR5_probes), len(TSS200_probes), len(UTR3_probes))"
   ]
  },
  {
   "cell_type": "code",
   "execution_count": 22,
   "metadata": {},
   "outputs": [],
   "source": [
    "df_short = meth_df.head(5) # short list, for testing \n",
    "methyl_probe_dict = {}\n",
    "\n",
    "for index, row in df_short.iterrows():\n",
    "    methyl_probe_dict[row[0]] = annotate.probe.get(row[0]) # row[0] == 'cg00000029' i.e. key value\n",
    "    setattr(methyl_probe_dict[row[0]], 'LUSC_tumor_beta',  row[1]) # add spreadsheet attributes \n",
    "    setattr(methyl_probe_dict[row[0]], 'LUSC_normal_beta', row[2]) # from TCGA-DATA-COMBINED.xlsx...\n",
    "    setattr(methyl_probe_dict[row[0]], 'COAD_tumor_beta',  row[3])\n",
    "    setattr(methyl_probe_dict[row[0]], 'COAD_normal_beta', row[4])\n",
    "    setattr(methyl_probe_dict[row[0]], 'GBM_tumor_beta',   row[5])\n",
    "    setattr(methyl_probe_dict[row[0]], 'GBM_normal_beta',  row[6])"
   ]
  },
  {
   "cell_type": "code",
   "execution_count": 23,
   "metadata": {},
   "outputs": [],
   "source": [
    "cg00000292 = methyl_probe_dict['cg00000292'] # get a 'methyl' probe by name"
   ]
  },
  {
   "cell_type": "code",
   "execution_count": 24,
   "metadata": {},
   "outputs": [
    {
     "data": {
      "text/plain": [
       "['COAD_normal_beta',\n",
       " 'COAD_tumor_beta',\n",
       " 'GBM_normal_beta',\n",
       " 'GBM_tumor_beta',\n",
       " 'LUSC_normal_beta',\n",
       " 'LUSC_tumor_beta',\n",
       " 'chr',\n",
       " 'cord',\n",
       " 'gene',\n",
       " 'id',\n",
       " 'loc',\n",
       " 'name',\n",
       " 'refseq',\n",
       " 'seq',\n",
       " 'strand',\n",
       " 'tour']"
      ]
     },
     "execution_count": 24,
     "metadata": {},
     "output_type": "execute_result"
    }
   ],
   "source": [
    "[a for a in dir(cg00000292) if not a.startswith('__')] # list attributes of a single probe, including our data"
   ]
  },
  {
   "cell_type": "code",
   "execution_count": 25,
   "metadata": {},
   "outputs": [
    {
     "data": {
      "text/plain": [
       "(28890100, 'NM_004320;NM_173201', 0.667273112085446, 0.599161178855325)"
      ]
     },
     "execution_count": 25,
     "metadata": {},
     "output_type": "execute_result"
    }
   ],
   "source": [
    "cg00000292.cord, cg00000292.refseq, cg00000292.COAD_tumor_beta, cg00000292.COAD_normal_beta"
   ]
  },
  {
   "cell_type": "code",
   "execution_count": null,
   "metadata": {},
   "outputs": [],
   "source": [
    "srips_start = eul1db_srip_df['Start'] # get the SRIP series as a list of locations. \n",
    "for val in srips_start.tolist():\n",
    "    "
   ]
  },
  {
   "cell_type": "code",
   "execution_count": 26,
   "metadata": {},
   "outputs": [
    {
     "data": {
      "text/plain": [
       "<Figure size 400x300 with 1 Axes>"
      ]
     },
     "metadata": {},
     "output_type": "display_data"
    },
    {
     "data": {
      "text/plain": [
       "<Figure size 400x300 with 1 Axes>"
      ]
     },
     "metadata": {},
     "output_type": "display_data"
    }
   ],
   "source": [
    "import matplotlib.pyplot as plt \n",
    "\n",
    "plt.figure(figsize=(4, 3))\n",
    "meth_df.boxplot(column=['GBM_tumor', 'GBM_normal'])\n",
    "\n",
    "# Boxplot of the difference\n",
    "plt.figure(figsize=(4, 3))\n",
    "plt.boxplot(meth_df['GBM_normal'] - meth_df['GBM_tumor'])\n",
    "plt.xticks((1, ), ('GBM_normal - GBM_tumor', ))\n",
    "\n",
    "plt.show()"
   ]
  },
  {
   "cell_type": "markdown",
   "metadata": {},
   "source": [
    "The three paired box plots are to test (the dataset is small) however the expected trend is observed: in GBM glioblastoma (above) there is no difference in methylation of CpGs in tumor compared to normal tissue."
   ]
  },
  {
   "cell_type": "code",
   "execution_count": 27,
   "metadata": {},
   "outputs": [
    {
     "data": {
      "image/png": "[encoded data removed]",
      "text/plain": [
       "<Figure size 288x216 with 1 Axes>"
      ]
     },
     "metadata": {
      "needs_background": "light"
     },
     "output_type": "display_data"
    },
    {
     "data": {
      "image/png": "[encoded data removed]",
      "text/plain": [
       "<Figure size 288x216 with 1 Axes>"
      ]
     },
     "metadata": {
      "needs_background": "light"
     },
     "output_type": "display_data"
    }
   ],
   "source": [
    "import matplotlib.pyplot as plt\n",
    "\n",
    "# Box plot of LUSC_tumor and LUSC_normal\n",
    "plt.figure(figsize=(4, 3))\n",
    "meth_df.boxplot(column=['LUSC_tumor', 'LUSC_normal'])\n",
    "\n",
    "# Boxplot of the difference\n",
    "plt.figure(figsize=(4, 3))\n",
    "plt.boxplot(meth_df['LUSC_normal'] - meth_df['LUSC_tumor'])\n",
    "plt.xticks((1, ), ('LUSC_normal - LUSC_tumor', ))\n",
    "\n",
    "plt.show()"
   ]
  },
  {
   "cell_type": "markdown",
   "metadata": {},
   "source": [
    "In lung squamous cell carcinoma (above) there is only a nominal rise."
   ]
  },
  {
   "cell_type": "code",
   "execution_count": 206,
   "metadata": {},
   "outputs": [
    {
     "data": {
      "image/png": "[encoded data removed]",
      "text/plain": [
       "<Figure size 288x216 with 1 Axes>"
      ]
     },
     "metadata": {
      "needs_background": "light"
     },
     "output_type": "display_data"
    },
    {
     "data": {
      "image/png": "[encoded data removed]",
      "text/plain": [
       "<Figure size 288x216 with 1 Axes>"
      ]
     },
     "metadata": {
      "needs_background": "light"
     },
     "output_type": "display_data"
    }
   ],
   "source": [
    "plt.close('all')\n",
    "\n",
    "plt.figure(figsize=(4, 3))\n",
    "meth_df.boxplot(column=['COAD_tumor', 'COAD_normal'])\n",
    "\n",
    "# Boxplot of the difference\n",
    "plt.figure(figsize=(4, 3))\n",
    "plt.boxplot(meth_df['COAD_normal'] - meth_df['COAD_tumor'])\n",
    "plt.xticks((1, ), ('COAD_normal - COAD_tumor', ))\n",
    "\n",
    "plt.show()"
   ]
  },
  {
   "cell_type": "markdown",
   "metadata": {},
   "source": [
    "In colorectal cancers 600-800 genes are transcriptionally-silenced by CpG island methylation compared to normal tissue. Transcriptional silencing may be more important than mutation in causing gene silencing in progression to cancer.\n",
    "\n",
    "About 70% of human promoters located near the transcription start site of a gene contain a CpG island."
   ]
  },
  {
   "cell_type": "code",
   "execution_count": null,
   "metadata": {},
   "outputs": [],
   "source": [
    "# Try subclassing...\n",
    "\n",
    "class LUSCProbe (Probe):\n",
    "    def __init__ (self):\n",
    "        super().__init__()\n",
    "        self.LUSC_tumor = None\n",
    "        #print('LUSC_tumor')\n",
    "\n",
    "class GBMProbe (Probe):\n",
    "    def __init__ (self):\n",
    "        super().__init__()\n",
    "        self.GBM_tumor = None\n",
    "        #print('GBM_tumor')\n",
    "\n",
    "class COADProbe (Probe):\n",
    "    def __init__ (self):\n",
    "        super().__init__()\n",
    "        self.COAD_tumor = None\n",
    "        #print('COAD_tumor')\n",
    "        \n",
    "class BunchDict(dict):\n",
    "    def __init__(self,**kw):\n",
    "        dict.__init__(self,kw)\n",
    "        self.__dict__.update(kw)"
   ]
  },
  {
   "cell_type": "markdown",
   "metadata": {},
   "source": [
    "```pre\n",
    "4 \t169522534 \t169514488 \t-1\n",
    "4 \t136300550 \t136292503 \t-1\n",
    "4 \t93645340 \t93637294 \t-1\n",
    "4 \t90682759 \t90674713 \t-1\n",
    "4 \t74724589 \t74716542 \t-1\n",
    "4 \t21158389 \t21166435 \t1\n",
    "4 \t59077843 \t59085891 \t1\n",
    "4 \t78346978 \t78355029 \t1\n",
    "\n",
    "6 \t156360250 \t156368290 \t1\n",
    "6 \t133027748 \t133019702 \t-1\n",
    "6 \t72995688 \t72987641 \t-1\n",
    "6 \t24818709 \t24810663 \t-1\n",
    "6 \t2424805 \t2416758 \t-1\n",
    "\n",
    "11 \t24326949 \t24334995 \t1\n",
    "11 \t60531157 \t60539204 \t1\n",
    "11 \t93135637 \t93143687 \t1\n",
    "11 \t93419971 \t93428022 \t1\n",
    "11 \t95435214 \t95443260 \t1\n",
    "11 \t109184528 \t109176481 \t-1\n",
    "11 \t90407101 \t90399050 \t-1\n",
    "11 \t78684806 \t78676759 \t-1\n",
    "\n",
    "16 \t63387072 \t63395120 \t1\n",
    "16 \t83636249 \t83644311 \t1\n",
    "16 \t33959614 \t33951564 \t-1\n",
    "16 \t21049705 \t21041661 \t-1\n",
    "16 \t18828286 \t18820240 \t-1\n",
    "16 \t16847570 \t16839523 \t-1\n",
    "16 \t9591524 \t9583477 \t-1\n",
    "\n",
    "15 \t54933102 \t54925054 \t-1\n",
    "15 \t70728652 \t70736174 \t1\n",
    "15 \t71173133 \t71181170 \t1\n",
    "15 \t87508887 \t87516934 \t1\n",
    "15 \t93674398 \t93682446 \t1\n",
    "```"
   ]
  }
 ],
 "metadata": {
  "kernelspec": {
   "display_name": "Python 3",
   "language": "python",
   "name": "python3"
  },
  "language_info": {
   "codemirror_mode": {
    "name": "ipython",
    "version": 3
   },
   "file_extension": ".py",
   "mimetype": "text/x-python",
   "name": "python",
   "nbconvert_exporter": "python",
   "pygments_lexer": "ipython3",
   "version": "3.6.8"
  }
 },
 "nbformat": 4,
 "nbformat_minor": 2
}
